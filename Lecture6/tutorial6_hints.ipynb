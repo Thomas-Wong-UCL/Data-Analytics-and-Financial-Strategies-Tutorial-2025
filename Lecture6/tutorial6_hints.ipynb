{
  "nbformat": 4,
  "nbformat_minor": 0,
  "metadata": {
    "colab": {
      "provenance": []
    },
    "kernelspec": {
      "name": "python3",
      "display_name": "Python 3"
    },
    "language_info": {
      "name": "python"
    }
  },
  "cells": [
    {
      "cell_type": "code",
      "source": [
        "pip install PyPortfolioOpt"
      ],
      "metadata": {
        "colab": {
          "base_uri": "https://localhost:8080/"
        },
        "id": "bq4AwD7ZsWq5",
        "outputId": "9c8ab508-9813-44dc-97c4-6915281cbf8c"
      },
      "execution_count": 2,
      "outputs": [
        {
          "output_type": "stream",
          "name": "stdout",
          "text": [
            "Collecting PyPortfolioOpt\n",
            "  Downloading pyportfolioopt-1.5.6-py3-none-any.whl.metadata (22 kB)\n",
            "Requirement already satisfied: cvxpy>=1.1.19 in /usr/local/lib/python3.11/dist-packages (from PyPortfolioOpt) (1.6.0)\n",
            "Collecting ecos<3.0.0,>=2.0.14 (from PyPortfolioOpt)\n",
            "  Downloading ecos-2.0.14-cp311-cp311-manylinux_2_17_x86_64.manylinux2014_x86_64.whl.metadata (8.0 kB)\n",
            "Requirement already satisfied: numpy>=1.26.0 in /usr/local/lib/python3.11/dist-packages (from PyPortfolioOpt) (1.26.4)\n",
            "Requirement already satisfied: pandas>=0.19 in /usr/local/lib/python3.11/dist-packages (from PyPortfolioOpt) (2.2.2)\n",
            "Requirement already satisfied: plotly<6.0.0,>=5.0.0 in /usr/local/lib/python3.11/dist-packages (from PyPortfolioOpt) (5.24.1)\n",
            "Requirement already satisfied: scipy>=1.3 in /usr/local/lib/python3.11/dist-packages (from PyPortfolioOpt) (1.13.1)\n",
            "Requirement already satisfied: osqp>=0.6.2 in /usr/local/lib/python3.11/dist-packages (from cvxpy>=1.1.19->PyPortfolioOpt) (0.6.7.post3)\n",
            "Requirement already satisfied: clarabel>=0.5.0 in /usr/local/lib/python3.11/dist-packages (from cvxpy>=1.1.19->PyPortfolioOpt) (0.10.0)\n",
            "Requirement already satisfied: scs>=3.2.4.post1 in /usr/local/lib/python3.11/dist-packages (from cvxpy>=1.1.19->PyPortfolioOpt) (3.2.7.post2)\n",
            "Requirement already satisfied: python-dateutil>=2.8.2 in /usr/local/lib/python3.11/dist-packages (from pandas>=0.19->PyPortfolioOpt) (2.8.2)\n",
            "Requirement already satisfied: pytz>=2020.1 in /usr/local/lib/python3.11/dist-packages (from pandas>=0.19->PyPortfolioOpt) (2025.1)\n",
            "Requirement already satisfied: tzdata>=2022.7 in /usr/local/lib/python3.11/dist-packages (from pandas>=0.19->PyPortfolioOpt) (2025.1)\n",
            "Requirement already satisfied: tenacity>=6.2.0 in /usr/local/lib/python3.11/dist-packages (from plotly<6.0.0,>=5.0.0->PyPortfolioOpt) (9.0.0)\n",
            "Requirement already satisfied: packaging in /usr/local/lib/python3.11/dist-packages (from plotly<6.0.0,>=5.0.0->PyPortfolioOpt) (24.2)\n",
            "Requirement already satisfied: qdldl in /usr/local/lib/python3.11/dist-packages (from osqp>=0.6.2->cvxpy>=1.1.19->PyPortfolioOpt) (0.1.7.post5)\n",
            "Requirement already satisfied: six>=1.5 in /usr/local/lib/python3.11/dist-packages (from python-dateutil>=2.8.2->pandas>=0.19->PyPortfolioOpt) (1.17.0)\n",
            "Downloading pyportfolioopt-1.5.6-py3-none-any.whl (62 kB)\n",
            "\u001b[2K   \u001b[90m━━━━━━━━━━━━━━━━━━━━━━━━━━━━━━━━━━━━━━━━\u001b[0m \u001b[32m62.7/62.7 kB\u001b[0m \u001b[31m2.3 MB/s\u001b[0m eta \u001b[36m0:00:00\u001b[0m\n",
            "\u001b[?25hDownloading ecos-2.0.14-cp311-cp311-manylinux_2_17_x86_64.manylinux2014_x86_64.whl (220 kB)\n",
            "\u001b[2K   \u001b[90m━━━━━━━━━━━━━━━━━━━━━━━━━━━━━━━━━━━━━━━━\u001b[0m \u001b[32m220.1/220.1 kB\u001b[0m \u001b[31m7.6 MB/s\u001b[0m eta \u001b[36m0:00:00\u001b[0m\n",
            "\u001b[?25hInstalling collected packages: ecos, PyPortfolioOpt\n",
            "Successfully installed PyPortfolioOpt-1.5.6 ecos-2.0.14\n"
          ]
        }
      ]
    },
    {
      "cell_type": "code",
      "execution_count": 3,
      "metadata": {
        "id": "v42Ljyl5nOy8"
      },
      "outputs": [],
      "source": [
        "import yfinance as yf\n",
        "import pandas as pd\n",
        "import numpy as np\n",
        "import cvxpy as cp\n",
        "from pypfopt import EfficientFrontier, risk_models, expected_returns, EfficientCVaR"
      ]
    },
    {
      "cell_type": "code",
      "source": [
        "tickers = [\n",
        "    \"AAPL\", \"MSFT\", \"GOOG\", \"BRK-B\", \"JPM\", \"JNJ\",\n",
        "    \"V\", \"PG\", \"UNH\", \"HD\", \"MA\", \"BAC\", \"VZ\",\n",
        "    \"ADBE\", \"CMCSA\", \"T\", \"INTC\", \"CSCO\", \"PFE\", \"CRM\", \"ABT\", \"TMO\",\n",
        "    \"CVX\", \"MRK\", \"ORCL\", \"KO\", \"ACN\", \"MCD\", \"NKE\", \"WMT\", \"NEE\",\n",
        "    \"IBM\", \"TXN\", \"COST\", \"LIN\", \"SBUX\", \"PM\", \"LOW\", \"QCOM\", \"BMY\"\n",
        "]\n",
        "\n",
        "riskfree = 0.05\n",
        "\n",
        "# Download historical adjusted close prices (2020-2025)\n",
        "data = yf.download(tickers, start=\"2015-01-01\", end=\"2025-01-01\")[\"Close\"]\n",
        "data = data.dropna(axis=1)  # Remove any tickers with missing data\n",
        "\n",
        "# Split data into training (in-sample) and testing (out-of-sample) periods.\n",
        "# In-sample: 2020-01-01 to 2023-01-01; Out-of-sample: 2023-01-02 to 2025-01-01\n",
        "train_data = data.loc[\"2015-01-01\":\"2023-01-01\"]\n",
        "test_data = data.loc[\"2023-01-02\":\"2025-01-01\"]\n",
        "\n",
        "# Calculate expected returns and covariance matrix from the training data.\n",
        "mu_train = expected_returns.mean_historical_return(train_data)\n",
        "S_train = risk_models.sample_cov(train_data)\n",
        "\n",
        "with open('tickers.txt', 'w') as f:\n",
        "    for ticker in tickers:\n",
        "        f.write(ticker + '\\n')"
      ],
      "metadata": {
        "colab": {
          "base_uri": "https://localhost:8080/"
        },
        "id": "kFvDenMIsBmK",
        "outputId": "99fcd4c1-4f49-432e-fa94-0b8ecec205f0"
      },
      "execution_count": 4,
      "outputs": [
        {
          "output_type": "stream",
          "name": "stderr",
          "text": [
            "[*********************100%***********************]  40 of 40 completed\n"
          ]
        }
      ]
    },
    {
      "cell_type": "code",
      "source": [
        "#For the efficientFrontier function in the package pypfopt (see for more additional information: https://pyportfolioopt.readthedocs.io/en/latest/MeanVariance.html?highlight=efficientfrontier)\n",
        "#In the documentation mu = expected returns, S = cov_matrix, weight_bounds = the minimum and maximum weight of each asset OR single min/max pair if all identical, defaults to (0, 1). Must be changed to (-1, 1) for portfolios with shorting.\n",
        "\n",
        "ef = EfficientFrontier(mu, S, weight_bounds=(0, 1))\n",
        "\n",
        "#The function ef.max_sharpe(risk_free_rate=riskfree) finds the maximum sharpe ratio\n",
        "objective == 'max_sharpe':\n",
        "weights = ef.max_sharpe(risk_free_rate=riskfree)\n",
        "ret_train, vol_train, sr_train = ef.portfolio_performance(verbose=False, risk_free_rate=riskfree)\n",
        "\n",
        "#For the EfficientCVaR (See for more information: https://pyportfolioopt.readthedocs.io/en/latest/GeneralEfficientFrontier.html?highlight=efficientcvar#efficient-cvar)\n",
        "#In the documentation mu = expected returns, train_data = returns\n",
        "#The function efficient_risk(target_cvar) = Maximise return for a target CVaR\n",
        "ef = EfficientCVaR(mu, train_data, beta=0.95, weight_bounds=(0, 1))\n",
        "weights = ef.efficient_risk(maxcvar)\n",
        "ret_train, vol_train = ef.portfolio_performance(verbose=False)"
      ],
      "metadata": {
        "id": "n9HSUUsKsdLi"
      },
      "execution_count": 5,
      "outputs": []
    },
    {
      "cell_type": "code",
      "source": [
        "#To add regularisation please see the section \"Adding objectives and constraints\" at https://pyportfolioopt.readthedocs.io/en/latest/MeanVariance.html?highlight=reg#adding-objectives-and-constraints\n",
        "ef.add_objective(lambda w: l2_reg * cp.sum_squares(w))"
      ],
      "metadata": {
        "id": "UMV5TgmM2dUr"
      },
      "execution_count": null,
      "outputs": []
    }
  ]
}