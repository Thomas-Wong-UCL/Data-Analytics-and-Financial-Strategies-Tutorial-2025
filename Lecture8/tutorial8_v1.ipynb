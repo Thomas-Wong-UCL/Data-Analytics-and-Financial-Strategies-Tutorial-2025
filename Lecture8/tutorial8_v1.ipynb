{
  "cells": [
    {
      "cell_type": "code",
      "source": [
        "pip install --upgrade yfinance==0.2.54"
      ],
      "metadata": {
        "colab": {
          "base_uri": "https://localhost:8080/"
        },
        "id": "nJVFVcwKVQI1",
        "outputId": "38ad3462-ed75-4bc3-f5dc-f32f476edf30"
      },
      "execution_count": 1,
      "outputs": [
        {
          "output_type": "stream",
          "name": "stdout",
          "text": [
            "Requirement already satisfied: yfinance==0.2.54 in /usr/local/lib/python3.11/dist-packages (0.2.54)\n",
            "Requirement already satisfied: pandas>=1.3.0 in /usr/local/lib/python3.11/dist-packages (from yfinance==0.2.54) (2.2.2)\n",
            "Requirement already satisfied: numpy>=1.16.5 in /usr/local/lib/python3.11/dist-packages (from yfinance==0.2.54) (1.26.4)\n",
            "Requirement already satisfied: requests>=2.31 in /usr/local/lib/python3.11/dist-packages (from yfinance==0.2.54) (2.32.3)\n",
            "Requirement already satisfied: multitasking>=0.0.7 in /usr/local/lib/python3.11/dist-packages (from yfinance==0.2.54) (0.0.11)\n",
            "Requirement already satisfied: platformdirs>=2.0.0 in /usr/local/lib/python3.11/dist-packages (from yfinance==0.2.54) (4.3.6)\n",
            "Requirement already satisfied: pytz>=2022.5 in /usr/local/lib/python3.11/dist-packages (from yfinance==0.2.54) (2025.1)\n",
            "Requirement already satisfied: frozendict>=2.3.4 in /usr/local/lib/python3.11/dist-packages (from yfinance==0.2.54) (2.4.6)\n",
            "Requirement already satisfied: peewee>=3.16.2 in /usr/local/lib/python3.11/dist-packages (from yfinance==0.2.54) (3.17.9)\n",
            "Requirement already satisfied: beautifulsoup4>=4.11.1 in /usr/local/lib/python3.11/dist-packages (from yfinance==0.2.54) (4.13.3)\n",
            "Requirement already satisfied: soupsieve>1.2 in /usr/local/lib/python3.11/dist-packages (from beautifulsoup4>=4.11.1->yfinance==0.2.54) (2.6)\n",
            "Requirement already satisfied: typing-extensions>=4.0.0 in /usr/local/lib/python3.11/dist-packages (from beautifulsoup4>=4.11.1->yfinance==0.2.54) (4.12.2)\n",
            "Requirement already satisfied: python-dateutil>=2.8.2 in /usr/local/lib/python3.11/dist-packages (from pandas>=1.3.0->yfinance==0.2.54) (2.8.2)\n",
            "Requirement already satisfied: tzdata>=2022.7 in /usr/local/lib/python3.11/dist-packages (from pandas>=1.3.0->yfinance==0.2.54) (2025.1)\n",
            "Requirement already satisfied: charset-normalizer<4,>=2 in /usr/local/lib/python3.11/dist-packages (from requests>=2.31->yfinance==0.2.54) (3.4.1)\n",
            "Requirement already satisfied: idna<4,>=2.5 in /usr/local/lib/python3.11/dist-packages (from requests>=2.31->yfinance==0.2.54) (3.10)\n",
            "Requirement already satisfied: urllib3<3,>=1.21.1 in /usr/local/lib/python3.11/dist-packages (from requests>=2.31->yfinance==0.2.54) (2.3.0)\n",
            "Requirement already satisfied: certifi>=2017.4.17 in /usr/local/lib/python3.11/dist-packages (from requests>=2.31->yfinance==0.2.54) (2025.1.31)\n",
            "Requirement already satisfied: six>=1.5 in /usr/local/lib/python3.11/dist-packages (from python-dateutil>=2.8.2->pandas>=1.3.0->yfinance==0.2.54) (1.17.0)\n"
          ]
        }
      ]
    },
    {
      "cell_type": "code",
      "source": [
        "pip install PyPortfolioOpt"
      ],
      "metadata": {
        "colab": {
          "base_uri": "https://localhost:8080/"
        },
        "id": "01yDeXo8Vo9o",
        "outputId": "7f861804-e958-4312-e6b0-48cb24cf64bb"
      },
      "execution_count": 3,
      "outputs": [
        {
          "output_type": "stream",
          "name": "stdout",
          "text": [
            "Collecting PyPortfolioOpt\n",
            "  Downloading pyportfolioopt-1.5.6-py3-none-any.whl.metadata (22 kB)\n",
            "Requirement already satisfied: cvxpy>=1.1.19 in /usr/local/lib/python3.11/dist-packages (from PyPortfolioOpt) (1.6.2)\n",
            "Collecting ecos<3.0.0,>=2.0.14 (from PyPortfolioOpt)\n",
            "  Downloading ecos-2.0.14-cp311-cp311-manylinux_2_17_x86_64.manylinux2014_x86_64.whl.metadata (8.0 kB)\n",
            "Requirement already satisfied: numpy>=1.26.0 in /usr/local/lib/python3.11/dist-packages (from PyPortfolioOpt) (1.26.4)\n",
            "Requirement already satisfied: pandas>=0.19 in /usr/local/lib/python3.11/dist-packages (from PyPortfolioOpt) (2.2.2)\n",
            "Requirement already satisfied: plotly<6.0.0,>=5.0.0 in /usr/local/lib/python3.11/dist-packages (from PyPortfolioOpt) (5.24.1)\n",
            "Requirement already satisfied: scipy>=1.3 in /usr/local/lib/python3.11/dist-packages (from PyPortfolioOpt) (1.13.1)\n",
            "Requirement already satisfied: osqp>=0.6.2 in /usr/local/lib/python3.11/dist-packages (from cvxpy>=1.1.19->PyPortfolioOpt) (0.6.7.post3)\n",
            "Requirement already satisfied: clarabel>=0.5.0 in /usr/local/lib/python3.11/dist-packages (from cvxpy>=1.1.19->PyPortfolioOpt) (0.10.0)\n",
            "Requirement already satisfied: scs>=3.2.4.post1 in /usr/local/lib/python3.11/dist-packages (from cvxpy>=1.1.19->PyPortfolioOpt) (3.2.7.post2)\n",
            "Requirement already satisfied: python-dateutil>=2.8.2 in /usr/local/lib/python3.11/dist-packages (from pandas>=0.19->PyPortfolioOpt) (2.8.2)\n",
            "Requirement already satisfied: pytz>=2020.1 in /usr/local/lib/python3.11/dist-packages (from pandas>=0.19->PyPortfolioOpt) (2025.1)\n",
            "Requirement already satisfied: tzdata>=2022.7 in /usr/local/lib/python3.11/dist-packages (from pandas>=0.19->PyPortfolioOpt) (2025.1)\n",
            "Requirement already satisfied: tenacity>=6.2.0 in /usr/local/lib/python3.11/dist-packages (from plotly<6.0.0,>=5.0.0->PyPortfolioOpt) (9.0.0)\n",
            "Requirement already satisfied: packaging in /usr/local/lib/python3.11/dist-packages (from plotly<6.0.0,>=5.0.0->PyPortfolioOpt) (24.2)\n",
            "Requirement already satisfied: qdldl in /usr/local/lib/python3.11/dist-packages (from osqp>=0.6.2->cvxpy>=1.1.19->PyPortfolioOpt) (0.1.7.post5)\n",
            "Requirement already satisfied: six>=1.5 in /usr/local/lib/python3.11/dist-packages (from python-dateutil>=2.8.2->pandas>=0.19->PyPortfolioOpt) (1.17.0)\n",
            "Downloading pyportfolioopt-1.5.6-py3-none-any.whl (62 kB)\n",
            "\u001b[2K   \u001b[90m━━━━━━━━━━━━━━━━━━━━━━━━━━━━━━━━━━━━━━━━\u001b[0m \u001b[32m62.7/62.7 kB\u001b[0m \u001b[31m4.5 MB/s\u001b[0m eta \u001b[36m0:00:00\u001b[0m\n",
            "\u001b[?25hDownloading ecos-2.0.14-cp311-cp311-manylinux_2_17_x86_64.manylinux2014_x86_64.whl (220 kB)\n",
            "\u001b[2K   \u001b[90m━━━━━━━━━━━━━━━━━━━━━━━━━━━━━━━━━━━━━━━━\u001b[0m \u001b[32m220.1/220.1 kB\u001b[0m \u001b[31m11.5 MB/s\u001b[0m eta \u001b[36m0:00:00\u001b[0m\n",
            "\u001b[?25hInstalling collected packages: ecos, PyPortfolioOpt\n",
            "Successfully installed PyPortfolioOpt-1.5.6 ecos-2.0.14\n"
          ]
        }
      ]
    },
    {
      "cell_type": "code",
      "source": [
        "import yfinance as yf\n",
        "import pandas as pd\n",
        "import numpy as np\n",
        "import cvxpy as cp\n",
        "from pypfopt import EfficientFrontier, risk_models, expected_returns, EfficientCVaR, black_litterman\n",
        "from pypfopt.black_litterman import BlackLittermanModel"
      ],
      "metadata": {
        "id": "V7ywcBONViTO"
      },
      "execution_count": 16,
      "outputs": []
    },
    {
      "cell_type": "code",
      "execution_count": 49,
      "metadata": {
        "colab": {
          "base_uri": "https://localhost:8080/"
        },
        "id": "1KkKoNtmVM1b",
        "outputId": "5798b1a9-c5d7-4117-b7fb-b19a19fefaa6"
      },
      "outputs": [
        {
          "output_type": "stream",
          "name": "stderr",
          "text": [
            "[*********************100%***********************]  6 of 6 completed\n"
          ]
        }
      ],
      "source": [
        "# Define 50 tickers (note: 'FB' replaced by 'META')\n",
        "tickers = [\n",
        "    \"AAPL\", \"MSFT\", \"GOOG\", \"BRK-B\", \"JPM\", \"JNJ\"\n",
        "]\n",
        "\n",
        "riskfree = 0.05\n",
        "\n",
        "# Download historical adjusted close prices (2020-2025)\n",
        "data = yf.download(tickers, start=\"2015-01-01\", end=\"2025-01-01\")[\"Close\"]\n",
        "data = data.dropna(axis=1)  # Remove any tickers with missing data\n",
        "\n",
        "# Split data into training (in-sample) and testing (out-of-sample) periods.\n",
        "# In-sample: 2020-01-01 to 2023-01-01; Out-of-sample: 2023-01-02 to 2025-01-01\n",
        "train_data = data.loc[\"2015-01-01\":\"2023-01-01\"]\n",
        "test_data = data.loc[\"2023-01-02\":\"2025-01-01\"]"
      ]
    },
    {
      "cell_type": "code",
      "source": [
        "# Calculate expected returns and covariance matrix from the training data.\n",
        "S_train = risk_models.sample_cov(train_data)\n",
        "viewdict = {\"AAPL\": 0.1, \"MSFT\": 0.1, \"GOOG\": 0.1, \"BRK-B\": 0.1, \"JPM\": 0.1, \"JNJ\": 0.1}\n",
        "bl = BlackLittermanModel(S_train, absolute_views=viewdict) # Create BlackLittermanModel instance\n",
        "mu_train = bl.bl_returns() # Get the Black-Litterman expected returns as a numpy array\n",
        "print(mu_train)"
      ],
      "metadata": {
        "colab": {
          "base_uri": "https://localhost:8080/"
        },
        "id": "h9dkCz1jZ61n",
        "outputId": "6e63bd58-6d6c-4349-931b-16a24fd16397"
      },
      "execution_count": 54,
      "outputs": [
        {
          "output_type": "stream",
          "name": "stdout",
          "text": [
            "Ticker\n",
            "AAPL     0.085806\n",
            "BRK-B    0.073354\n",
            "GOOG     0.082228\n",
            "JNJ      0.064448\n",
            "JPM      0.086699\n",
            "MSFT     0.087517\n",
            "dtype: float64\n"
          ]
        }
      ]
    },
    {
      "cell_type": "code",
      "source": [
        "with open('tickers.txt', 'w') as f:\n",
        "    for ticker in tickers:\n",
        "        f.write(ticker + '\\n')"
      ],
      "metadata": {
        "id": "1v_1bdSlZOrW"
      },
      "execution_count": 55,
      "outputs": []
    },
    {
      "cell_type": "code",
      "execution_count": 56,
      "metadata": {
        "id": "KzUXolXBVM1e"
      },
      "outputs": [],
      "source": [
        "\n",
        "\n",
        "def optimize_portfolio(method, mu, S, riskfree, objective = 'max_sharpe', reg = 1e-2, expret = 0.1):\n",
        "    \"\"\"\n",
        "    Build an efficient frontier and add a custom objective/constraint\n",
        "    based on the regularization method.\n",
        "    \"\"\"\n",
        "    ef = EfficientFrontier(mu, S, weight_bounds=(0, 1))\n",
        "\n",
        "    if method == 'l1':\n",
        "        # L1 regularisation encourages sparsity.\n",
        "        l1_reg = reg\n",
        "        ef.add_objective(lambda w: l1_reg * cp.norm1(w))\n",
        "    elif method == 'l2':\n",
        "        # L2 regularisation penalizes large weights.\n",
        "        l2_reg = reg\n",
        "        ef.add_objective(lambda w: l2_reg * cp.sum_squares(w))\n",
        "    elif method == 'vanilla':\n",
        "        pass\n",
        "    else:\n",
        "        raise ValueError(\"Unknown method. Choose 'l1', 'l2', or 'diversification' or 'vanilla'.\")\n",
        "\n",
        "    if objective == 'max_sharpe':\n",
        "        weights = ef.max_sharpe(risk_free_rate=riskfree)\n",
        "        #weights = ef.efficient_return(0.1)\n",
        "        #cleaned_weights = ef.clean_weights()\n",
        "        # Get the in-sample portfolio performance (annual return, volatility, Sharpe ratio)\n",
        "        ret_train, vol_train, sr_train = ef.portfolio_performance(verbose=False, risk_free_rate=riskfree)\n",
        "        return weights, ret_train, vol_train, sr_train\n",
        "\n",
        "    elif objective == 'optvol':\n",
        "        weights = ef.efficient_return(expret)\n",
        "        ret_train, vol_train, sr_train = ef.portfolio_performance(verbose=False, risk_free_rate=riskfree)\n",
        "        return weights, ret_train, vol_train, sr_train\n",
        "\n",
        "def optimize_cvar(mu, train_data, maxcvar = 0.1, l2_reg = 1e-2):\n",
        "        ef = EfficientCVaR(mu, train_data, beta=0.95, weight_bounds=(0, 1))\n",
        "        ef.add_objective(lambda w: l2_reg * cp.sum_squares(w))\n",
        "        weights = ef.efficient_risk(maxcvar)\n",
        "        ret_train, vol_train = ef.portfolio_performance(verbose=False)\n",
        "        return weights, ret_train, vol_train\n",
        "\n",
        "\n",
        "def compute_out_of_sample_return(weights, test_data):\n",
        "    \"\"\"\n",
        "    Given a weights dictionary and test period price data, compute the realized\n",
        "    annualized portfolio return.\n",
        "    \"\"\"\n",
        "    # Convert weights dictionary to a Series (for proper alignment)\n",
        "    weights_series = pd.Series(weights)\n",
        "    # Compute daily returns for the test period.\n",
        "    test_returns = test_data.pct_change().dropna()\n",
        "    # Calculate the portfolio's daily return (aligned by tickers)\n",
        "    portfolio_daily_returns = (test_returns * weights_series).sum(axis=1)\n",
        "    # Annualize the return (assume 252 trading days)\n",
        "    realized_return = (1 + portfolio_daily_returns).prod() ** (252 / len(portfolio_daily_returns)) - 1\n",
        "    return realized_return\n"
      ]
    },
    {
      "cell_type": "code",
      "execution_count": 57,
      "metadata": {
        "colab": {
          "base_uri": "https://localhost:8080/"
        },
        "id": "VNDmFLSQVM1f",
        "outputId": "8909d5e0-8a09-4d10-f25a-04d30d215f30"
      },
      "outputs": [
        {
          "output_type": "stream",
          "name": "stdout",
          "text": [
            "Evaluating portfolio performance for different regularization methods:\n",
            "\n",
            "Method: vanilla\n",
            "  Optimized Weights: OrderedDict([('AAPL', 0.1665403721958118), ('BRK-B', 0.0), ('GOOG', 0.0403011680811109), ('JNJ', 0.0), ('JPM', 0.4246334610279978), ('MSFT', 0.3685249986950796)])\n",
            "  Expected (in-sample) annual return: 8.67%\n",
            "  Realized (out-of-sample) annual return: 38.93%\n",
            "  Absolute Difference: 30.26%\n",
            "  Regularization parameter: 0\n",
            "Method: l1\n",
            "  Optimized Weights: OrderedDict([('AAPL', 9.883265273e-07), ('BRK-B', 1.870322225e-07), ('GOOG', 7.804993124e-07), ('JNJ', -3.478110573e-07), ('JPM', 9.962381637e-07), ('MSFT', 0.9999973991138352)])\n",
            "  Expected (in-sample) annual return: 8.75%\n",
            "  Realized (out-of-sample) annual return: 33.96%\n",
            "  Absolute Difference: 25.20%\n",
            "  Regularization parameter: 100.0\n",
            "Method: l2\n",
            "  Optimized Weights: OrderedDict([('AAPL', 0.1988495599072251), ('BRK-B', 0.1296963552910806), ('GOOG', 0.1789561504458888), ('JNJ', 0.080222488285034), ('JPM', 0.2038936070202921), ('MSFT', 0.2083818390504794)])\n",
            "  Expected (in-sample) annual return: 8.24%\n",
            "  Realized (out-of-sample) annual return: 34.60%\n",
            "  Absolute Difference: 26.36%\n",
            "  Regularization parameter: 100.0\n",
            "l1 is the best method\n",
            "  Absolute Difference: 26.36%\n",
            "  Regularization parameter: 100.0\n",
            "l1 is the best method\n"
          ]
        }
      ],
      "source": [
        "import warnings\n",
        "warnings.filterwarnings('ignore')\n",
        "# List of regularization methods to evaluate.\n",
        "methods = ['vanilla', 'l1', 'l2']\n",
        "results = {}\n",
        "\n",
        "print(\"Evaluating portfolio performance for different regularization methods:\\n\")\n",
        "for method in methods:\n",
        "    mindiff = 1000\n",
        "    regs = np.logspace(-5, 2, num=100) if method != 'vanilla' else [0]\n",
        "    for reg in regs:\n",
        "        weights, exp_return, vol, sr = optimize_portfolio(method, mu_train, S_train, riskfree=riskfree, reg=reg, objective='max_sharpe', expret=0.2)\n",
        "        realized_return = compute_out_of_sample_return(weights, test_data)\n",
        "        diff = abs(exp_return - realized_return)\n",
        "        #print((reg, diff))\n",
        "\n",
        "        if diff < mindiff:\n",
        "            results[method] = {'expected_return': exp_return,\n",
        "                            'realized_return': realized_return,\n",
        "                            'difference': diff,\n",
        "                            'weights': weights,\n",
        "                            'reg': reg}\n",
        "            mindiff = diff\n",
        "\n",
        "    print(f\"Method: {method}\")\n",
        "    print(f\"  Optimized Weights: {results[method]['weights']}\")\n",
        "    print(f\"  Expected (in-sample) annual return: {results[method]['expected_return']:.2%}\")\n",
        "    print(f\"  Realized (out-of-sample) annual return: {results[method]['realized_return']:.2%}\")\n",
        "    print(f\"  Absolute Difference: {mindiff:.2%}\")\n",
        "    print(f\"  Regularization parameter: {results[method]['reg']}\")\n",
        "\n",
        "# Determine the method with the smallest difference.\n",
        "best_method = min(results, key=lambda m: results[m]['difference'])\n",
        "\n",
        "print(best_method, \"is the best method\")\n",
        "print(f\"  Absolute Difference: {mindiff:.2%}\")\n",
        "print(f\"  Regularization parameter: {results[method]['reg']}\")\n",
        "\n",
        "# Determine the method with the smallest difference.\n",
        "best_method = min(results, key=lambda m: results[m]['difference'])\n",
        "\n",
        "print(best_method, \"is the best method\")"
      ]
    },
    {
      "cell_type": "code",
      "execution_count": 58,
      "metadata": {
        "id": "mA_WET-dVM1f"
      },
      "outputs": [],
      "source": [
        "weights_vanilla, exp_return_vanilla, cvar_vanilla = optimize_cvar(mu_train, train_data, maxcvar = 0.03, l2_reg=0)\n",
        "realized_return_vanilla = compute_out_of_sample_return(weights_vanilla, test_data)\n",
        "diff_vanilla = abs(exp_return_vanilla - realized_return_vanilla)"
      ]
    },
    {
      "cell_type": "code",
      "execution_count": 59,
      "metadata": {
        "id": "25AjHu31VM1f"
      },
      "outputs": [],
      "source": [
        "regs = np.logspace(-1, 2, num=100)\n",
        "mindiff = 1000\n",
        "\n",
        "for reg in regs:\n",
        "    weights, exp_return, cvar = optimize_cvar(mu_train, train_data, maxcvar = 0.03, l2_reg=reg)\n",
        "    realized_return = compute_out_of_sample_return(weights, test_data)\n",
        "    diff = abs(exp_return - realized_return)\n",
        "    #print((reg, diff))\n",
        "\n",
        "    if diff < mindiff:\n",
        "        results = {'expected_return': exp_return,\n",
        "                        'realized_return': realized_return,\n",
        "                        'difference': diff,\n",
        "                        'weights': weights,\n",
        "                        'reg': reg}\n",
        "        mindiff = diff"
      ]
    },
    {
      "cell_type": "code",
      "execution_count": 60,
      "metadata": {
        "colab": {
          "base_uri": "https://localhost:8080/"
        },
        "id": "1HQb2PhjVM1f",
        "outputId": "a5636a76-7d17-41ae-c863-ddcaf261ce4e"
      },
      "outputs": [
        {
          "output_type": "stream",
          "name": "stdout",
          "text": [
            "  Optimized Weights: OrderedDict([('AAPL', 0.1666956533422822), ('BRK-B', 0.1666333959147198), ('GOOG', 0.166677762689284), ('JNJ', 0.1665888614855804), ('JPM', 0.1667001192144062), ('MSFT', 0.1667042073537274)])\n",
            "  Expected (in-sample) annual return: 8.00%\n",
            "  Realized (out-of-sample) annual return: 29.39%\n",
            "  Regularization parameter: 100.0\n",
            "  Absolute Difference: 21.39%\n",
            "\n",
            "  Absolute Difference (Vanilla method): 25.23%\n"
          ]
        }
      ],
      "source": [
        "print(f\"  Optimized Weights: {results['weights']}\")\n",
        "print(f\"  Expected (in-sample) annual return: {results['expected_return']:.2%}\")\n",
        "print(f\"  Realized (out-of-sample) annual return: {results['realized_return']:.2%}\")\n",
        "print(f\"  Regularization parameter: {results['reg']}\")\n",
        "print(f\"  Absolute Difference: {mindiff:.2%}\\n\")\n",
        "print(f\"  Absolute Difference (Vanilla method): {diff_vanilla:.2%}\")"
      ]
    }
  ],
  "metadata": {
    "kernelspec": {
      "display_name": "base",
      "language": "python",
      "name": "python3"
    },
    "language_info": {
      "codemirror_mode": {
        "name": "ipython",
        "version": 3
      },
      "file_extension": ".py",
      "mimetype": "text/x-python",
      "name": "python",
      "nbconvert_exporter": "python",
      "pygments_lexer": "ipython3",
      "version": "3.12.2"
    },
    "colab": {
      "provenance": []
    }
  },
  "nbformat": 4,
  "nbformat_minor": 0
}