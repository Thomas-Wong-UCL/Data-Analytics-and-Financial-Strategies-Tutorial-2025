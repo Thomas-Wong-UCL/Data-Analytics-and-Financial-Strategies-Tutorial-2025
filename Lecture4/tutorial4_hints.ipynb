{
 "cells": [
  {
   "cell_type": "code",
   "execution_count": 1,
   "metadata": {},
   "outputs": [],
   "source": [
    "import yfinance as yf\n",
    "import pandas as pd\n",
    "import numpy as np\n",
    "from arch import arch_model\n",
    "import matplotlib.pyplot as plt\n",
    "from tabulate import tabulate\n",
    "from statsmodels.graphics.tsaplots import plot_acf, plot_pacf\n",
    "from statsmodels.tsa.stattools import acf, pacf"
   ]
  },
  {
   "cell_type": "code",
   "execution_count": null,
   "metadata": {},
   "outputs": [],
   "source": [
    "# Download Intel data from Yahoo Finance\n",
    "intc_data = yf.download(\"INTC\", start=\"2005-01-01\", end=\"2024-11-26\", interval=\"1wk\")"
   ]
  },
  {
   "cell_type": "code",
   "execution_count": null,
   "metadata": {},
   "outputs": [],
   "source": [
    "# Fit the GARCH model on the complete dataset\n",
    "model = arch_model(returns, mean=\"Constant\", lags=0, vol=\"GARCH\", p=1, q=1, dist=\"normal\")\n",
    "res = model.fit(disp='off')\n",
    "# Extract the conditional volatility values\n",
    "cond_vol = res.conditional_volatility\n",
    "\n",
    "# -----------------------------\n",
    "# Get the AIC from the model\n",
    "aic = res.aic"
   ]
  },
  {
   "cell_type": "code",
   "execution_count": null,
   "metadata": {},
   "outputs": [],
   "source": [
    "# Obtain forecasts from the model. If the model is EGARCH, use the simulation method\n",
    "\n",
    "if vol == 'EGARCH':\n",
    "    forecast = res.forecast(horizon=1, method='simulation', simulations=500, reindex=False)\n",
    "else:\n",
    "    forecast = res.forecast(horizon=1, reindex=False)"
   ]
  },
  {
   "cell_type": "code",
   "execution_count": null,
   "metadata": {},
   "outputs": [],
   "source": [
    "import numpy as np\n",
    "from scipy.stats import norm\n",
    "\n",
    "def black_scholes(S, K, T, r, sigma, option_type=\"call\"):\n",
    "    \"\"\"\n",
    "    Prices a European call or put option using the Black-Scholes formula.\n",
    "    \n",
    "    Parameters:\n",
    "    S : float : Current stock price\n",
    "    K : float : Strike price\n",
    "    T : float : Time to expiration (in years)\n",
    "    r : float : Risk-free interest rate (annualized)\n",
    "    sigma : float : Volatility of the underlying asset (annualized)\n",
    "    option_type : str : \"call\" for call option, \"put\" for put option\n",
    "    \n",
    "    Returns:\n",
    "    float : Option price\n",
    "    \"\"\"\n",
    "    d1 = (np.log(S / K) + (r + 0.5 * sigma ** 2) * T) / (sigma * np.sqrt(T))\n",
    "    d2 = d1 - sigma * np.sqrt(T)\n",
    "    \n",
    "    if option_type == \"call\":\n",
    "        price = S * norm.cdf(d1) - K * np.exp(-r * T) * norm.cdf(d2)\n",
    "    elif option_type == \"put\":\n",
    "        price = K * np.exp(-r * T) * norm.cdf(-d2) - S * norm.cdf(-d1)\n",
    "    else:\n",
    "        raise ValueError(\"Invalid option type. Choose 'call' or 'put'.\")\n",
    "    \n",
    "    return price"
   ]
  },
  {
   "cell_type": "code",
   "execution_count": null,
   "metadata": {},
   "outputs": [],
   "source": []
  }
 ],
 "metadata": {
  "kernelspec": {
   "display_name": "base",
   "language": "python",
   "name": "python3"
  },
  "language_info": {
   "codemirror_mode": {
    "name": "ipython",
    "version": 3
   },
   "file_extension": ".py",
   "mimetype": "text/x-python",
   "name": "python",
   "nbconvert_exporter": "python",
   "pygments_lexer": "ipython3",
   "version": "3.12.2"
  }
 },
 "nbformat": 4,
 "nbformat_minor": 2
}
