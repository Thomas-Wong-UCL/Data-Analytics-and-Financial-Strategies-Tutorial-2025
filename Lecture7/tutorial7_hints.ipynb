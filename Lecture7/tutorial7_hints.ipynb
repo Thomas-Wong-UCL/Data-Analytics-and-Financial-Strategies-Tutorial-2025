{
  "nbformat": 4,
  "nbformat_minor": 0,
  "metadata": {
    "colab": {
      "provenance": []
    },
    "kernelspec": {
      "name": "python3",
      "display_name": "Python 3"
    },
    "language_info": {
      "name": "python"
    }
  },
  "cells": [
    {
      "cell_type": "code",
      "execution_count": 1,
      "metadata": {
        "colab": {
          "base_uri": "https://localhost:8080/"
        },
        "id": "GVbDpifhf_iI",
        "outputId": "b0eaee6f-c6fa-4a9c-efa7-2e38652d47f2"
      },
      "outputs": [
        {
          "output_type": "stream",
          "name": "stdout",
          "text": [
            "Requirement already satisfied: yfinance==0.2.54 in /usr/local/lib/python3.11/dist-packages (0.2.54)\n",
            "Requirement already satisfied: pandas>=1.3.0 in /usr/local/lib/python3.11/dist-packages (from yfinance==0.2.54) (2.2.2)\n",
            "Requirement already satisfied: numpy>=1.16.5 in /usr/local/lib/python3.11/dist-packages (from yfinance==0.2.54) (1.26.4)\n",
            "Requirement already satisfied: requests>=2.31 in /usr/local/lib/python3.11/dist-packages (from yfinance==0.2.54) (2.32.3)\n",
            "Requirement already satisfied: multitasking>=0.0.7 in /usr/local/lib/python3.11/dist-packages (from yfinance==0.2.54) (0.0.11)\n",
            "Requirement already satisfied: platformdirs>=2.0.0 in /usr/local/lib/python3.11/dist-packages (from yfinance==0.2.54) (4.3.6)\n",
            "Requirement already satisfied: pytz>=2022.5 in /usr/local/lib/python3.11/dist-packages (from yfinance==0.2.54) (2025.1)\n",
            "Requirement already satisfied: frozendict>=2.3.4 in /usr/local/lib/python3.11/dist-packages (from yfinance==0.2.54) (2.4.6)\n",
            "Requirement already satisfied: peewee>=3.16.2 in /usr/local/lib/python3.11/dist-packages (from yfinance==0.2.54) (3.17.9)\n",
            "Requirement already satisfied: beautifulsoup4>=4.11.1 in /usr/local/lib/python3.11/dist-packages (from yfinance==0.2.54) (4.13.3)\n",
            "Requirement already satisfied: soupsieve>1.2 in /usr/local/lib/python3.11/dist-packages (from beautifulsoup4>=4.11.1->yfinance==0.2.54) (2.6)\n",
            "Requirement already satisfied: typing-extensions>=4.0.0 in /usr/local/lib/python3.11/dist-packages (from beautifulsoup4>=4.11.1->yfinance==0.2.54) (4.12.2)\n",
            "Requirement already satisfied: python-dateutil>=2.8.2 in /usr/local/lib/python3.11/dist-packages (from pandas>=1.3.0->yfinance==0.2.54) (2.8.2)\n",
            "Requirement already satisfied: tzdata>=2022.7 in /usr/local/lib/python3.11/dist-packages (from pandas>=1.3.0->yfinance==0.2.54) (2025.1)\n",
            "Requirement already satisfied: charset-normalizer<4,>=2 in /usr/local/lib/python3.11/dist-packages (from requests>=2.31->yfinance==0.2.54) (3.4.1)\n",
            "Requirement already satisfied: idna<4,>=2.5 in /usr/local/lib/python3.11/dist-packages (from requests>=2.31->yfinance==0.2.54) (3.10)\n",
            "Requirement already satisfied: urllib3<3,>=1.21.1 in /usr/local/lib/python3.11/dist-packages (from requests>=2.31->yfinance==0.2.54) (2.3.0)\n",
            "Requirement already satisfied: certifi>=2017.4.17 in /usr/local/lib/python3.11/dist-packages (from requests>=2.31->yfinance==0.2.54) (2025.1.31)\n",
            "Requirement already satisfied: six>=1.5 in /usr/local/lib/python3.11/dist-packages (from python-dateutil>=2.8.2->pandas>=1.3.0->yfinance==0.2.54) (1.17.0)\n"
          ]
        }
      ],
      "source": [
        "pip install --upgrade yfinance==0.2.54"
      ]
    },
    {
      "cell_type": "code",
      "source": [
        "pip install arch"
      ],
      "metadata": {
        "colab": {
          "base_uri": "https://localhost:8080/"
        },
        "id": "pglM3FAygJ2_",
        "outputId": "5ac36504-3a37-4972-90d6-6f198ae579a2"
      },
      "execution_count": 2,
      "outputs": [
        {
          "output_type": "stream",
          "name": "stdout",
          "text": [
            "Collecting arch\n",
            "  Downloading arch-7.2.0-cp311-cp311-manylinux_2_17_x86_64.manylinux2014_x86_64.whl.metadata (13 kB)\n",
            "Requirement already satisfied: numpy>=1.22.3 in /usr/local/lib/python3.11/dist-packages (from arch) (1.26.4)\n",
            "Requirement already satisfied: scipy>=1.8 in /usr/local/lib/python3.11/dist-packages (from arch) (1.13.1)\n",
            "Requirement already satisfied: pandas>=1.4 in /usr/local/lib/python3.11/dist-packages (from arch) (2.2.2)\n",
            "Requirement already satisfied: statsmodels>=0.12 in /usr/local/lib/python3.11/dist-packages (from arch) (0.14.4)\n",
            "Requirement already satisfied: python-dateutil>=2.8.2 in /usr/local/lib/python3.11/dist-packages (from pandas>=1.4->arch) (2.8.2)\n",
            "Requirement already satisfied: pytz>=2020.1 in /usr/local/lib/python3.11/dist-packages (from pandas>=1.4->arch) (2025.1)\n",
            "Requirement already satisfied: tzdata>=2022.7 in /usr/local/lib/python3.11/dist-packages (from pandas>=1.4->arch) (2025.1)\n",
            "Requirement already satisfied: patsy>=0.5.6 in /usr/local/lib/python3.11/dist-packages (from statsmodels>=0.12->arch) (1.0.1)\n",
            "Requirement already satisfied: packaging>=21.3 in /usr/local/lib/python3.11/dist-packages (from statsmodels>=0.12->arch) (24.2)\n",
            "Requirement already satisfied: six>=1.5 in /usr/local/lib/python3.11/dist-packages (from python-dateutil>=2.8.2->pandas>=1.4->arch) (1.17.0)\n",
            "Downloading arch-7.2.0-cp311-cp311-manylinux_2_17_x86_64.manylinux2014_x86_64.whl (985 kB)\n",
            "\u001b[2K   \u001b[90m━━━━━━━━━━━━━━━━━━━━━━━━━━━━━━━━━━━━━━━━\u001b[0m \u001b[32m985.3/985.3 kB\u001b[0m \u001b[31m13.4 MB/s\u001b[0m eta \u001b[36m0:00:00\u001b[0m\n",
            "\u001b[?25hInstalling collected packages: arch\n",
            "Successfully installed arch-7.2.0\n"
          ]
        }
      ]
    },
    {
      "cell_type": "code",
      "source": [
        "pip install scikit-learn"
      ],
      "metadata": {
        "colab": {
          "base_uri": "https://localhost:8080/"
        },
        "id": "5W6mEfWdgNDp",
        "outputId": "31b55817-282e-4b5a-de1b-4ded8bc47882"
      },
      "execution_count": 3,
      "outputs": [
        {
          "output_type": "stream",
          "name": "stdout",
          "text": [
            "Requirement already satisfied: scikit-learn in /usr/local/lib/python3.11/dist-packages (1.6.1)\n",
            "Requirement already satisfied: numpy>=1.19.5 in /usr/local/lib/python3.11/dist-packages (from scikit-learn) (1.26.4)\n",
            "Requirement already satisfied: scipy>=1.6.0 in /usr/local/lib/python3.11/dist-packages (from scikit-learn) (1.13.1)\n",
            "Requirement already satisfied: joblib>=1.2.0 in /usr/local/lib/python3.11/dist-packages (from scikit-learn) (1.4.2)\n",
            "Requirement already satisfied: threadpoolctl>=3.1.0 in /usr/local/lib/python3.11/dist-packages (from scikit-learn) (3.5.0)\n"
          ]
        }
      ]
    },
    {
      "cell_type": "code",
      "source": [
        "pip install pandas_datareader"
      ],
      "metadata": {
        "colab": {
          "base_uri": "https://localhost:8080/"
        },
        "id": "UKM160WMgPm-",
        "outputId": "9f2b1246-f242-4924-f72b-1cfa2af594b6"
      },
      "execution_count": 4,
      "outputs": [
        {
          "output_type": "stream",
          "name": "stdout",
          "text": [
            "Requirement already satisfied: pandas_datareader in /usr/local/lib/python3.11/dist-packages (0.10.0)\n",
            "Requirement already satisfied: lxml in /usr/local/lib/python3.11/dist-packages (from pandas_datareader) (5.3.1)\n",
            "Requirement already satisfied: pandas>=0.23 in /usr/local/lib/python3.11/dist-packages (from pandas_datareader) (2.2.2)\n",
            "Requirement already satisfied: requests>=2.19.0 in /usr/local/lib/python3.11/dist-packages (from pandas_datareader) (2.32.3)\n",
            "Requirement already satisfied: numpy>=1.23.2 in /usr/local/lib/python3.11/dist-packages (from pandas>=0.23->pandas_datareader) (1.26.4)\n",
            "Requirement already satisfied: python-dateutil>=2.8.2 in /usr/local/lib/python3.11/dist-packages (from pandas>=0.23->pandas_datareader) (2.8.2)\n",
            "Requirement already satisfied: pytz>=2020.1 in /usr/local/lib/python3.11/dist-packages (from pandas>=0.23->pandas_datareader) (2025.1)\n",
            "Requirement already satisfied: tzdata>=2022.7 in /usr/local/lib/python3.11/dist-packages (from pandas>=0.23->pandas_datareader) (2025.1)\n",
            "Requirement already satisfied: charset-normalizer<4,>=2 in /usr/local/lib/python3.11/dist-packages (from requests>=2.19.0->pandas_datareader) (3.4.1)\n",
            "Requirement already satisfied: idna<4,>=2.5 in /usr/local/lib/python3.11/dist-packages (from requests>=2.19.0->pandas_datareader) (3.10)\n",
            "Requirement already satisfied: urllib3<3,>=1.21.1 in /usr/local/lib/python3.11/dist-packages (from requests>=2.19.0->pandas_datareader) (2.3.0)\n",
            "Requirement already satisfied: certifi>=2017.4.17 in /usr/local/lib/python3.11/dist-packages (from requests>=2.19.0->pandas_datareader) (2025.1.31)\n",
            "Requirement already satisfied: six>=1.5 in /usr/local/lib/python3.11/dist-packages (from python-dateutil>=2.8.2->pandas>=0.23->pandas_datareader) (1.17.0)\n"
          ]
        }
      ]
    },
    {
      "cell_type": "code",
      "source": [
        "import yfinance as yf\n",
        "import pandas as pd\n",
        "from sklearn.decomposition import PCA\n",
        "from sklearn.linear_model import LinearRegression\n",
        "import numpy as np\n",
        "import statsmodels.api as sm  # for CAPM and Fama-French regressions\n",
        "import pandas_datareader\n",
        "import matplotlib.pyplot as plt\n",
        "from arch import arch_model\n",
        "import itertools"
      ],
      "metadata": {
        "id": "x57Gh72CgR17"
      },
      "execution_count": 5,
      "outputs": []
    },
    {
      "cell_type": "code",
      "source": [
        "# 1. Load Fama–French Factor Data\n",
        "\n",
        "ff = pd.read_csv('F-F_Research_Data_Factors.CSV', skiprows=4, header=0, names=['Date','Mkt-RF','SMB','HML','RF']) # Added names and header, skiprows to 4\n",
        "# Date is in yyyymmdd format, convert it:\n",
        "ff['Date'] = pd.to_datetime(ff['Date'], format='%Y%m')\n",
        "ff = ff.set_index('Date')\n",
        "# Convert factor returns from percentages to decimals\n",
        "ff = ff.astype(float) / 100"
      ],
      "metadata": {
        "id": "awkhtQOzgZ-4"
      },
      "execution_count": null,
      "outputs": []
    },
    {
      "cell_type": "code",
      "source": [
        "#2. Forecast Factors using optimal GARCH(1,1)\n",
        "#(Please multiply your ff (Farma-French) factors by 100 so it prevents a scaling error from GARCH predicitons)\n",
        "\n",
        "#2.1 You should do some data cleaning first on the factors ( dropna() )\n",
        "\n",
        "#2.2 Convert everything to log returns, try this format np.log(1 + \"your cleaned factors data\")\n",
        "\n",
        "#2.3 You will need to use the log returns to find the best GARCH parameters\n",
        "\n",
        "#These are the parameters you will be working with in the GARCH model\n",
        "#mean_models = ['Constant', 'AR']\n",
        "#vol_models = ['GARCH', 'EGARCH']\n",
        "#dists = ['normal', 't']\n",
        "\n",
        "#(You should create a function that loops through these paramters given your log returns and find the best combination of mean, vol and dists)\n",
        "# Check tutorial4 solution for this loop\n",
        "\n",
        "#2.4Forecast one period ahead (next month) and rescale them\n",
        "\n",
        "#(Note that the forecasted mean is on a 100x scale and variance on a 100^2 scale), so convert back to simple returns you should do something like:\n",
        "# next_day_mean_rescaled = np.exp(next_day_mean / 100) - 1, next_day_variance_rescaled = np.exp(next_day_variance / 100**2) - 1\n",
        "# next_day_mean and next_day_variance are the predicitons from your best fitted GAUCh model with the log reutrns\n"
      ],
      "metadata": {
        "id": "PxokXzgBhdF0"
      },
      "execution_count": null,
      "outputs": []
    },
    {
      "cell_type": "code",
      "source": [
        "# 3. Download Stock Data and Run Regressions\n",
        "\n",
        "tickers = [\"AAPL\", \"MSFT\", \"GOOG\", \"BRK-B\", \"JPM\", \"JNJ\", \"V\", \"PG\"]\n",
        "prices = yf.download(tickers, start='2009-12-31', end='2024-12-31', interval='1mo', auto_adjust=True)['Close']\n",
        "\n",
        "returns = prices.pct_change().dropna()\n",
        "\n",
        "# Align dates of stock returns and factor data\n",
        "common_dates = returns.index.intersection(ff.index)\n",
        "returns = returns.loc[common_dates]\n",
        "ff = ff.loc[common_dates]"
      ],
      "metadata": {
        "id": "HlSnx3X8lZpJ"
      },
      "execution_count": null,
      "outputs": []
    },
    {
      "cell_type": "code",
      "source": [
        "# 4. Run OLS regressions to estimate factor loadings and obtain residual variances.\n",
        "\n",
        "# Now you need to combine the tickers data with the ff (Farma-French) data\n",
        "\n",
        "# 4.1 To combine the data, create a pd.DataFrame which take the returns and join them with the ff factors\n",
        "\n",
        "#df = pd.DataFrame()\n",
        "#df.join(ff[['Mkt-RF', 'SMB', 'HML', 'RF']])\n",
        "\n",
        "# 4.2 Compute excess returns: r - RF\n",
        "\n",
        "# 4.3 We want to define variables for Regression. Below is the equation we are working with, our goal is the find the\n",
        "# alpha, beta 1,2 and 3\n",
        "\n",
        "# Note, to find the alpha and betas, use sm.OLS(y, X).fit(), which is a ordinary least squares, where y and X are matricies\n",
        " #(you should define them as matricies like: X = df[['A', 'B', 'C']]) and y = df['D']\n",
        "# which can be multiplied out to obtian the second equation (present in the lecture)\n",
        "\n",
        "# 4.4 print out the result of the alpha and betas"
      ],
      "metadata": {
        "id": "qdgpQ4H9yELD"
      },
      "execution_count": null,
      "outputs": []
    },
    {
      "cell_type": "markdown",
      "source": [
        "\\begin{equation}\n",
        "\\begin{aligned}\n",
        "y &= \\begin{pmatrix} r_1 - RF_1 \\\\ r_2 - RF_2 \\\\ \\vdots \\\\ r_T - RF_T \\end{pmatrix}, \\quad\n",
        "X = \\begin{pmatrix} 1 & (MktRF)_1 & (SMB)_1 & (HML)_1 \\\\ 1 & (MktRF)_2 & (SMB)_2 & (HML)_2 \\\\ \\vdots & \\vdots & \\vdots & \\vdots \\\\ 1 & (MktRF)_T & (SMB)_T & (HML)_T \\end{pmatrix}, \\\\[1ex]\n",
        "\\min_{\\beta}\\ & \\| y - X\\beta \\|^2, \\quad \\hat{\\beta} = (X^T X)^{-1} X^T y.\n",
        "\\end{aligned}\n",
        "\\tag{1}\n",
        "\\end{equation}\n",
        "\n",
        "\\begin{equation}\n",
        "r_t - RF_t = \\alpha + \\beta_1 (MktRF)_t + \\beta_2 (SMB)_t + \\beta_3 (HML)_t.\n",
        "\\tag{2}\n",
        "\\end{equation}"
      ],
      "metadata": {
        "id": "i0afYpmE2xtm"
      }
    },
    {
      "cell_type": "code",
      "source": [
        "# 5. Forecast Next Day Expected Returns (r_{i,t+1}), you keep the same alpha and betas and the last Risk-Free value and use the forecasted ff (Farma-French) factors\n",
        "# to make a predicition on the next day time-step return r at t+1. (Note that ff factors are forecasted for a month, but use that for the daily forecast as well)\n",
        "# Convert forecasted factor mean from 100x back to original scale by dividing by 100."
      ],
      "metadata": {
        "id": "uThU8avL6pER"
      },
      "execution_count": null,
      "outputs": []
    },
    {
      "cell_type": "markdown",
      "source": [
        "\\begin{equation}\n",
        "r_{t+1} - RF_{t} = \\alpha + \\beta_1 (MktRF)_{t+1} + \\beta_2 (SMB)_{t+1} + \\beta_3 (HML)_{t+1}.\n",
        "\\tag{3}\n",
        "\\end{equation}"
      ],
      "metadata": {
        "id": "3NUtyiNq7l8f"
      }
    },
    {
      "cell_type": "code",
      "source": [
        "# 6. Calculate Total Forecast Error Variance for r_{i,t+1}\n",
        "# Total variance = sum_j (beta_{ij}^2 * (sigma_{j, forecast}^2 / 100^2)) + sigma^2_reg,\n",
        "# where sigma^2_reg is the mean squared error (residual variance) from the regression\n",
        "# Convert forecasted variance from 100x scale back to original scale: divide by 100^2"
      ],
      "metadata": {
        "id": "fVABt3pl7mW0"
      },
      "execution_count": null,
      "outputs": []
    }
  ]
}