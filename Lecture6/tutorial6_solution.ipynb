{
 "cells": [
  {
   "cell_type": "code",
   "execution_count": 1,
   "metadata": {},
   "outputs": [
    {
     "name": "stdout",
     "output_type": "stream",
     "text": [
      "YF.download() has changed argument auto_adjust default to True\n"
     ]
    },
    {
     "name": "stderr",
     "output_type": "stream",
     "text": [
      "[*********************100%***********************]  40 of 40 completed\n"
     ]
    }
   ],
   "source": [
    "import yfinance as yf\n",
    "import pandas as pd\n",
    "import numpy as np\n",
    "import cvxpy as cp\n",
    "from pypfopt import EfficientFrontier, risk_models, expected_returns, EfficientCVaR\n",
    "\n",
    "# Define 50 tickers (note: 'FB' replaced by 'META')\n",
    "tickers = [\n",
    "    \"AAPL\", \"MSFT\", \"GOOG\", \"BRK-B\", \"JPM\", \"JNJ\",\n",
    "    \"V\", \"PG\", \"UNH\", \"HD\", \"MA\", \"BAC\", \"VZ\",\n",
    "    \"ADBE\", \"CMCSA\", \"T\", \"INTC\", \"CSCO\", \"PFE\", \"CRM\", \"ABT\", \"TMO\",\n",
    "    \"CVX\", \"MRK\", \"ORCL\", \"KO\", \"ACN\", \"MCD\", \"NKE\", \"WMT\", \"NEE\",\n",
    "    \"IBM\", \"TXN\", \"COST\", \"LIN\", \"SBUX\", \"PM\", \"LOW\", \"QCOM\", \"BMY\"\n",
    "]\n",
    "\n",
    "riskfree = 0.05\n",
    "\n",
    "# Download historical adjusted close prices (2020-2025)\n",
    "data = yf.download(tickers, start=\"2015-01-01\", end=\"2025-01-01\")[\"Close\"]\n",
    "data = data.dropna(axis=1)  # Remove any tickers with missing data\n",
    "\n",
    "# Split data into training (in-sample) and testing (out-of-sample) periods.\n",
    "# In-sample: 2020-01-01 to 2023-01-01; Out-of-sample: 2023-01-02 to 2025-01-01\n",
    "train_data = data.loc[\"2015-01-01\":\"2023-01-01\"]\n",
    "test_data = data.loc[\"2023-01-02\":\"2025-01-01\"]\n",
    "\n",
    "# Calculate expected returns and covariance matrix from the training data.\n",
    "mu_train = expected_returns.mean_historical_return(train_data)\n",
    "S_train = risk_models.sample_cov(train_data)\n",
    "\n",
    "with open('tickers.txt', 'w') as f:\n",
    "    for ticker in tickers:\n",
    "        f.write(ticker + '\\n')"
   ]
  },
  {
   "cell_type": "code",
   "execution_count": 2,
   "metadata": {},
   "outputs": [],
   "source": [
    "\n",
    "\n",
    "def optimize_portfolio(method, mu, S, riskfree, objective = 'max_sharpe', reg = 1e-2, expret = 0.1):\n",
    "    \"\"\"\n",
    "    Build an efficient frontier and add a custom objective/constraint\n",
    "    based on the regularization method.\n",
    "    \"\"\"\n",
    "    ef = EfficientFrontier(mu, S, weight_bounds=(0, 1))\n",
    "\n",
    "    if method == 'l1':\n",
    "        # L1 regularisation encourages sparsity.\n",
    "        l1_reg = reg\n",
    "        ef.add_objective(lambda w: l1_reg * cp.norm1(w))\n",
    "    elif method == 'l2':\n",
    "        # L2 regularisation penalizes large weights.\n",
    "        l2_reg = reg\n",
    "        ef.add_objective(lambda w: l2_reg * cp.sum_squares(w))\n",
    "    elif method == 'vanilla':\n",
    "        pass\n",
    "    else:\n",
    "        raise ValueError(\"Unknown method. Choose 'l1', 'l2', or 'diversification' or 'vanilla'.\")\n",
    "\n",
    "    if objective == 'max_sharpe':\n",
    "        weights = ef.max_sharpe(risk_free_rate=riskfree)\n",
    "        #weights = ef.efficient_return(0.1)\n",
    "        #cleaned_weights = ef.clean_weights()\n",
    "        # Get the in-sample portfolio performance (annual return, volatility, Sharpe ratio)\n",
    "        ret_train, vol_train, sr_train = ef.portfolio_performance(verbose=False, risk_free_rate=riskfree)\n",
    "        return weights, ret_train, vol_train, sr_train\n",
    "    \n",
    "    elif objective == 'optvol':\n",
    "        weights = ef.efficient_return(expret)\n",
    "        ret_train, vol_train, sr_train = ef.portfolio_performance(verbose=False, risk_free_rate=riskfree)\n",
    "        return weights, ret_train, vol_train, sr_train\n",
    "    \n",
    "def optimize_cvar(mu, train_data, maxcvar = 0.1, l2_reg = 1e-2):\n",
    "        ef = EfficientCVaR(mu, train_data, beta=0.95, weight_bounds=(0, 1))\n",
    "        ef.add_objective(lambda w: l2_reg * cp.sum_squares(w))\n",
    "        weights = ef.efficient_risk(maxcvar)\n",
    "        ret_train, vol_train = ef.portfolio_performance(verbose=False)\n",
    "        return weights, ret_train, vol_train\n",
    "\n",
    "\n",
    "def compute_out_of_sample_return(weights, test_data):\n",
    "    \"\"\"\n",
    "    Given a weights dictionary and test period price data, compute the realized\n",
    "    annualized portfolio return.\n",
    "    \"\"\"\n",
    "    # Convert weights dictionary to a Series (for proper alignment)\n",
    "    weights_series = pd.Series(weights)\n",
    "    # Compute daily returns for the test period.\n",
    "    test_returns = test_data.pct_change().dropna()\n",
    "    # Calculate the portfolio's daily return (aligned by tickers)\n",
    "    portfolio_daily_returns = (test_returns * weights_series).sum(axis=1)\n",
    "    # Annualize the return (assume 252 trading days)\n",
    "    realized_return = (1 + portfolio_daily_returns).prod() ** (252 / len(portfolio_daily_returns)) - 1\n",
    "    return realized_return\n"
   ]
  },
  {
   "cell_type": "code",
   "execution_count": 4,
   "metadata": {},
   "outputs": [
    {
     "name": "stdout",
     "output_type": "stream",
     "text": [
      "Evaluating portfolio performance for different regularization methods:\n",
      "\n",
      "Method: vanilla\n",
      "  Optimized Weights: OrderedDict({'AAPL': 0.0271253557970373, 'ABT': 0.0, 'ACN': 0.0, 'ADBE': 0.0, 'BAC': 0.0, 'BMY': 0.0, 'BRK-B': 0.0, 'CMCSA': 0.0, 'COST': 0.1587830871655542, 'CRM': 0.0, 'CSCO': 0.0, 'CVX': 0.0, 'GOOG': 0.0, 'HD': 0.0, 'IBM': 0.0, 'INTC': 0.0, 'JNJ': 0.0, 'JPM': 0.0, 'KO': 0.0, 'LIN': 0.0, 'LOW': 0.0, 'MA': 0.0, 'MCD': 0.076377837889138, 'MRK': 0.0, 'MSFT': 0.1790313166093607, 'NEE': 0.1361175965496113, 'NKE': 0.0, 'ORCL': 0.0, 'PFE': 0.0, 'PG': 0.0, 'PM': 0.0, 'QCOM': 0.0, 'SBUX': 0.0, 'T': 0.0, 'TMO': 0.075615450312436, 'TXN': 0.0, 'UNH': 0.3469493556768627, 'V': 0.0, 'VZ': 0.0, 'WMT': 0.0})\n",
      "  Expected (in-sample) annual return: 21.98%\n",
      "  Realized (out-of-sample) annual return: 14.63%\n",
      "  Absolute Difference: 7.35%\n",
      "  Regularization parameter: 0\n",
      "Method: l1\n",
      "  Optimized Weights: OrderedDict({'AAPL': 0.0271158676660409, 'ABT': 2.4185477374e-06, 'ACN': 2.7293833121e-06, 'ADBE': 1.4278513705e-06, 'BAC': 6.8154395784e-06, 'BMY': 3.4689933981e-06, 'BRK-B': 4.1074043347e-06, 'CMCSA': 5.5736473259e-06, 'COST': 0.1587503611221395, 'CRM': 4.4570147558e-06, 'CSCO': 4.437049269e-06, 'CVX': 5.2760073944e-06, 'GOOG': 6.576144677e-07, 'HD': 2.0550687077e-06, 'IBM': 6.0758964455e-06, 'INTC': 8.9715820745e-06, 'JNJ': 2.1064345392e-06, 'JPM': 5.2111123266e-06, 'KO': 2.6500152697e-06, 'LIN': 2.8127751056e-06, 'LOW': 2.8806995938e-06, 'MA': 2.4892720736e-06, 'MCD': 0.0763648792878034, 'MRK': 1.4144547723e-06, 'MSFT': 0.1790111942187542, 'NEE': 0.1360923618100504, 'NKE': 3.4175521828e-06, 'ORCL': 4.0999368185e-06, 'PFE': 2.2591372449e-06, 'PG': 2.0435855261e-06, 'PM': 3.4073955755e-06, 'QCOM': 6.2418440594e-06, 'SBUX': 2.9232425333e-06, 'T': 4.9526600329e-06, 'TMO': 0.0756115356495602, 'TXN': 2.8563320585e-06, 'UNH': 0.3469350076140244, 'V': 2.9132676613e-06, 'VZ': 3.8134542322e-06, 'WMT': 1.8284144146e-06})\n",
      "  Expected (in-sample) annual return: 21.97%\n",
      "  Realized (out-of-sample) annual return: 14.62%\n",
      "  Absolute Difference: 7.35%\n",
      "  Regularization parameter: 1e-05\n",
      "Method: l2\n",
      "  Optimized Weights: OrderedDict({'AAPL': 0.0560508257967612, 'ABT': 0.0274297442229633, 'ACN': 0.0358334461114369, 'ADBE': 0.04986742475697, 'BAC': 0.0150500067565061, 'BMY': 0.0003663134729506, 'BRK-B': 0.0135703380718927, 'CMCSA': 0.0, 'COST': 0.0412855794257604, 'CRM': 0.0165850214420375, 'CSCO': 0.016092159838316, 'CVX': 0.0171495956360933, 'GOOG': 0.0352475563461267, 'HD': 0.038888764521315, 'IBM': 0.0, 'INTC': 0.0, 'JNJ': 0.0142795089485604, 'JPM': 0.0244530700429962, 'KO': 0.0112060754475264, 'LIN': 0.0290854413874443, 'LOW': 0.035171301960623, 'MA': 0.0458265551077252, 'MCD': 0.0367436874033311, 'MRK': 0.0238876602544384, 'MSFT': 0.0612244423321133, 'NEE': 0.041144724513563, 'NKE': 0.0247183238812462, 'ORCL': 0.0140067391481922, 'PFE': 0.018373591320321, 'PG': 0.0146155676698198, 'PM': 0.0095443395957025, 'QCOM': 0.009355859757503, 'SBUX': 0.0270486106448407, 'T': 0.0, 'TMO': 0.0475746653641384, 'TXN': 0.0406463827924088, 'UNH': 0.0620087464570883, 'V': 0.0341648805854584, 'VZ': 0.0, 'WMT': 0.01150304898583})\n",
      "  Expected (in-sample) annual return: 17.09%\n",
      "  Realized (out-of-sample) annual return: 17.10%\n",
      "  Absolute Difference: 0.00%\n",
      "  Regularization parameter: 44.30621457583877\n",
      "l2 is the best method\n"
     ]
    }
   ],
   "source": [
    "import warnings\n",
    "warnings.filterwarnings('ignore')\n",
    "# List of regularization methods to evaluate.\n",
    "methods = ['vanilla', 'l1', 'l2']\n",
    "results = {}\n",
    "\n",
    "print(\"Evaluating portfolio performance for different regularization methods:\\n\")\n",
    "for method in methods:\n",
    "    mindiff = 1000\n",
    "    regs = np.logspace(-5, 2, num=100) if method != 'vanilla' else [0]\n",
    "    for reg in regs:\n",
    "        weights, exp_return, vol, sr = optimize_portfolio(method, mu_train, S_train, riskfree=riskfree, reg=reg, objective='max_sharpe', expret=0.2)\n",
    "        realized_return = compute_out_of_sample_return(weights, test_data)\n",
    "        diff = abs(exp_return - realized_return)\n",
    "        #print((reg, diff))\n",
    "        \n",
    "        if diff < mindiff:\n",
    "            results[method] = {'expected_return': exp_return,\n",
    "                            'realized_return': realized_return,\n",
    "                            'difference': diff,\n",
    "                            'weights': weights,\n",
    "                            'reg': reg}\n",
    "            mindiff = diff\n",
    "\n",
    "    print(f\"Method: {method}\")\n",
    "    print(f\"  Optimized Weights: {results[method][\"weights\"]}\")\n",
    "    print(f\"  Expected (in-sample) annual return: {results[method]['expected_return']:.2%}\")\n",
    "    print(f\"  Realized (out-of-sample) annual return: {results[method]['realized_return']:.2%}\")\n",
    "    print(f\"  Absolute Difference: {mindiff:.2%}\")\n",
    "    print(f\"  Regularization parameter: {results[method]['reg']}\")\n",
    "\n",
    "# Determine the method with the smallest difference.\n",
    "best_method = min(results, key=lambda m: results[m]['difference'])\n",
    "\n",
    "print(best_method, \"is the best method\")"
   ]
  },
  {
   "cell_type": "code",
   "execution_count": 8,
   "metadata": {},
   "outputs": [],
   "source": [
    "weights_vanilla, exp_return_vanilla, cvar_vanilla = optimize_cvar(mu_train, train_data, maxcvar = 0.03, l2_reg=0)\n",
    "realized_return_vanilla = compute_out_of_sample_return(weights_vanilla, test_data)\n",
    "diff_vanilla = abs(exp_return_vanilla - realized_return_vanilla)"
   ]
  },
  {
   "cell_type": "code",
   "execution_count": 9,
   "metadata": {},
   "outputs": [],
   "source": [
    "regs = np.logspace(-1, 2, num=100)\n",
    "mindiff = 1000\n",
    "\n",
    "for reg in regs:\n",
    "    weights, exp_return, cvar = optimize_cvar(mu_train, train_data, maxcvar = 0.03, l2_reg=reg)\n",
    "    realized_return = compute_out_of_sample_return(weights, test_data)\n",
    "    diff = abs(exp_return - realized_return)\n",
    "    #print((reg, diff))\n",
    "    \n",
    "    if diff < mindiff:\n",
    "        results = {'expected_return': exp_return,\n",
    "                        'realized_return': realized_return,\n",
    "                        'difference': diff,\n",
    "                        'weights': weights,\n",
    "                        'reg': reg}\n",
    "        mindiff = diff"
   ]
  },
  {
   "cell_type": "code",
   "execution_count": 10,
   "metadata": {},
   "outputs": [
    {
     "name": "stdout",
     "output_type": "stream",
     "text": [
      "  Optimized Weights: OrderedDict({'AAPL': 0.0575438508296273, 'ABT': 0.0273349666097927, 'ACN': 0.0362708293130116, 'ADBE': 0.0511628370549773, 'BAC': 0.0145468334820685, 'BMY': 0.0, 'BRK-B': 0.0127369114718212, 'CMCSA': 0.0, 'COST': 0.0416838938878327, 'CRM': 0.0162606879196893, 'CSCO': 0.0155258821953638, 'CVX': 0.0165768773334086, 'GOOG': 0.03568239854351, 'HD': 0.0394043418253542, 'IBM': 0.0, 'INTC': 0.0, 'JNJ': 0.0132695120617937, 'JPM': 0.0243114377968952, 'KO': 0.0100701625489579, 'LIN': 0.0290552115852786, 'LOW': 0.0355787521294269, 'MA': 0.0468525845285433, 'MCD': 0.0369182922591989, 'MRK': 0.0233602412867675, 'MSFT': 0.062997565098668, 'NEE': 0.0415018983142338, 'NKE': 0.0245853282503374, 'ORCL': 0.0132754314239257, 'PFE': 0.017600671407502, 'PG': 0.0136328379520229, 'PM': 0.0083685878949728, 'QCOM': 0.0086445560321671, 'SBUX': 0.0270131887291182, 'T': 0.0, 'TMO': 0.0484413532578156, 'TXN': 0.0413637984288914, 'UNH': 0.063561461864784, 'V': 0.034546766593519, 'VZ': 0.0, 'WMT': 0.010320050088723})\n",
      "  Expected (in-sample) annual return: 17.23%\n",
      "  Realized (out-of-sample) annual return: 17.20%\n",
      "  Regularization parameter: 1.5199110829529339\n",
      "  Absolute Difference: 0.03%\n",
      "\n",
      "  Absolute Difference (Vanilla method): 24.72%\n"
     ]
    }
   ],
   "source": [
    "print(f\"  Optimized Weights: {results['weights']}\")\n",
    "print(f\"  Expected (in-sample) annual return: {results['expected_return']:.2%}\")\n",
    "print(f\"  Realized (out-of-sample) annual return: {results['realized_return']:.2%}\")\n",
    "print(f\"  Regularization parameter: {results['reg']}\")\n",
    "print(f\"  Absolute Difference: {mindiff:.2%}\\n\")\n",
    "print(f\"  Absolute Difference (Vanilla method): {diff_vanilla:.2%}\")"
   ]
  }
 ],
 "metadata": {
  "kernelspec": {
   "display_name": "base",
   "language": "python",
   "name": "python3"
  },
  "language_info": {
   "codemirror_mode": {
    "name": "ipython",
    "version": 3
   },
   "file_extension": ".py",
   "mimetype": "text/x-python",
   "name": "python",
   "nbconvert_exporter": "python",
   "pygments_lexer": "ipython3",
   "version": "3.12.2"
  }
 },
 "nbformat": 4,
 "nbformat_minor": 2
}
