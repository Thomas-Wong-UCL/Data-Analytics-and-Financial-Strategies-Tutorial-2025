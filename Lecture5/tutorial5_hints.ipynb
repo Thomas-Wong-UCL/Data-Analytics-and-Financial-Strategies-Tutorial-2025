{
  "nbformat": 4,
  "nbformat_minor": 0,
  "metadata": {
    "colab": {
      "provenance": []
    },
    "kernelspec": {
      "name": "python3",
      "display_name": "Python 3"
    },
    "language_info": {
      "name": "python"
    }
  },
  "cells": [
    {
      "cell_type": "code",
      "source": [
        "import yfinance as yf\n",
        "import numpy as np\n",
        "import pandas as pd\n",
        "from statsmodels.tsa.arima.model import ARIMA\n",
        "from arch import arch_model\n",
        "import matplotlib.pyplot as plt\n",
        "from scipy.stats import t"
      ],
      "metadata": {
        "id": "gMqCNiobfUHz"
      },
      "execution_count": 3,
      "outputs": []
    },
    {
      "cell_type": "code",
      "source": [
        "data1 = yf.download(\"JNJ\", start=\"2015-01-01\", end=\"2025-01-01\", interval=\"1wk\")\n",
        "data2 = yf.download(\"BTC-USD\", start=\"2015-01-01\", end=\"2025-01-01\", interval=\"1wk\")\n",
        "data3 = yf.download(\"AAPL\", start=\"2015-01-01\", end=\"2025-01-01\", interval=\"1wk\")"
      ],
      "metadata": {
        "colab": {
          "base_uri": "https://localhost:8080/"
        },
        "id": "ogFfFPmogyyp",
        "outputId": "b6c7aa4c-d66e-4660-f447-ac56d544eb53"
      },
      "execution_count": 4,
      "outputs": [
        {
          "output_type": "stream",
          "name": "stderr",
          "text": [
            "[*********************100%***********************]  1 of 1 completed\n",
            "[*********************100%***********************]  1 of 1 completed\n",
            "[*********************100%***********************]  1 of 1 completed\n"
          ]
        }
      ]
    },
    {
      "cell_type": "code",
      "source": [
        "#This is the quantile method to calculate the VaR\n",
        "quantile_value = np.quantile(returns, 1 - confidence_level)"
      ],
      "metadata": {
        "id": "LZBRMQYEi4XT"
      },
      "execution_count": 5,
      "outputs": []
    },
    {
      "cell_type": "code",
      "source": [
        "# Fit the GARCH model on the complete dataset\n",
        "#For the error \"DataScaleWarning: y is poorly scaled...\" multiply the (log)-returns by 100\n",
        "model = arch_model(100*log_returns, mean=\"Constant\", lags=0, vol=\"GARCH\", p=1, q=1, dist=\"normal\")\n",
        "res = model.fit(disp='off')\n",
        "# Extract the conditional volatility values\n",
        "cond_vol = res.conditional_volatility\n",
        "\n",
        "# -----------------------------\n",
        "# Get the AIC from the model\n",
        "aic = res.aic"
      ],
      "metadata": {
        "id": "yr4AfoWWkJE_"
      },
      "execution_count": 10,
      "outputs": []
    },
    {
      "cell_type": "code",
      "source": [
        "# Obtain forecasts from the model. If the model is EGARCH, use the simulation method\n",
        "\n",
        "if vol == 'EGARCH':\n",
        "    forecast = res.forecast(horizon=1, method='simulation', simulations=500, reindex=False)\n",
        "else:\n",
        "    forecast = res.forecast(horizon=1, reindex=False)"
      ],
      "metadata": {
        "id": "M6etZRrllV5-"
      },
      "execution_count": null,
      "outputs": []
    },
    {
      "cell_type": "code",
      "source": [
        "#If the chosen model is  \"t\" than use\n",
        "scale_param = (sigma_forecast * np.sqrt((garch_result.params['nu'] - 2) / garch_result.params['nu']))\n",
        "GARCH_VaR = -t.ppf(0.05, garch_result.params['nu'], mean_forecast, scale_param)"
      ],
      "metadata": {
        "id": "whYDAFv3pNUO"
      },
      "execution_count": null,
      "outputs": []
    }
  ]
}