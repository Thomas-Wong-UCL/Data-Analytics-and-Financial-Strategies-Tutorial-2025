{
  "cells": [
    {
      "cell_type": "code",
      "execution_count": 1,
      "metadata": {
        "colab": {
          "base_uri": "https://localhost:8080/"
        },
        "id": "EiP9nfY2O5-T",
        "outputId": "6eaa36b5-bd6b-47db-b0d3-be2b3ca37c76"
      },
      "outputs": [
        {
          "name": "stdout",
          "output_type": "stream",
          "text": [
            "Collecting PyPortfolioOpt\n",
            "  Downloading pyportfolioopt-1.5.6-py3-none-any.whl.metadata (22 kB)\n",
            "Collecting cvxpy>=1.1.19 (from PyPortfolioOpt)\n",
            "  Downloading cvxpy-1.6.0-cp312-cp312-manylinux_2_17_x86_64.manylinux2014_x86_64.whl.metadata (9.2 kB)\n",
            "Collecting ecos<3.0.0,>=2.0.14 (from PyPortfolioOpt)\n",
            "  Downloading ecos-2.0.14-cp312-cp312-manylinux_2_17_x86_64.manylinux2014_x86_64.whl.metadata (8.0 kB)\n",
            "Requirement already satisfied: numpy>=1.26.0 in /home/carlo/miniconda3/lib/python3.12/site-packages (from PyPortfolioOpt) (2.1.3)\n",
            "Requirement already satisfied: pandas>=0.19 in /home/carlo/miniconda3/lib/python3.12/site-packages (from PyPortfolioOpt) (2.2.3)\n",
            "Collecting plotly<6.0.0,>=5.0.0 (from PyPortfolioOpt)\n",
            "  Downloading plotly-5.24.1-py3-none-any.whl.metadata (7.3 kB)\n",
            "Requirement already satisfied: scipy>=1.3 in /home/carlo/miniconda3/lib/python3.12/site-packages (from PyPortfolioOpt) (1.15.0)\n",
            "Collecting osqp>=0.6.2 (from cvxpy>=1.1.19->PyPortfolioOpt)\n",
            "  Downloading osqp-0.6.7.post3-cp312-cp312-manylinux_2_5_x86_64.manylinux1_x86_64.manylinux_2_17_x86_64.manylinux2014_x86_64.whl.metadata (1.9 kB)\n",
            "Collecting clarabel>=0.5.0 (from cvxpy>=1.1.19->PyPortfolioOpt)\n",
            "  Downloading clarabel-0.10.0-cp39-abi3-manylinux_2_17_x86_64.manylinux2014_x86_64.whl.metadata (4.8 kB)\n",
            "Collecting scs>=3.2.4.post1 (from cvxpy>=1.1.19->PyPortfolioOpt)\n",
            "  Downloading scs-3.2.7.post2-cp312-cp312-manylinux_2_17_x86_64.manylinux2014_x86_64.whl.metadata (2.1 kB)\n",
            "Requirement already satisfied: python-dateutil>=2.8.2 in /home/carlo/miniconda3/lib/python3.12/site-packages (from pandas>=0.19->PyPortfolioOpt) (2.9.0)\n",
            "Requirement already satisfied: pytz>=2020.1 in /home/carlo/miniconda3/lib/python3.12/site-packages (from pandas>=0.19->PyPortfolioOpt) (2024.1)\n",
            "Requirement already satisfied: tzdata>=2022.7 in /home/carlo/miniconda3/lib/python3.12/site-packages (from pandas>=0.19->PyPortfolioOpt) (2024.2)\n",
            "Collecting tenacity>=6.2.0 (from plotly<6.0.0,>=5.0.0->PyPortfolioOpt)\n",
            "  Downloading tenacity-9.0.0-py3-none-any.whl.metadata (1.2 kB)\n",
            "Requirement already satisfied: packaging in /home/carlo/miniconda3/lib/python3.12/site-packages (from plotly<6.0.0,>=5.0.0->PyPortfolioOpt) (23.2)\n",
            "Collecting qdldl (from osqp>=0.6.2->cvxpy>=1.1.19->PyPortfolioOpt)\n",
            "  Downloading qdldl-0.1.7.post5-cp312-cp312-manylinux_2_17_x86_64.manylinux2014_x86_64.whl.metadata (1.7 kB)\n",
            "Requirement already satisfied: six>=1.5 in /home/carlo/miniconda3/lib/python3.12/site-packages (from python-dateutil>=2.8.2->pandas>=0.19->PyPortfolioOpt) (1.16.0)\n",
            "Downloading pyportfolioopt-1.5.6-py3-none-any.whl (62 kB)\n",
            "\u001b[2K   \u001b[90m━━━━━━━━━━━━━━━━━━━━━━━━━━━━━━━━━━━━━━━━\u001b[0m \u001b[32m62.7/62.7 kB\u001b[0m \u001b[31m199.2 kB/s\u001b[0m eta \u001b[36m0:00:00\u001b[0m00:01\u001b[0m\n",
            "\u001b[?25hDownloading cvxpy-1.6.0-cp312-cp312-manylinux_2_17_x86_64.manylinux2014_x86_64.whl (1.2 MB)\n",
            "\u001b[2K   \u001b[90m━━━━━━━━━━━━━━━━━━━━━━━━━━━━━━━━━━━━━━━━\u001b[0m \u001b[32m1.2/1.2 MB\u001b[0m \u001b[31m384.3 kB/s\u001b[0m eta \u001b[36m0:00:00\u001b[0m00:01\u001b[0m00:01\u001b[0m\n",
            "\u001b[?25hDownloading ecos-2.0.14-cp312-cp312-manylinux_2_17_x86_64.manylinux2014_x86_64.whl (222 kB)\n",
            "\u001b[2K   \u001b[90m━━━━━━━━━━━━━━━━━━━━━━━━━━━━━━━━━━━━━━━━\u001b[0m \u001b[32m222.1/222.1 kB\u001b[0m \u001b[31m3.4 MB/s\u001b[0m eta \u001b[36m0:00:00\u001b[0m \u001b[36m0:00:01\u001b[0m\n",
            "\u001b[?25hDownloading plotly-5.24.1-py3-none-any.whl (19.1 MB)\n",
            "\u001b[2K   \u001b[90m━━━━━━━━━━━━━━━━━━━━━━━━━━━━━━━━━━━━━━━━\u001b[0m \u001b[32m19.1/19.1 MB\u001b[0m \u001b[31m13.0 MB/s\u001b[0m eta \u001b[36m0:00:00\u001b[0m00:01\u001b[0m00:01\u001b[0m\n",
            "\u001b[?25hDownloading clarabel-0.10.0-cp39-abi3-manylinux_2_17_x86_64.manylinux2014_x86_64.whl (1.0 MB)\n",
            "\u001b[2K   \u001b[90m━━━━━━━━━━━━━━━━━━━━━━━━━━━━━━━━━━━━━━━━\u001b[0m \u001b[32m1.0/1.0 MB\u001b[0m \u001b[31m218.3 kB/s\u001b[0m eta \u001b[36m0:00:00\u001b[0ma \u001b[36m0:00:01\u001b[0m\n",
            "\u001b[?25hDownloading osqp-0.6.7.post3-cp312-cp312-manylinux_2_5_x86_64.manylinux1_x86_64.manylinux_2_17_x86_64.manylinux2014_x86_64.whl (300 kB)\n",
            "\u001b[2K   \u001b[90m━━━━━━━━━━━━━━━━━━━━━━━━━━━━━━━━━━━━━━━\u001b[0m \u001b[32m300.0/300.0 kB\u001b[0m \u001b[31m135.7 kB/s\u001b[0m eta \u001b[36m0:00:00\u001b[0m00:01\u001b[0m00:01\u001b[0m\n",
            "\u001b[?25hDownloading scs-3.2.7.post2-cp312-cp312-manylinux_2_17_x86_64.manylinux2014_x86_64.whl (10.4 MB)\n",
            "\u001b[2K   \u001b[90m━━━━━━━━━━━━━━━━━━━━━━━━━━━━━━━━━━━━━━━━\u001b[0m \u001b[32m10.4/10.4 MB\u001b[0m \u001b[31m15.1 MB/s\u001b[0m eta \u001b[36m0:00:00\u001b[0m00:01\u001b[0m0:01\u001b[0m\n",
            "\u001b[?25hDownloading tenacity-9.0.0-py3-none-any.whl (28 kB)\n",
            "Downloading qdldl-0.1.7.post5-cp312-cp312-manylinux_2_17_x86_64.manylinux2014_x86_64.whl (1.2 MB)\n",
            "\u001b[2K   \u001b[90m━━━━━━━━━━━━━━━━━━━━━━━━━━━━━━━━━━━━━━━━\u001b[0m \u001b[32m1.2/1.2 MB\u001b[0m \u001b[31m15.8 MB/s\u001b[0m eta \u001b[36m0:00:00\u001b[0m00:01\u001b[0m00:01\u001b[0m\n",
            "\u001b[?25hInstalling collected packages: tenacity, scs, qdldl, plotly, ecos, clarabel, osqp, cvxpy, PyPortfolioOpt\n",
            "Successfully installed PyPortfolioOpt-1.5.6 clarabel-0.10.0 cvxpy-1.6.0 ecos-2.0.14 osqp-0.6.7.post3 plotly-5.24.1 qdldl-0.1.7.post5 scs-3.2.7.post2 tenacity-9.0.0\n",
            "Note: you may need to restart the kernel to use updated packages.\n"
          ]
        }
      ],
      "source": [
        "pip install PyPortfolioOpt"
      ]
    },
    {
      "cell_type": "code",
      "execution_count": 5,
      "metadata": {
        "colab": {
          "base_uri": "https://localhost:8080/"
        },
        "id": "MK6tOdt3Ma8B",
        "outputId": "c607ca72-de57-4dc2-f379-f29a858e70c2"
      },
      "outputs": [
        {
          "name": "stderr",
          "output_type": "stream",
          "text": [
            "[*********************100%***********************]  50 of 50 completed"
          ]
        },
        {
          "name": "stdout",
          "output_type": "stream",
          "text": [
            "Optimized Weights:\n",
            "OrderedDict([('AAPL', 0.0), ('ABT', 0.0), ('ACN', 0.0), ('ADBE', 0.0), ('AMZN', 0.0), ('BAC', 0.0), ('BMY', 0.0), ('BRK-B', 0.0), ('CMCSA', 0.0), ('COST', 0.0), ('CRM', 0.0), ('CSCO', 0.0), ('CVX', 0.0), ('DHR', 0.0), ('DIS', 0.0), ('GOOG', 0.0), ('GOOGL', 0.0), ('HD', 0.0), ('IBM', 0.0), ('INTC', 0.0), ('JNJ', 0.0), ('JPM', 0.0), ('KO', 0.0), ('LIN', 0.0), ('LLY', 0.43416), ('LOW', 0.0), ('MA', 0.0), ('MCD', 0.0), ('META', 0.0), ('MRK', 0.0), ('MSFT', 0.0), ('NEE', 0.0), ('NFLX', 0.0), ('NKE', 0.0), ('NVDA', 0.29806), ('ORCL', 0.0), ('PFE', 0.0), ('PG', 0.0), ('PM', 0.0), ('PYPL', 0.0), ('QCOM', 0.0), ('SBUX', 0.0), ('T', 0.0), ('TMO', 0.0), ('TSLA', 0.09206), ('TXN', 0.0), ('UNH', 0.0), ('V', 0.0), ('VZ', 0.0), ('WMT', 0.17572)])\n",
            "Expected annual return: 55.0%\n",
            "Annual volatility: 28.5%\n",
            "Sharpe Ratio: 1.93\n"
          ]
        },
        {
          "name": "stderr",
          "output_type": "stream",
          "text": [
            "\n"
          ]
        }
      ],
      "source": [
        "# Install required packages if not already installed:\n",
        "# pip install yfinance PyPortfolioOpt\n",
        "\n",
        "import yfinance as yf\n",
        "import pandas as pd\n",
        "from pypfopt import EfficientFrontier, risk_models, expected_returns\n",
        "\n",
        "# Define a list of 50 stocks (example tickers from S&P indices)\n",
        "tickers = [\n",
        "    \"AAPL\", \"MSFT\", \"AMZN\", \"GOOG\", \"GOOGL\", \"META\", \"TSLA\", \"BRK-B\", \"JPM\", \"JNJ\",\n",
        "    \"V\", \"PG\", \"NVDA\", \"UNH\", \"HD\", \"MA\", \"DIS\", \"PYPL\", \"BAC\", \"VZ\",\n",
        "    \"ADBE\", \"CMCSA\", \"NFLX\", \"T\", \"INTC\", \"CSCO\", \"PFE\", \"CRM\", \"ABT\", \"TMO\",\n",
        "    \"CVX\", \"MRK\", \"ORCL\", \"KO\", \"ACN\", \"LLY\", \"MCD\", \"NKE\", \"WMT\", \"NEE\",\n",
        "    \"DHR\", \"IBM\", \"TXN\", \"COST\", \"LIN\", \"SBUX\", \"PM\", \"LOW\", \"QCOM\", \"BMY\"\n",
        "]\n",
        "\n",
        "# Download historical adjusted close prices.\n",
        "# Here we download data from January 1, 2020 to January 1, 2025 (adjust as needed).\n",
        "data = yf.download(tickers, start=\"2020-01-01\", end=\"2025-01-01\")[\"Close\"]\n",
        "\n",
        "# Drop any columns with missing data (optional but recommended)\n",
        "data = data.dropna(axis=1)\n",
        "\n",
        "# Calculate the expected returns and sample covariance matrix.\n",
        "mu = expected_returns.mean_historical_return(data)\n",
        "S = risk_models.sample_cov(data)\n",
        "\n",
        "# Initialize the Efficient Frontier with weight bounds between 0 and 1.\n",
        "ef = EfficientFrontier(mu, S, weight_bounds=(0, 1))\n",
        "\n",
        "# Optimize for maximum Sharpe ratio.\n",
        "weights = ef.max_sharpe()\n",
        "\n",
        "# Clean the weights (rounding small numbers to zero, etc.)\n",
        "cleaned_weights = ef.clean_weights()\n",
        "\n",
        "print(\"Optimized Weights:\")\n",
        "print(cleaned_weights)\n",
        "\n",
        "# Get the expected portfolio performance: expected annual return, volatility, and Sharpe ratio.\n",
        "performance = ef.portfolio_performance(verbose=True)"
      ]
    },
    {
      "cell_type": "code",
      "execution_count": 10,
      "metadata": {
        "colab": {
          "base_uri": "https://localhost:8080/"
        },
        "id": "f72KP_qzRlJS",
        "outputId": "0829fa22-41bb-474d-9cfc-d6a73466b6ed"
      },
      "outputs": [
        {
          "name": "stderr",
          "output_type": "stream",
          "text": [
            "[*********************100%***********************]  50 of 50 completed"
          ]
        },
        {
          "name": "stdout",
          "output_type": "stream",
          "text": [
            "Optimized Weights with L2 Regularisation:\n",
            "OrderedDict([('AAPL', 0.03985), ('ABT', 0.00833), ('ACN', 0.01527), ('ADBE', 0.00244), ('AMZN', 0.02373), ('BAC', 0.0064), ('BMY', 0.0), ('BRK-B', 0.0207), ('CMCSA', 0.0), ('COST', 0.04198), ('CRM', 0.01786), ('CSCO', 0.00763), ('CVX', 0.0097), ('DHR', 0.01424), ('DIS', 0.0), ('GOOG', 0.03145), ('GOOGL', 0.03114), ('HD', 0.0195), ('IBM', 0.0238), ('INTC', 0.0), ('JNJ', 0.00231), ('JPM', 0.01927), ('KO', 0.00692), ('LIN', 0.02271), ('LLY', 0.06938), ('LOW', 0.02361), ('MA', 0.01479), ('MCD', 0.01338), ('META', 0.03026), ('MRK', 0.00728), ('MSFT', 0.03041), ('NEE', 0.00653), ('NFLX', 0.02969), ('NKE', 0.0), ('NVDA', 0.13134), ('ORCL', 0.03998), ('PFE', 0.0), ('PG', 0.01234), ('PM', 0.01882), ('PYPL', 0.0), ('QCOM', 0.01565), ('SBUX', 0.0), ('T', 0.00186), ('TMO', 0.01238), ('TSLA', 0.10345), ('TXN', 0.01163), ('UNH', 0.01809), ('V', 0.01385), ('VZ', 0.0), ('WMT', 0.03006)])\n",
            "Expected annual return: 34.2%\n",
            "Annual volatility: 25.4%\n",
            "Sharpe Ratio: 1.35\n"
          ]
        },
        {
          "name": "stderr",
          "output_type": "stream",
          "text": [
            "\n",
            "/usr/local/lib/python3.11/dist-packages/pypfopt/efficient_frontier/efficient_frontier.py:259: UserWarning: max_sharpe transforms the optimization problem so additional objectives may not work as expected.\n",
            "  warnings.warn(\n"
          ]
        }
      ],
      "source": [
        "import yfinance as yf\n",
        "import pandas as pd\n",
        "import numpy as np\n",
        "import cvxpy as cp  # Import CVXPY\n",
        "from pypfopt import EfficientFrontier, risk_models, expected_returns\n",
        "\n",
        "# Define a list of 50 tickers (note: 'FB' has been updated to 'META')\n",
        "tickers = [\n",
        "    \"AAPL\", \"MSFT\", \"AMZN\", \"GOOG\", \"GOOGL\", \"META\", \"TSLA\", \"BRK-B\", \"JPM\", \"JNJ\",\n",
        "    \"V\", \"PG\", \"NVDA\", \"UNH\", \"HD\", \"MA\", \"DIS\", \"PYPL\", \"BAC\", \"VZ\",\n",
        "    \"ADBE\", \"CMCSA\", \"NFLX\", \"T\", \"INTC\", \"CSCO\", \"PFE\", \"CRM\", \"ABT\", \"TMO\",\n",
        "    \"CVX\", \"MRK\", \"ORCL\", \"KO\", \"ACN\", \"LLY\", \"MCD\", \"NKE\", \"WMT\", \"NEE\",\n",
        "    \"DHR\", \"IBM\", \"TXN\", \"COST\", \"LIN\", \"SBUX\", \"PM\", \"LOW\", \"QCOM\", \"BMY\"\n",
        "]\n",
        "\n",
        "# Download historical adjusted close prices.\n",
        "data = yf.download(tickers, start=\"2020-01-01\", end=\"2025-01-01\")[\"Close\"]\n",
        "\n",
        "# Remove any columns with missing data.\n",
        "data = data.dropna(axis=1)\n",
        "\n",
        "# Calculate expected returns and the sample covariance matrix.\n",
        "mu = expected_returns.mean_historical_return(data)\n",
        "S = risk_models.sample_cov(data)\n",
        "\n",
        "# Initialize the Efficient Frontier with weight bounds between 0 and 1 (no short-selling).\n",
        "ef = EfficientFrontier(mu, S, weight_bounds=(0, 1))\n",
        "\n",
        "# Define the L2 regularisation coefficient.\n",
        "l2_reg = 10\n",
        "\n",
        "# Add the L2 regularisation objective using cvxpy.sum_squares\n",
        "ef.add_objective(lambda w: l2_reg * cp.sum_squares(w))\n",
        "\n",
        "# Optimize for maximum Sharpe ratio.\n",
        "weights = ef.max_sharpe()\n",
        "\n",
        "# Clean the weights (round very small values to zero, etc.)\n",
        "cleaned_weights = ef.clean_weights()\n",
        "\n",
        "print(\"Optimized Weights with L2 Regularisation:\")\n",
        "print(cleaned_weights)\n",
        "\n",
        "# Get and print the expected portfolio performance: annual return, volatility, and Sharpe ratio.\n",
        "performance = ef.portfolio_performance(verbose=True)"
      ]
    }
  ],
  "metadata": {
    "colab": {
      "provenance": []
    },
    "kernelspec": {
      "display_name": "base",
      "language": "python",
      "name": "python3"
    },
    "language_info": {
      "codemirror_mode": {
        "name": "ipython",
        "version": 3
      },
      "file_extension": ".py",
      "mimetype": "text/x-python",
      "name": "python",
      "nbconvert_exporter": "python",
      "pygments_lexer": "ipython3",
      "version": "3.12.2"
    }
  },
  "nbformat": 4,
  "nbformat_minor": 0
}
