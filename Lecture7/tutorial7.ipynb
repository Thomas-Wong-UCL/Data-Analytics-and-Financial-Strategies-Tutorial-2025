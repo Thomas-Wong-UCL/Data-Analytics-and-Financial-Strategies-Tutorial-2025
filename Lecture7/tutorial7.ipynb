{
  "nbformat": 4,
  "nbformat_minor": 0,
  "metadata": {
    "colab": {
      "provenance": []
    },
    "kernelspec": {
      "name": "python3",
      "display_name": "Python 3"
    },
    "language_info": {
      "name": "python"
    }
  },
  "cells": [
    {
      "cell_type": "code",
      "execution_count": 1,
      "metadata": {
        "colab": {
          "base_uri": "https://localhost:8080/"
        },
        "id": "qu9kzNEdPiw4",
        "outputId": "bb84101d-19d5-476a-862a-78f9a7186c52"
      },
      "outputs": [
        {
          "output_type": "stream",
          "name": "stdout",
          "text": [
            "Collecting yfinance==0.2.54\n",
            "  Downloading yfinance-0.2.54-py2.py3-none-any.whl.metadata (5.8 kB)\n",
            "Requirement already satisfied: pandas>=1.3.0 in /usr/local/lib/python3.11/dist-packages (from yfinance==0.2.54) (2.2.2)\n",
            "Requirement already satisfied: numpy>=1.16.5 in /usr/local/lib/python3.11/dist-packages (from yfinance==0.2.54) (1.26.4)\n",
            "Requirement already satisfied: requests>=2.31 in /usr/local/lib/python3.11/dist-packages (from yfinance==0.2.54) (2.32.3)\n",
            "Requirement already satisfied: multitasking>=0.0.7 in /usr/local/lib/python3.11/dist-packages (from yfinance==0.2.54) (0.0.11)\n",
            "Requirement already satisfied: platformdirs>=2.0.0 in /usr/local/lib/python3.11/dist-packages (from yfinance==0.2.54) (4.3.6)\n",
            "Requirement already satisfied: pytz>=2022.5 in /usr/local/lib/python3.11/dist-packages (from yfinance==0.2.54) (2025.1)\n",
            "Requirement already satisfied: frozendict>=2.3.4 in /usr/local/lib/python3.11/dist-packages (from yfinance==0.2.54) (2.4.6)\n",
            "Requirement already satisfied: peewee>=3.16.2 in /usr/local/lib/python3.11/dist-packages (from yfinance==0.2.54) (3.17.9)\n",
            "Requirement already satisfied: beautifulsoup4>=4.11.1 in /usr/local/lib/python3.11/dist-packages (from yfinance==0.2.54) (4.13.3)\n",
            "Requirement already satisfied: soupsieve>1.2 in /usr/local/lib/python3.11/dist-packages (from beautifulsoup4>=4.11.1->yfinance==0.2.54) (2.6)\n",
            "Requirement already satisfied: typing-extensions>=4.0.0 in /usr/local/lib/python3.11/dist-packages (from beautifulsoup4>=4.11.1->yfinance==0.2.54) (4.12.2)\n",
            "Requirement already satisfied: python-dateutil>=2.8.2 in /usr/local/lib/python3.11/dist-packages (from pandas>=1.3.0->yfinance==0.2.54) (2.8.2)\n",
            "Requirement already satisfied: tzdata>=2022.7 in /usr/local/lib/python3.11/dist-packages (from pandas>=1.3.0->yfinance==0.2.54) (2025.1)\n",
            "Requirement already satisfied: charset-normalizer<4,>=2 in /usr/local/lib/python3.11/dist-packages (from requests>=2.31->yfinance==0.2.54) (3.4.1)\n",
            "Requirement already satisfied: idna<4,>=2.5 in /usr/local/lib/python3.11/dist-packages (from requests>=2.31->yfinance==0.2.54) (3.10)\n",
            "Requirement already satisfied: urllib3<3,>=1.21.1 in /usr/local/lib/python3.11/dist-packages (from requests>=2.31->yfinance==0.2.54) (2.3.0)\n",
            "Requirement already satisfied: certifi>=2017.4.17 in /usr/local/lib/python3.11/dist-packages (from requests>=2.31->yfinance==0.2.54) (2025.1.31)\n",
            "Requirement already satisfied: six>=1.5 in /usr/local/lib/python3.11/dist-packages (from python-dateutil>=2.8.2->pandas>=1.3.0->yfinance==0.2.54) (1.17.0)\n",
            "Downloading yfinance-0.2.54-py2.py3-none-any.whl (108 kB)\n",
            "\u001b[2K   \u001b[90m━━━━━━━━━━━━━━━━━━━━━━━━━━━━━━━━━━━━━━━━\u001b[0m \u001b[32m108.7/108.7 kB\u001b[0m \u001b[31m2.1 MB/s\u001b[0m eta \u001b[36m0:00:00\u001b[0m\n",
            "\u001b[?25hInstalling collected packages: yfinance\n",
            "  Attempting uninstall: yfinance\n",
            "    Found existing installation: yfinance 0.2.52\n",
            "    Uninstalling yfinance-0.2.52:\n",
            "      Successfully uninstalled yfinance-0.2.52\n",
            "Successfully installed yfinance-0.2.54\n"
          ]
        }
      ],
      "source": [
        "pip install --upgrade yfinance==0.2.54"
      ]
    },
    {
      "cell_type": "code",
      "source": [
        "pip install arch"
      ],
      "metadata": {
        "colab": {
          "base_uri": "https://localhost:8080/"
        },
        "id": "axZbyE_GVQx_",
        "outputId": "aef115c9-f5a3-466e-eaee-a7e0eaf97658"
      },
      "execution_count": 4,
      "outputs": [
        {
          "output_type": "stream",
          "name": "stdout",
          "text": [
            "Collecting arch\n",
            "  Downloading arch-7.2.0-cp311-cp311-manylinux_2_17_x86_64.manylinux2014_x86_64.whl.metadata (13 kB)\n",
            "Requirement already satisfied: numpy>=1.22.3 in /usr/local/lib/python3.11/dist-packages (from arch) (1.26.4)\n",
            "Requirement already satisfied: scipy>=1.8 in /usr/local/lib/python3.11/dist-packages (from arch) (1.13.1)\n",
            "Requirement already satisfied: pandas>=1.4 in /usr/local/lib/python3.11/dist-packages (from arch) (2.2.2)\n",
            "Requirement already satisfied: statsmodels>=0.12 in /usr/local/lib/python3.11/dist-packages (from arch) (0.14.4)\n",
            "Requirement already satisfied: python-dateutil>=2.8.2 in /usr/local/lib/python3.11/dist-packages (from pandas>=1.4->arch) (2.8.2)\n",
            "Requirement already satisfied: pytz>=2020.1 in /usr/local/lib/python3.11/dist-packages (from pandas>=1.4->arch) (2025.1)\n",
            "Requirement already satisfied: tzdata>=2022.7 in /usr/local/lib/python3.11/dist-packages (from pandas>=1.4->arch) (2025.1)\n",
            "Requirement already satisfied: patsy>=0.5.6 in /usr/local/lib/python3.11/dist-packages (from statsmodels>=0.12->arch) (1.0.1)\n",
            "Requirement already satisfied: packaging>=21.3 in /usr/local/lib/python3.11/dist-packages (from statsmodels>=0.12->arch) (24.2)\n",
            "Requirement already satisfied: six>=1.5 in /usr/local/lib/python3.11/dist-packages (from python-dateutil>=2.8.2->pandas>=1.4->arch) (1.17.0)\n",
            "Downloading arch-7.2.0-cp311-cp311-manylinux_2_17_x86_64.manylinux2014_x86_64.whl (985 kB)\n",
            "\u001b[2K   \u001b[90m━━━━━━━━━━━━━━━━━━━━━━━━━━━━━━━━━━━━━━━━\u001b[0m \u001b[32m985.3/985.3 kB\u001b[0m \u001b[31m10.4 MB/s\u001b[0m eta \u001b[36m0:00:00\u001b[0m\n",
            "\u001b[?25hInstalling collected packages: arch\n",
            "Successfully installed arch-7.2.0\n"
          ]
        }
      ]
    },
    {
      "cell_type": "code",
      "source": [
        "import yfinance as yf\n",
        "import pandas as pd\n",
        "from sklearn.decomposition import PCA\n",
        "from sklearn.linear_model import LinearRegression\n",
        "import numpy as np\n",
        "import statsmodels.api as sm  # for CAPM and Fama-French regressions\n",
        "import pandas_datareader\n",
        "import matplotlib.pyplot as plt\n",
        "from arch import arch_model\n",
        "import itertools"
      ],
      "metadata": {
        "id": "jQj6M-hdPlCQ"
      },
      "execution_count": 5,
      "outputs": []
    },
    {
      "cell_type": "code",
      "source": [
        "# Step 1: Define parameters\n",
        "symbols = [\"AAPL\", \"MSFT\", \"GOOG\", \"BRK-B\", \"JPM\", \"JNJ\", \"V\", \"PG\", \"UNH\"]\n",
        "start_date = '2020-01-01'\n",
        "end_date = '2023-12-31'\n",
        "ff_filepath = '/content/F-F_Research_Data_Factors_daily.CSV'\n",
        "\n",
        "# Step 2: Load Fama–French 3-factor data\n",
        "ff = pd.read_csv(ff_filepath, skiprows=3, header=0, names=['Date', 'Mkt-RF', 'SMB', 'HML', 'RF']) # Added names for columns and header=0\n",
        "ff['Date'] = pd.to_datetime(ff['Date'], format='%Y%m%d')\n",
        "ff.set_index('Date', inplace=True)\n",
        "# Convert percentages to decimals (if required)\n",
        "ff = ff.astype(float) / 100\n",
        "\n",
        "# Step 3: Download stock data\n",
        "data = yf.download(symbols, start=start_date, end=end_date)['Close']\n",
        "\n",
        "# Step 4: Compute daily stock returns\n",
        "stock_returns = data.pct_change().dropna()\n",
        "\n",
        "# Step 5: Merge stock returns with Fama–French factors\n",
        "merged_data = pd.merge(stock_returns, ff, left_index=True, right_index=True, how='inner')\n",
        "\n",
        "# Step 6: Compute excess returns for each stock (stock return minus risk-free rate)\n",
        "for symbol in symbols:\n",
        "    merged_data[symbol + '_excess'] = merged_data[symbol] - merged_data['RF']\n",
        "\n",
        "# Step 7: Run regressions for each stock and extract alpha\n",
        "regression_results = {}\n",
        "alphas = {}\n",
        "for symbol in symbols:\n",
        "    # Define dependent variable: excess return for the stock\n",
        "    y = merged_data[symbol + '_excess']\n",
        "    # Independent variables: Fama–French factors\n",
        "    X = merged_data[['Mkt-RF', 'SMB', 'HML']]\n",
        "    X = sm.add_constant(X)  # Adds constant term to capture alpha\n",
        "    model = sm.OLS(y, X).fit()\n",
        "    regression_results[symbol] = model\n",
        "    alphas[symbol] = model.params['const']  # alpha is the constant term\n",
        "\n",
        "# Step 8: Create a DataFrame to rank stocks by alpha\n",
        "alpha_df = pd.DataFrame(list(alphas.items()), columns=['Stock', 'Alpha'])\n",
        "alpha_df.sort_values(by='Alpha', ascending=False, inplace=True)\n",
        "print(\"Estimated Daily Alphas:\")\n",
        "print(alpha_df)\n",
        "\n",
        "# Step 9: Choose the top 6 stocks with the highest alpha\n",
        "top6 = alpha_df.head(6)\n",
        "print(\"\\nSelected basket of 6 stocks based on highest alpha:\")\n",
        "print(top6)\n"
      ],
      "metadata": {
        "colab": {
          "base_uri": "https://localhost:8080/"
        },
        "id": "iKxcnckCnwae",
        "outputId": "9a2ef7e0-4118-4558-a7e5-5ebd28ef8594"
      },
      "execution_count": 25,
      "outputs": [
        {
          "output_type": "stream",
          "name": "stderr",
          "text": [
            "[*********************100%***********************]  9 of 9 completed\n"
          ]
        },
        {
          "output_type": "stream",
          "name": "stdout",
          "text": [
            "Estimated Daily Alphas:\n",
            "   Stock     Alpha\n",
            "0   AAPL  0.000595\n",
            "1   MSFT  0.000516\n",
            "2   GOOG  0.000383\n",
            "8    UNH  0.000352\n",
            "3  BRK-B  0.000076\n",
            "7     PG  0.000030\n",
            "6      V -0.000042\n",
            "5    JNJ -0.000048\n",
            "4    JPM -0.000087\n",
            "\n",
            "Selected basket of 6 stocks based on highest alpha:\n",
            "   Stock     Alpha\n",
            "0   AAPL  0.000595\n",
            "1   MSFT  0.000516\n",
            "2   GOOG  0.000383\n",
            "8    UNH  0.000352\n",
            "3  BRK-B  0.000076\n",
            "7     PG  0.000030\n"
          ]
        }
      ]
    },
    {
      "cell_type": "code",
      "source": [
        "# -------------------------------\n",
        "# 1. Define Parameters and Symbols\n",
        "# -------------------------------\n",
        "symbols = [\"AAPL\", \"MSFT\", \"GOOG\", \"BRK-B\", \"JPM\", \"JNJ\", \"V\", \"PG\", \"UNH\"]\n",
        "start_date = '2020-01-01'\n",
        "end_date = '2023-12-31'\n",
        "ff_filepath = '/content/F-F_Research_Data_Factors_daily.CSV'  # adjust path as needed\n",
        "\n",
        "# -------------------------------\n",
        "# 2. Load Fama–French 3-Factor Data\n",
        "# -------------------------------\n",
        "# The F-F CSV typically has a header/footer; we skip some rows if necessary.\n",
        "# Adjust skiprows if the file's header is not standard.\n",
        "ff = pd.read_csv(ff_filepath, skiprows=3, header=0, names=['Date', 'Mkt-RF', 'SMB', 'HML', 'RF']) # Added names for columns and header=0\n",
        "ff['Date'] = pd.to_datetime(ff['Date'], format='%Y%m%d')\n",
        "ff.set_index('Date', inplace=True)\n",
        "# Convert percentages to decimals (if required)\n",
        "ff = ff.astype(float) / 100\n",
        "\n",
        "# -------------------------------\n",
        "# 3. Download Stock Data and Compute Returns\n",
        "# -------------------------------\n",
        "data = yf.download(symbols, start=start_date, end=end_date)['Close']\n",
        "stock_returns = data.pct_change().dropna()  # daily returns\n",
        "\n",
        "# -------------------------------\n",
        "# 4. Merge Stock Returns with F-F Factors\n",
        "# -------------------------------\n",
        "# Merge on dates common to both datasets\n",
        "merged_data = pd.merge(stock_returns, ff, left_index=True, right_index=True, how='inner')\n",
        "\n",
        "# Compute excess returns for each stock: stock return minus risk-free rate ('RF')\n",
        "for symbol in symbols:\n",
        "    merged_data[symbol + '_excess'] = merged_data[symbol] - merged_data['RF']\n",
        "\n",
        "# -------------------------------\n",
        "# 5. Generate All Combinations of 6 Stocks\n",
        "# -------------------------------\n",
        "combinations = list(itertools.combinations(symbols, 6))\n",
        "\n",
        "# -------------------------------\n",
        "# 6. For Each Combination: Build Portfolio and Run OLS Regression\n",
        "# -------------------------------\n",
        "results = []  # To store (combination, portfolio_alpha)\n",
        "\n",
        "for combo in combinations:\n",
        "    # Calculate equal-weighted portfolio excess returns for the combination\n",
        "    # Each day, average the excess returns of the stocks in the combo.\n",
        "    portfolio_excess = merged_data[[stock + '_excess' for stock in combo]].mean(axis=1)\n",
        "\n",
        "    # Define the dependent variable as the portfolio's excess returns.\n",
        "    y = portfolio_excess\n",
        "\n",
        "    # Independent variables: Fama–French factors (columns: Mkt-RF, SMB, HML)\n",
        "    X = merged_data[['Mkt-RF', 'SMB', 'HML']]\n",
        "    X = sm.add_constant(X)  # adds constant term to capture alpha\n",
        "\n",
        "    # Run the OLS regression\n",
        "    model = sm.OLS(y, X).fit()\n",
        "\n",
        "    # Extract the portfolio alpha (the constant term)\n",
        "    portfolio_alpha = model.params['const']\n",
        "\n",
        "    results.append((combo, portfolio_alpha))\n",
        "\n",
        "# -------------------------------\n",
        "# 7. Sort and Display the Results\n",
        "# -------------------------------\n",
        "# Convert results to a DataFrame for easier viewing\n",
        "results_df = pd.DataFrame(results, columns=['Combination', 'Portfolio Alpha'])\n",
        "results_df.sort_values(by='Portfolio Alpha', ascending=False, inplace=True)\n",
        "\n",
        "print(\"Total combinations:\", len(combinations))\n",
        "print(results_df.to_string(index=False))\n"
      ],
      "metadata": {
        "colab": {
          "base_uri": "https://localhost:8080/"
        },
        "id": "AgANOX_lpbkp",
        "outputId": "f15fb84b-fdc5-4627-d474-9311a641558a"
      },
      "execution_count": 24,
      "outputs": [
        {
          "output_type": "stream",
          "name": "stderr",
          "text": [
            "[*********************100%***********************]  9 of 9 completed\n"
          ]
        },
        {
          "output_type": "stream",
          "name": "stdout",
          "text": [
            "Total combinations: 84\n",
            "                        Combination  Portfolio Alpha\n",
            " (AAPL, MSFT, GOOG, BRK-B, PG, UNH)         0.000326\n",
            "  (AAPL, MSFT, GOOG, BRK-B, V, UNH)         0.000314\n",
            "(AAPL, MSFT, GOOG, BRK-B, JNJ, UNH)         0.000313\n",
            "(AAPL, MSFT, GOOG, BRK-B, JPM, UNH)         0.000306\n",
            "     (AAPL, MSFT, GOOG, V, PG, UNH)         0.000306\n",
            "   (AAPL, MSFT, GOOG, JNJ, PG, UNH)         0.000305\n",
            "   (AAPL, MSFT, GOOG, JPM, PG, UNH)         0.000298\n",
            "    (AAPL, MSFT, GOOG, JNJ, V, UNH)         0.000293\n",
            "    (AAPL, MSFT, GOOG, JPM, V, UNH)         0.000286\n",
            "  (AAPL, MSFT, GOOG, JPM, JNJ, UNH)         0.000285\n",
            "   (AAPL, MSFT, GOOG, BRK-B, V, PG)         0.000260\n",
            " (AAPL, MSFT, GOOG, BRK-B, JNJ, PG)         0.000259\n",
            "    (AAPL, MSFT, BRK-B, V, PG, UNH)         0.000255\n",
            "  (AAPL, MSFT, BRK-B, JNJ, PG, UNH)         0.000254\n",
            " (AAPL, MSFT, GOOG, BRK-B, JPM, PG)         0.000252\n",
            "  (AAPL, MSFT, BRK-B, JPM, PG, UNH)         0.000247\n",
            "  (AAPL, MSFT, GOOG, BRK-B, JNJ, V)         0.000247\n",
            "   (AAPL, MSFT, BRK-B, JNJ, V, UNH)         0.000242\n",
            "  (AAPL, MSFT, GOOG, BRK-B, JPM, V)         0.000240\n",
            "(AAPL, MSFT, GOOG, BRK-B, JPM, JNJ)         0.000239\n",
            "     (AAPL, MSFT, GOOG, JNJ, V, PG)         0.000239\n",
            "   (AAPL, MSFT, BRK-B, JPM, V, UNH)         0.000235\n",
            " (AAPL, MSFT, BRK-B, JPM, JNJ, UNH)         0.000234\n",
            "      (AAPL, MSFT, JNJ, V, PG, UNH)         0.000234\n",
            "     (AAPL, MSFT, GOOG, JPM, V, PG)         0.000233\n",
            "    (AAPL, GOOG, BRK-B, V, PG, UNH)         0.000232\n",
            "   (AAPL, MSFT, GOOG, JPM, JNJ, PG)         0.000232\n",
            "  (AAPL, GOOG, BRK-B, JNJ, PG, UNH)         0.000232\n",
            "      (AAPL, MSFT, JPM, V, PG, UNH)         0.000227\n",
            "    (AAPL, MSFT, JPM, JNJ, PG, UNH)         0.000226\n",
            "  (AAPL, GOOG, BRK-B, JPM, PG, UNH)         0.000225\n",
            "    (AAPL, MSFT, GOOG, JPM, JNJ, V)         0.000220\n",
            "   (AAPL, GOOG, BRK-B, JNJ, V, UNH)         0.000220\n",
            "    (MSFT, GOOG, BRK-B, V, PG, UNH)         0.000219\n",
            "  (MSFT, GOOG, BRK-B, JNJ, PG, UNH)         0.000218\n",
            "     (AAPL, MSFT, JPM, JNJ, V, UNH)         0.000214\n",
            "   (AAPL, GOOG, BRK-B, JPM, V, UNH)         0.000213\n",
            " (AAPL, GOOG, BRK-B, JPM, JNJ, UNH)         0.000212\n",
            "      (AAPL, GOOG, JNJ, V, PG, UNH)         0.000212\n",
            "  (MSFT, GOOG, BRK-B, JPM, PG, UNH)         0.000212\n",
            "   (MSFT, GOOG, BRK-B, JNJ, V, UNH)         0.000206\n",
            "      (AAPL, GOOG, JPM, V, PG, UNH)         0.000205\n",
            "    (AAPL, GOOG, JPM, JNJ, PG, UNH)         0.000204\n",
            "   (MSFT, GOOG, BRK-B, JPM, V, UNH)         0.000200\n",
            " (MSFT, GOOG, BRK-B, JPM, JNJ, UNH)         0.000199\n",
            "      (MSFT, GOOG, JNJ, V, PG, UNH)         0.000199\n",
            "     (AAPL, GOOG, JPM, JNJ, V, UNH)         0.000192\n",
            "      (MSFT, GOOG, JPM, V, PG, UNH)         0.000192\n",
            "    (MSFT, GOOG, JPM, JNJ, PG, UNH)         0.000191\n",
            "    (AAPL, MSFT, BRK-B, JNJ, V, PG)         0.000188\n",
            "    (AAPL, MSFT, BRK-B, JPM, V, PG)         0.000181\n",
            "  (AAPL, MSFT, BRK-B, JPM, JNJ, PG)         0.000180\n",
            "     (MSFT, GOOG, JPM, JNJ, V, UNH)         0.000179\n",
            "   (AAPL, MSFT, BRK-B, JPM, JNJ, V)         0.000168\n",
            "    (AAPL, GOOG, BRK-B, JNJ, V, PG)         0.000166\n",
            "      (AAPL, MSFT, JPM, JNJ, V, PG)         0.000161\n",
            "     (AAPL, BRK-B, JNJ, V, PG, UNH)         0.000161\n",
            "    (AAPL, GOOG, BRK-B, JPM, V, PG)         0.000159\n",
            "  (AAPL, GOOG, BRK-B, JPM, JNJ, PG)         0.000158\n",
            "     (AAPL, BRK-B, JPM, V, PG, UNH)         0.000154\n",
            "   (AAPL, BRK-B, JPM, JNJ, PG, UNH)         0.000153\n",
            "    (MSFT, GOOG, BRK-B, JNJ, V, PG)         0.000153\n",
            "     (MSFT, BRK-B, JNJ, V, PG, UNH)         0.000147\n",
            "   (AAPL, GOOG, BRK-B, JPM, JNJ, V)         0.000146\n",
            "    (MSFT, GOOG, BRK-B, JPM, V, PG)         0.000146\n",
            "  (MSFT, GOOG, BRK-B, JPM, JNJ, PG)         0.000145\n",
            "    (AAPL, BRK-B, JPM, JNJ, V, UNH)         0.000141\n",
            "     (MSFT, BRK-B, JPM, V, PG, UNH)         0.000141\n",
            "   (MSFT, BRK-B, JPM, JNJ, PG, UNH)         0.000140\n",
            "      (AAPL, GOOG, JPM, JNJ, V, PG)         0.000139\n",
            "       (AAPL, JPM, JNJ, V, PG, UNH)         0.000133\n",
            "   (MSFT, GOOG, BRK-B, JPM, JNJ, V)         0.000133\n",
            "    (MSFT, BRK-B, JPM, JNJ, V, UNH)         0.000128\n",
            "      (MSFT, GOOG, JPM, JNJ, V, PG)         0.000125\n",
            "     (GOOG, BRK-B, JNJ, V, PG, UNH)         0.000125\n",
            "       (MSFT, JPM, JNJ, V, PG, UNH)         0.000120\n",
            "     (GOOG, BRK-B, JPM, V, PG, UNH)         0.000119\n",
            "   (GOOG, BRK-B, JPM, JNJ, PG, UNH)         0.000118\n",
            "    (GOOG, BRK-B, JPM, JNJ, V, UNH)         0.000106\n",
            "       (GOOG, JPM, JNJ, V, PG, UNH)         0.000098\n",
            "     (AAPL, BRK-B, JPM, JNJ, V, PG)         0.000087\n",
            "     (MSFT, BRK-B, JPM, JNJ, V, PG)         0.000074\n",
            "     (GOOG, BRK-B, JPM, JNJ, V, PG)         0.000052\n",
            "      (BRK-B, JPM, JNJ, V, PG, UNH)         0.000047\n"
          ]
        }
      ]
    }
  ]
}