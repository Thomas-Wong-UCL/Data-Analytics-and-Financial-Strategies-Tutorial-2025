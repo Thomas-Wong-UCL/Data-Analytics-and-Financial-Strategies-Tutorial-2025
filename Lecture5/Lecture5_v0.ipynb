{
  "cells": [
    {
      "cell_type": "code",
      "execution_count": 2,
      "metadata": {
        "colab": {
          "base_uri": "https://localhost:8080/"
        },
        "id": "vnVY7hv3TJuZ",
        "outputId": "5cf0926b-718a-420e-dc8e-ab48b52e4393"
      },
      "outputs": [
        {
          "name": "stdout",
          "output_type": "stream",
          "text": [
            "Collecting arch\n",
            "  Downloading arch-7.2.0-cp311-cp311-manylinux_2_17_x86_64.manylinux2014_x86_64.whl.metadata (13 kB)\n",
            "Requirement already satisfied: numpy>=1.22.3 in /usr/local/lib/python3.11/dist-packages (from arch) (1.26.4)\n",
            "Requirement already satisfied: scipy>=1.8 in /usr/local/lib/python3.11/dist-packages (from arch) (1.13.1)\n",
            "Requirement already satisfied: pandas>=1.4 in /usr/local/lib/python3.11/dist-packages (from arch) (2.2.2)\n",
            "Requirement already satisfied: statsmodels>=0.12 in /usr/local/lib/python3.11/dist-packages (from arch) (0.14.4)\n",
            "Requirement already satisfied: python-dateutil>=2.8.2 in /usr/local/lib/python3.11/dist-packages (from pandas>=1.4->arch) (2.8.2)\n",
            "Requirement already satisfied: pytz>=2020.1 in /usr/local/lib/python3.11/dist-packages (from pandas>=1.4->arch) (2024.2)\n",
            "Requirement already satisfied: tzdata>=2022.7 in /usr/local/lib/python3.11/dist-packages (from pandas>=1.4->arch) (2025.1)\n",
            "Requirement already satisfied: patsy>=0.5.6 in /usr/local/lib/python3.11/dist-packages (from statsmodels>=0.12->arch) (1.0.1)\n",
            "Requirement already satisfied: packaging>=21.3 in /usr/local/lib/python3.11/dist-packages (from statsmodels>=0.12->arch) (24.2)\n",
            "Requirement already satisfied: six>=1.5 in /usr/local/lib/python3.11/dist-packages (from python-dateutil>=2.8.2->pandas>=1.4->arch) (1.17.0)\n",
            "Downloading arch-7.2.0-cp311-cp311-manylinux_2_17_x86_64.manylinux2014_x86_64.whl (985 kB)\n",
            "\u001b[2K   \u001b[90m━━━━━━━━━━━━━━━━━━━━━━━━━━━━━━━━━━━━━━━━\u001b[0m \u001b[32m985.3/985.3 kB\u001b[0m \u001b[31m35.2 MB/s\u001b[0m eta \u001b[36m0:00:00\u001b[0m\n",
            "\u001b[?25hInstalling collected packages: arch\n",
            "Successfully installed arch-7.2.0\n"
          ]
        }
      ],
      "source": [
        "!pip install arch"
      ]
    },
    {
      "cell_type": "code",
      "execution_count": 3,
      "metadata": {
        "colab": {
          "base_uri": "https://localhost:8080/"
        },
        "id": "hZSJAGi8W29g",
        "outputId": "0656a1f0-e3c3-4cf0-ad5f-baa230030cb1"
      },
      "outputs": [
        {
          "name": "stderr",
          "output_type": "stream",
          "text": [
            "[*********************100%***********************]  1 of 1 completed"
          ]
        },
        {
          "name": "stdout",
          "output_type": "stream",
          "text": [
            "Forecasted mean return: 0.02620431905036155\n",
            "Forecast variance DataFrame:\n",
            "                 h.1\n",
            "Date                \n",
            "2021-12-31  1.902936\n",
            "Forecasted sigma: 1.3794695447653558\n",
            "The VaR at 95% confidence level is: 2.2499204298124753\n"
          ]
        },
        {
          "name": "stderr",
          "output_type": "stream",
          "text": [
            "\n",
            "/home/carlo/miniconda3/lib/python3.12/site-packages/statsmodels/tsa/base/tsa_model.py:473: ValueWarning: A date index has been provided, but it has no associated frequency information and so will be ignored when e.g. forecasting.\n",
            "  self._init_dates(dates, freq)\n",
            "/home/carlo/miniconda3/lib/python3.12/site-packages/statsmodels/tsa/base/tsa_model.py:473: ValueWarning: A date index has been provided, but it has no associated frequency information and so will be ignored when e.g. forecasting.\n",
            "  self._init_dates(dates, freq)\n",
            "/home/carlo/miniconda3/lib/python3.12/site-packages/statsmodels/tsa/base/tsa_model.py:473: ValueWarning: A date index has been provided, but it has no associated frequency information and so will be ignored when e.g. forecasting.\n",
            "  self._init_dates(dates, freq)\n",
            "/home/carlo/miniconda3/lib/python3.12/site-packages/statsmodels/tsa/base/tsa_model.py:837: ValueWarning: No supported index is available. Prediction results will be given with an integer index beginning at `start`.\n",
            "  return get_prediction_index(\n",
            "/home/carlo/miniconda3/lib/python3.12/site-packages/statsmodels/tsa/base/tsa_model.py:837: FutureWarning: No supported index is available. In the next version, calling this method in a model without a supported index will result in an exception.\n",
            "  return get_prediction_index(\n"
          ]
        }
      ],
      "source": [
        "import yfinance as yf\n",
        "import numpy as np\n",
        "import pandas as pd\n",
        "from statsmodels.tsa.arima.model import ARIMA\n",
        "from arch import arch_model\n",
        "\n",
        "# Step 1: Download IBM price data and compute log returns\n",
        "IBM_dprice = yf.download('IBM', start=\"2020-01-01\", end=\"2022-01-01\", auto_adjust=True)\n",
        "IBM_dprice['log_return'] = 100*np.log(IBM_dprice['Close'] / IBM_dprice['Close'].shift(1))\n",
        "IBM_log_return = IBM_dprice['log_return'].dropna()\n",
        "\n",
        "# Step 2: Fit an ARMA(0,0) model (i.e., a constant mean model) to the log returns\n",
        "arma_model = ARIMA(IBM_log_return, order=(0, 0, 0))\n",
        "arma_result = arma_model.fit()\n",
        "\n",
        "# Forecast the next period mean return\n",
        "# Instead of using [0], use .iloc[0] to access the first element regardless of the index label.\n",
        "forecast_series = arma_result.forecast(steps=1)\n",
        "mean_forecast = forecast_series.iloc[0]\n",
        "print(\"Forecasted mean return:\", mean_forecast)\n",
        "\n",
        "# Step 3: Estimate a GARCH(1,1) model on the ARMA residuals\n",
        "residuals = arma_result.resid\n",
        "garch_model = arch_model(residuals, vol='Garch', p=1, q=1, mean='Zero', dist='normal')\n",
        "garch_result = garch_model.fit(disp='off')\n",
        "\n",
        "# Forecast the next period volatility (sigma)\n",
        "garch_forecast = garch_result.forecast(horizon=1)\n",
        "\n",
        "# It is often useful to inspect the forecast variance DataFrame\n",
        "print(\"Forecast variance DataFrame:\")\n",
        "print(garch_forecast.variance)\n",
        "\n",
        "# The forecast variance is stored in a DataFrame where each row corresponds to a date\n",
        "# and each column corresponds to the forecast horizon. For horizon=1, extract the first forecast value.\n",
        "# We use .iloc[-1] to select the last row (most recent forecast) and then .values[0] to get the first element.\n",
        "sigma_forecast = np.sqrt(garch_forecast.variance.iloc[-1].values[0])\n",
        "print(\"Forecasted sigma:\", sigma_forecast)\n",
        "\n",
        "# Step 4: Compute the VaR for the loss L_{t+1} = - (r_{t+1} + 1.65 * sigma_{t+1})\n",
        "VaR = -mean_forecast + 1.65 * sigma_forecast\n",
        "print(\"The VaR at 95% confidence level is:\", VaR)\n"
      ]
    }
  ],
  "metadata": {
    "colab": {
      "provenance": []
    },
    "kernelspec": {
      "display_name": "base",
      "language": "python",
      "name": "python3"
    },
    "language_info": {
      "codemirror_mode": {
        "name": "ipython",
        "version": 3
      },
      "file_extension": ".py",
      "mimetype": "text/x-python",
      "name": "python",
      "nbconvert_exporter": "python",
      "pygments_lexer": "ipython3",
      "version": "3.12.2"
    }
  },
  "nbformat": 4,
  "nbformat_minor": 0
}
