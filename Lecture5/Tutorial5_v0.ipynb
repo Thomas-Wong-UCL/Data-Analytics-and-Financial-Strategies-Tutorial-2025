{
  "cells": [
    {
      "cell_type": "code",
      "execution_count": null,
      "metadata": {
        "colab": {
          "base_uri": "https://localhost:8080/"
        },
        "id": "vnVY7hv3TJuZ",
        "outputId": "c8f18215-7cc9-42cf-cb9d-81f69baa9a51"
      },
      "outputs": [
        {
          "name": "stdout",
          "output_type": "stream",
          "text": [
            "Requirement already satisfied: arch in /usr/local/lib/python3.11/dist-packages (7.2.0)\n",
            "Requirement already satisfied: numpy>=1.22.3 in /usr/local/lib/python3.11/dist-packages (from arch) (1.26.4)\n",
            "Requirement already satisfied: scipy>=1.8 in /usr/local/lib/python3.11/dist-packages (from arch) (1.13.1)\n",
            "Requirement already satisfied: pandas>=1.4 in /usr/local/lib/python3.11/dist-packages (from arch) (2.2.2)\n",
            "Requirement already satisfied: statsmodels>=0.12 in /usr/local/lib/python3.11/dist-packages (from arch) (0.14.4)\n",
            "Requirement already satisfied: python-dateutil>=2.8.2 in /usr/local/lib/python3.11/dist-packages (from pandas>=1.4->arch) (2.8.2)\n",
            "Requirement already satisfied: pytz>=2020.1 in /usr/local/lib/python3.11/dist-packages (from pandas>=1.4->arch) (2025.1)\n",
            "Requirement already satisfied: tzdata>=2022.7 in /usr/local/lib/python3.11/dist-packages (from pandas>=1.4->arch) (2025.1)\n",
            "Requirement already satisfied: patsy>=0.5.6 in /usr/local/lib/python3.11/dist-packages (from statsmodels>=0.12->arch) (1.0.1)\n",
            "Requirement already satisfied: packaging>=21.3 in /usr/local/lib/python3.11/dist-packages (from statsmodels>=0.12->arch) (24.2)\n",
            "Requirement already satisfied: six>=1.5 in /usr/local/lib/python3.11/dist-packages (from python-dateutil>=2.8.2->pandas>=1.4->arch) (1.17.0)\n"
          ]
        }
      ],
      "source": [
        "!pip install arch"
      ]
    },
    {
      "cell_type": "code",
      "execution_count": 1,
      "metadata": {
        "id": "t5IhoRzw2uKu"
      },
      "outputs": [],
      "source": [
        "import yfinance as yf\n",
        "import numpy as np\n",
        "import pandas as pd\n",
        "from statsmodels.tsa.arima.model import ARIMA\n",
        "from arch import arch_model\n",
        "import matplotlib.pyplot as plt"
      ]
    },
    {
      "cell_type": "code",
      "execution_count": 18,
      "metadata": {
        "colab": {
          "base_uri": "https://localhost:8080/"
        },
        "id": "hZSJAGi8W29g",
        "outputId": "ff43f1d7-26d7-4da8-f7d6-0d3c434940ab"
      },
      "outputs": [
        {
          "name": "stderr",
          "output_type": "stream",
          "text": [
            "[*********************100%***********************]  1 of 1 completed"
          ]
        },
        {
          "name": "stdout",
          "output_type": "stream",
          "text": [
            "Forecasted mean return: 0.1584099098265634\n",
            "\n",
            "Fitting GARCH model with mean model: Constant and distribution: normal\n",
            "AIC 2670.1887403024703\n",
            "Forecast:\n",
            "mean -0.006546763874503019 - variance 10.500866713650446\n",
            "Forecasted sigma: 3.2405040832639673\n",
            "The VaR at 95% confidence level (normal) is: 5.188421827558982\n",
            "\n",
            "Fitting GARCH model with mean model: Constant and distribution: normal\n",
            "AIC 2674.521679680584\n",
            "Forecast:\n",
            "mean -0.00542988079548213 - variance 11.60512310286345\n",
            "Forecasted sigma: 3.4066292875602784\n",
            "The VaR at 95% confidence level (normal) is: 5.462528414647895\n",
            "\n",
            "Fitting GARCH model with mean model: Constant and distribution: t\n",
            "AIC 2625.4772831533073\n",
            "Forecast:\n",
            "mean 0.09546207651955567 - variance 14.05741991021217\n",
            "Forecasted sigma: 3.7493225935110157\n",
            "The VaR at 95% confidence level (t) is: 8.663746152704858\n",
            "\n",
            "Fitting GARCH model with mean model: Constant and distribution: t\n",
            "AIC 2628.0786178860835\n",
            "Forecast:\n",
            "mean 0.08524745103661639 - variance 14.430632227363498\n",
            "Forecasted sigma: 3.7987671983636346\n",
            "The VaR at 95% confidence level (t) is: 8.78008930792307\n",
            "\n",
            "Fitting GARCH model with mean model: AR and distribution: normal\n",
            "AIC 2668.5914567367868\n",
            "Forecast:\n",
            "mean -0.014369651321218795 - variance 10.45259691118074\n",
            "Forecasted sigma: 3.233047619689623\n",
            "The VaR at 95% confidence level (normal) is: 5.176118662661315\n",
            "\n",
            "Fitting GARCH model with mean model: AR and distribution: normal\n",
            "AIC 2673.0417550355196\n",
            "Forecast:\n",
            "mean -0.026028236246566874 - variance 11.563434340501313\n",
            "Forecasted sigma: 3.4005050125681793\n",
            "The VaR at 95% confidence level (normal) is: 5.452423360910933\n",
            "\n",
            "Fitting GARCH model with mean model: AR and distribution: t\n",
            "AIC 2624.40850781184\n",
            "Forecast:\n",
            "mean 0.12370960240040439 - variance 13.935537602658464\n",
            "Forecasted sigma: 3.733033297823429\n",
            "The VaR at 95% confidence level (t) is: 8.625417439951965\n",
            "\n",
            "Fitting GARCH model with mean model: AR and distribution: t\n",
            "AIC 2626.987922084558\n",
            "Forecast:\n",
            "mean 0.11575342221596747 - variance 14.294737825693526\n",
            "Forecasted sigma: 3.7808382437884758\n",
            "The VaR at 95% confidence level (t) is: 8.73790247780772\n"
          ]
        },
        {
          "name": "stderr",
          "output_type": "stream",
          "text": [
            "\n",
            "/home/carlo/miniconda3/lib/python3.12/site-packages/statsmodels/tsa/base/tsa_model.py:473: ValueWarning: No frequency information was provided, so inferred frequency W-THU will be used.\n",
            "  self._init_dates(dates, freq)\n",
            "/home/carlo/miniconda3/lib/python3.12/site-packages/statsmodels/tsa/base/tsa_model.py:473: ValueWarning: No frequency information was provided, so inferred frequency W-THU will be used.\n",
            "  self._init_dates(dates, freq)\n",
            "/home/carlo/miniconda3/lib/python3.12/site-packages/statsmodels/tsa/base/tsa_model.py:473: ValueWarning: No frequency information was provided, so inferred frequency W-THU will be used.\n",
            "  self._init_dates(dates, freq)\n"
          ]
        }
      ],
      "source": [
        "\n",
        "# Step 1: Download IBM price data and compute log returns\n",
        "IBM_dprice = yf.download('IBM', start=\"2015-01-01\", end=\"2025-01-01\", auto_adjust=True, interval='1wk')\n",
        "IBM_dprice['log_return'] = 100 * np.log(IBM_dprice['Close'] / IBM_dprice['Close'].shift(1))\n",
        "IBM_log_return = IBM_dprice['log_return'].dropna()\n",
        "\n",
        "# Step 2: Fit an ARMA(0,0) model (i.e., a constant mean model) to the log returns\n",
        "arma_model = ARIMA(IBM_log_return, order=(0, 0, 0))\n",
        "arma_result = arma_model.fit()\n",
        "\n",
        "# Forecast the next period mean return\n",
        "forecast_series = arma_result.forecast(steps=1)\n",
        "mean_forecast = forecast_series.iloc[0]\n",
        "print(\"Forecasted mean return:\", mean_forecast)\n",
        "\n",
        "# Step 3: Estimate a GARCH(1,1) model on the ARMA residuals\n",
        "residuals = arma_result.resid\n",
        "\n",
        "mean_models = ['Constant', 'AR']\n",
        "vols = [\"GARCH\", \"EGARCH\"]\n",
        "dists = ['normal', 't']\n",
        "\n",
        "results = []\n",
        "\n",
        "for mean in mean_models:\n",
        "    for dist in dists:\n",
        "        for vol in vols:\n",
        "            print(\"\\nFitting GARCH model with mean model:\", mean, \"and distribution:\", dist)\n",
        "            # Use the current loop variable `dist` instead of `dists`\n",
        "            garch_model = arch_model(residuals, mean=mean, vol=vol, lags=1 if mean==\"AR\" else 0, p=1, q=1, dist=dist)\n",
        "            garch_result = garch_model.fit(disp='off')\n",
        "            garch_forecast = garch_result.forecast(horizon=1)\n",
        "            print(f\"AIC {garch_result.aic}\")\n",
        "\n",
        "            print(\"Forecast:\")\n",
        "            print(f\"mean {garch_forecast.mean.iloc[-1].values[0]} - variance {garch_forecast.variance.iloc[-1].values[0]}\")\n",
        "            sigma_forecast = np.sqrt(garch_forecast.variance.iloc[-1].values[0])\n",
        "            print(\"Forecasted sigma:\", sigma_forecast)\n",
        "\n",
        "            if dist == 'normal':\n",
        "                VaR = -mean_forecast + 1.65 * sigma_forecast\n",
        "                print(\"The VaR at 95% confidence level (normal) is:\", VaR)\n",
        "            elif dist == 't':\n",
        "                VaR = -mean_forecast + 2.353 * sigma_forecast\n",
        "                print(\"The VaR at 95% confidence level (t) is:\", VaR)\n",
        "\n",
        "            results.append({'mean': mean, 'dist': dist, 'vol': vol, 'meanret': garch_forecast.mean.iloc[-1].values[0], 'aic': garch_result.aic, 'VaR': VaR})"
      ]
    },
    {
      "cell_type": "code",
      "execution_count": 19,
      "metadata": {},
      "outputs": [
        {
          "name": "stdout",
          "output_type": "stream",
          "text": [
            "mean                AR\n",
            "dist                 t\n",
            "vol              GARCH\n",
            "meanret        0.12371\n",
            "aic        2624.408508\n",
            "VaR           8.625417\n",
            "Name: 6, dtype: object\n"
          ]
        }
      ],
      "source": [
        "results_df = pd.DataFrame(results)\n",
        "#print(results_df)\n",
        "\n",
        "best_model = results_df.loc[results_df['aic'].idxmin()]\n",
        "\n",
        "print(best_model)"
      ]
    },
    {
      "cell_type": "code",
      "execution_count": null,
      "metadata": {
        "colab": {
          "base_uri": "https://localhost:8080/",
          "height": 598
        },
        "id": "FvC4ivsw2Sq6",
        "outputId": "320e99e5-3722-44c2-970c-d66e4ff01ae7"
      },
      "outputs": [
        {
          "name": "stderr",
          "output_type": "stream",
          "text": [
            "\r[*********************100%***********************]  1 of 1 completed\n"
          ]
        },
        {
          "name": "stdout",
          "output_type": "stream",
          "text": [
            "The VaR at 95% confidence level is: 2.95%\n"
          ]
        },
        {
          "data": {
            "image/png": "[encoded data removed]",
            "text/plain": [
              "<Figure size 1000x600 with 1 Axes>"
            ]
          },
          "metadata": {},
          "output_type": "display_data"
        }
      ],
      "source": [
        "# Step 1: Download IBM price data\n",
        "IBM_dprice = yf.download('IBM', start=\"2020-01-01\", end=\"2022-01-01\", auto_adjust=True)\n",
        "\n",
        "# Step 2: Compute daily log returns in percentage\n",
        "IBM_dprice['log_return'] = 100 * np.log(IBM_dprice['Close'] / IBM_dprice['Close'].shift(1))\n",
        "IBM_log_return = IBM_dprice['log_return'].dropna()  # Drop the first NaN\n",
        "\n",
        "# Step 3: Define a function to calculate VaR using the quantile method\n",
        "def calculate_VaR(returns, confidence_level=0.95):\n",
        "    \"\"\"\n",
        "    Calculate Value at Risk (VaR) using the quantile method.\n",
        "\n",
        "    Parameters:\n",
        "        returns (array-like): Historical returns (losses should be negative).\n",
        "        confidence_level (float): Confidence level (e.g., 0.95 for 95% confidence).\n",
        "\n",
        "    Returns:\n",
        "        float: VaR (expressed as a positive number representing the potential loss).\n",
        "    \"\"\"\n",
        "    # Compute the quantile corresponding to the tail probability.\n",
        "    # For a 95% confidence level, we take the 5th percentile.\n",
        "    quantile_value = np.quantile(returns, 1 - confidence_level)\n",
        "\n",
        "    # Since losses are negative, the VaR is the absolute value of this quantile.\n",
        "    VaR = -quantile_value\n",
        "    return VaR\n",
        "\n",
        "# Set the desired confidence level\n",
        "confidence_level = 0.95\n",
        "\n",
        "# Calculate VaR for IBM using the computed log returns\n",
        "VaR_value = calculate_VaR(IBM_log_return, confidence_level)\n",
        "print(f\"The VaR at {confidence_level*100:.0f}% confidence level is: {VaR_value:.2f}%\")\n",
        "\n",
        "# Step 4: Visualize the returns distribution and the VaR threshold\n",
        "plt.figure(figsize=(10, 6))\n",
        "plt.hist(IBM_log_return, bins=50, alpha=0.7, color='skyblue', edgecolor='black')\n",
        "plt.axvline(np.quantile(IBM_log_return, 1 - confidence_level), color='red', linestyle='dashed', linewidth=2,\n",
        "            label=f'VaR threshold (5th percentile)')\n",
        "plt.title(\"Histogram of IBM Daily Log Returns with VaR Threshold\")\n",
        "plt.xlabel(\"Daily Log Return (%)\")\n",
        "plt.ylabel(\"Frequency\")\n",
        "plt.legend()\n",
        "plt.show()\n",
        "\n"
      ]
    }
  ],
  "metadata": {
    "colab": {
      "provenance": []
    },
    "kernelspec": {
      "display_name": "base",
      "language": "python",
      "name": "python3"
    },
    "language_info": {
      "codemirror_mode": {
        "name": "ipython",
        "version": 3
      },
      "file_extension": ".py",
      "mimetype": "text/x-python",
      "name": "python",
      "nbconvert_exporter": "python",
      "pygments_lexer": "ipython3",
      "version": "3.12.2"
    }
  },
  "nbformat": 4,
  "nbformat_minor": 0
}
