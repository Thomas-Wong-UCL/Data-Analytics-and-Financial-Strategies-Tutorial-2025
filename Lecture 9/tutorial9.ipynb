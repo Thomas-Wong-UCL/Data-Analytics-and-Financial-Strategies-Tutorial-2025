{
  "nbformat": 4,
  "nbformat_minor": 0,
  "metadata": {
    "colab": {
      "provenance": []
    },
    "kernelspec": {
      "name": "python3",
      "display_name": "Python 3"
    },
    "language_info": {
      "name": "python"
    }
  },
  "cells": [
    {
      "cell_type": "code",
      "source": [
        "#The youtube series that I followed: https://www.youtube.com/playlist?list=PLqnslRFeH2UrcDBWF5mfPGpqQDSta6VK4, Github for the codes: https://github.com/patrickloeber/pytorchTutorial/blob/master/01_Installation\n",
        "#LSTM Theory: https://www.youtube.com/watch?v=YCzL96nL7j0\n",
        "#Codes for LSTM: https://www.youtube.com/watch?v=AvKSPZ7oyVg\n",
        "#PyTorch package codes: https://github.com/pytorch/pytorch/blob/v2.6.0/torch/nn/modules/linear.py"
      ],
      "metadata": {
        "id": "Wj2NxeDtO-A5"
      },
      "execution_count": null,
      "outputs": []
    },
    {
      "cell_type": "code",
      "execution_count": null,
      "metadata": {
        "id": "wxzDExNGibBF"
      },
      "outputs": [],
      "source": [
        "import torch\n",
        "import numpy as np"
      ]
    },
    {
      "cell_type": "code",
      "source": [
        "#Tensor Basics"
      ],
      "metadata": {
        "id": "WWaFz_66Chz3"
      },
      "execution_count": null,
      "outputs": []
    },
    {
      "cell_type": "code",
      "source": [
        "x1 = torch.empty(1)\n",
        "print(x1)\n",
        "\n",
        "x2 = torch.empty(3)\n",
        "print(x2)\n",
        "\n",
        "x3 = torch.empty(2, 3)\n",
        "print(x3)\n",
        "\n",
        "x4 = torch.empty(2, 2, 3)\n",
        "print(x4)\n",
        "\n",
        "x5 = torch.empty(2, 2, 2, 3)\n",
        "print(x5)"
      ],
      "metadata": {
        "colab": {
          "base_uri": "https://localhost:8080/"
        },
        "id": "w-d9XKcwjS8g",
        "outputId": "884a3a3c-6492-4c31-b5ef-a7ab14300ded"
      },
      "execution_count": null,
      "outputs": [
        {
          "output_type": "stream",
          "name": "stdout",
          "text": [
            "tensor([5.2166e-32])\n",
            "tensor([1.9369e-32, 0.0000e+00, 4.6356e+11])\n",
            "tensor([[2.8966e-32, 0.0000e+00, 3.6631e-32],\n",
            "        [0.0000e+00, 1.1210e-43, 0.0000e+00]])\n",
            "tensor([[[3.4416e+05, 4.4460e-41, 1.5081e-38],\n",
            "         [0.0000e+00, 6.6017e+03, 4.4460e-41]],\n",
            "\n",
            "        [[1.3738e-38, 0.0000e+00, 1.5080e-38],\n",
            "         [0.0000e+00, 6.6018e+03, 4.4460e-41]]])\n",
            "tensor([[[[1.3834e-38, 0.0000e+00, 1.3884e-38],\n",
            "          [0.0000e+00, 1.5099e-38, 0.0000e+00]],\n",
            "\n",
            "         [[1.5117e-38, 0.0000e+00, 1.3834e-38],\n",
            "          [0.0000e+00, 1.5077e-38, 0.0000e+00]]],\n",
            "\n",
            "\n",
            "        [[[3.9149e+04, 4.4460e-41, 3.9137e+04],\n",
            "          [4.4460e-41, 1.5099e-38, 0.0000e+00]],\n",
            "\n",
            "         [[1.5077e-38, 0.0000e+00, 1.5099e-38],\n",
            "          [0.0000e+00, 1.5077e-38, 0.0000e+00]]]])\n"
          ]
        }
      ]
    },
    {
      "cell_type": "code",
      "source": [
        "x6 = torch.rand(2,2)\n",
        "print(x6)"
      ],
      "metadata": {
        "colab": {
          "base_uri": "https://localhost:8080/"
        },
        "id": "1D6SdesOjYbC",
        "outputId": "7f48637d-ca51-4969-c2f9-3d3b8107ac56"
      },
      "execution_count": null,
      "outputs": [
        {
          "output_type": "stream",
          "name": "stdout",
          "text": [
            "tensor([[0.0508, 0.2936],\n",
            "        [0.6220, 0.3142]])\n"
          ]
        }
      ]
    },
    {
      "cell_type": "code",
      "source": [
        "x7 = torch.ones(2,2, dtype=torch.int)\n",
        "print(x7)\n",
        "print(x7.dtype)\n",
        "\n",
        "x8 = torch.ones(2,2, dtype=torch.float64)\n",
        "print(x8)\n",
        "print(x8.dtype)\n",
        "\n",
        "x9 = torch.ones(2,2, dtype=torch.float16)\n",
        "print(x9)\n",
        "print(x9.dtype)"
      ],
      "metadata": {
        "colab": {
          "base_uri": "https://localhost:8080/"
        },
        "id": "G7rB_47wkKy7",
        "outputId": "bc493c91-4858-45d6-f3a9-779d0333f88d"
      },
      "execution_count": null,
      "outputs": [
        {
          "output_type": "stream",
          "name": "stdout",
          "text": [
            "tensor([[1, 1],\n",
            "        [1, 1]], dtype=torch.int32)\n",
            "torch.int32\n",
            "tensor([[1., 1.],\n",
            "        [1., 1.]], dtype=torch.float64)\n",
            "torch.float64\n",
            "tensor([[1., 1.],\n",
            "        [1., 1.]], dtype=torch.float16)\n",
            "torch.float16\n"
          ]
        }
      ]
    },
    {
      "cell_type": "code",
      "source": [
        "x10 = torch.tensor([[2.5, 0.1],[-1.0, 2.5]])\n",
        "print(x10)"
      ],
      "metadata": {
        "colab": {
          "base_uri": "https://localhost:8080/"
        },
        "id": "m8e2aXJ1vL2d",
        "outputId": "0e0bae71-d7bc-4823-eb0c-801770673f82"
      },
      "execution_count": null,
      "outputs": [
        {
          "output_type": "stream",
          "name": "stdout",
          "text": [
            "tensor([[ 2.5000,  0.1000],\n",
            "        [-1.0000,  2.5000]])\n"
          ]
        }
      ]
    },
    {
      "cell_type": "code",
      "source": [
        "y1 = torch.ones(2,2)\n",
        "y1.add_(x7)\n",
        "print(y1)\n",
        "\n",
        "y2 = torch.ones(2,2)\n",
        "y2.sub_(x7)\n",
        "print(y2)\n",
        "\n",
        "y3 = torch.sub(y2,x7)\n",
        "print(y3)\n",
        "\n",
        "y4 = torch.mul(y1,x10)\n",
        "print(y4)\n",
        "\n",
        "y5 = torch.div(y1,x10)\n",
        "print(y5)"
      ],
      "metadata": {
        "colab": {
          "base_uri": "https://localhost:8080/"
        },
        "id": "Q7QqLMYHpKQ5",
        "outputId": "bb1ea7dd-5b59-4c2f-f322-9d5840ec7740"
      },
      "execution_count": null,
      "outputs": [
        {
          "output_type": "stream",
          "name": "stdout",
          "text": [
            "tensor([[2., 2.],\n",
            "        [2., 2.]])\n",
            "tensor([[0., 0.],\n",
            "        [0., 0.]])\n",
            "tensor([[-1., -1.],\n",
            "        [-1., -1.]])\n",
            "tensor([[ 5.0000,  0.2000],\n",
            "        [-2.0000,  5.0000]])\n",
            "tensor([[ 0.8000, 20.0000],\n",
            "        [-2.0000,  0.8000]])\n"
          ]
        }
      ]
    },
    {
      "cell_type": "markdown",
      "source": [
        "$$\n",
        "\\mathbf{A} = \\begin{bmatrix}\n",
        "a & b \\\\\n",
        "c & d\n",
        "\\end{bmatrix}, \\quad\n",
        "\\mathbf{B} = \\begin{bmatrix}\n",
        "e & f \\\\\n",
        "g & h\n",
        "\\end{bmatrix}\n",
        "$$\n",
        "\n",
        "$$\n",
        "\\mathbf{A} \\odot \\mathbf{B} = \\begin{bmatrix}\n",
        "a \\cdot e & b \\cdot f \\\\\n",
        "c \\cdot g & d \\cdot h\n",
        "\\end{bmatrix}\n",
        "$$\n",
        "\n"
      ],
      "metadata": {
        "id": "IwNp-imdxGg-"
      }
    },
    {
      "cell_type": "markdown",
      "source": [
        "$$\n",
        "\\mathbf{Y_1} = \\begin{bmatrix}\n",
        "2 & 2 \\\\\n",
        "2 & 2\n",
        "\\end{bmatrix}, \\quad\n",
        "\\mathbf{X_{10}} = \\begin{bmatrix}\n",
        "2.5 & 0.1 \\\\\n",
        "-1.0 & 2.5\n",
        "\\end{bmatrix}\n",
        "$$\n",
        "\n",
        "$$\n",
        "\\mathbf{Y_4} = \\mathbf{Y_1} \\odot \\mathbf{X_{10}} = \\begin{bmatrix}\n",
        "2 \\cdot 2.5 & 2 \\cdot 0.1 \\\\\n",
        "2 \\cdot (-1.0) & 2 \\cdot 2.5\n",
        "\\end{bmatrix} = \\begin{bmatrix}\n",
        "5.0 & 0.2 \\\\\n",
        "-2.0 & 5.0\n",
        "\\end{bmatrix}\n",
        "$$\n"
      ],
      "metadata": {
        "id": "DVwhrQ4MxOEu"
      }
    },
    {
      "cell_type": "code",
      "source": [
        "print(x6)\n",
        "print(x6[:, 0])\n",
        "print(x6[:, 1])\n",
        "print(x6[0, :])\n",
        "print(x6[1, :])\n",
        "print(x6[0, 0])\n",
        "print(x6[1, 0])\n",
        "print(x6[0, 1])\n",
        "print(x6[1, 1])"
      ],
      "metadata": {
        "colab": {
          "base_uri": "https://localhost:8080/"
        },
        "id": "jdf1zkwBxLFu",
        "outputId": "a0e73200-4ac4-4d04-8709-cd2bc25d5a81"
      },
      "execution_count": null,
      "outputs": [
        {
          "output_type": "stream",
          "name": "stdout",
          "text": [
            "tensor([[0.0508, 0.2936],\n",
            "        [0.6220, 0.3142]])\n",
            "tensor([0.0508, 0.6220])\n",
            "tensor([0.2936, 0.3142])\n",
            "tensor([0.0508, 0.2936])\n",
            "tensor([0.6220, 0.3142])\n",
            "tensor(0.0508)\n",
            "tensor(0.6220)\n",
            "tensor(0.2936)\n",
            "tensor(0.3142)\n"
          ]
        }
      ]
    },
    {
      "cell_type": "code",
      "source": [
        "x11 = torch.rand(2,2,2)\n",
        "print(x11)"
      ],
      "metadata": {
        "colab": {
          "base_uri": "https://localhost:8080/"
        },
        "id": "g-y6Zx56z8tU",
        "outputId": "3de14f31-a2cf-40dc-98cf-d65c0ee646d3"
      },
      "execution_count": null,
      "outputs": [
        {
          "output_type": "stream",
          "name": "stdout",
          "text": [
            "tensor([[[0.0355, 0.1472],\n",
            "         [0.4605, 0.4960]],\n",
            "\n",
            "        [[0.7705, 0.6248],\n",
            "         [0.9110, 0.9582]]])\n"
          ]
        }
      ]
    },
    {
      "cell_type": "code",
      "source": [
        "print(x11[0, 0, 0])\n",
        "print(x11[0, 0, 1])\n",
        "print(x11[0, 1, 0])\n",
        "print(x11[0, 1, 1])\n",
        "print(x11[1, 0, 0])\n",
        "print(x11[1, 0, 1])\n",
        "print(x11[1, 1, 0])\n",
        "print(x11[1, 1, 1])"
      ],
      "metadata": {
        "colab": {
          "base_uri": "https://localhost:8080/"
        },
        "id": "4xfcUpTL2NgF",
        "outputId": "95d29d68-328f-49e5-bf0f-33b4edf50cbb"
      },
      "execution_count": null,
      "outputs": [
        {
          "output_type": "stream",
          "name": "stdout",
          "text": [
            "tensor(0.9774)\n",
            "tensor(0.1755)\n",
            "tensor(0.4850)\n",
            "tensor(0.6023)\n",
            "tensor(0.3781)\n",
            "tensor(0.9620)\n",
            "tensor(0.7324)\n",
            "tensor(0.3758)\n"
          ]
        }
      ]
    },
    {
      "cell_type": "code",
      "source": [
        "print(x11[0, 0, :])\n",
        "print(x11[0, 1, :])\n",
        "print(x11[1, 0, :])\n",
        "print(x11[1, 1, :])"
      ],
      "metadata": {
        "colab": {
          "base_uri": "https://localhost:8080/"
        },
        "id": "fFlW6Gi36wjF",
        "outputId": "a75a9478-f05d-4813-9c91-e9309b24b9b1"
      },
      "execution_count": null,
      "outputs": [
        {
          "output_type": "stream",
          "name": "stdout",
          "text": [
            "tensor([0.9774, 0.1755])\n",
            "tensor([0.4850, 0.6023])\n",
            "tensor([0.3781, 0.9620])\n",
            "tensor([0.7324, 0.3758])\n"
          ]
        }
      ]
    },
    {
      "cell_type": "code",
      "source": [
        "print(x11[0,:,:])\n",
        "print(x11[1,:,:])"
      ],
      "metadata": {
        "colab": {
          "base_uri": "https://localhost:8080/"
        },
        "id": "ZPIAOUDv7g8M",
        "outputId": "847c4b29-abe8-4cbc-c60b-462db3a4c96d"
      },
      "execution_count": null,
      "outputs": [
        {
          "output_type": "stream",
          "name": "stdout",
          "text": [
            "tensor([[0.0355, 0.1472],\n",
            "        [0.4605, 0.4960]])\n",
            "tensor([[0.7705, 0.6248],\n",
            "        [0.9110, 0.9582]])\n"
          ]
        }
      ]
    },
    {
      "cell_type": "code",
      "source": [
        "x12 = torch.rand(4,4)\n",
        "print(x12)\n",
        "y6 = x12.view(16)\n",
        "print(y6)\n",
        "y7 = x12.view(2,8)\n",
        "print(y7)\n",
        "y8 = x12.view(4,4)\n",
        "print(y8, y8.size())"
      ],
      "metadata": {
        "colab": {
          "base_uri": "https://localhost:8080/"
        },
        "id": "rOdsRRFp8DuG",
        "outputId": "43422b12-87c9-4608-e6f3-4d3723bc1f77"
      },
      "execution_count": null,
      "outputs": [
        {
          "output_type": "stream",
          "name": "stdout",
          "text": [
            "tensor([[0.6572, 0.8081, 0.6113, 0.2607],\n",
            "        [0.2656, 0.0288, 0.9015, 0.7872],\n",
            "        [0.4054, 0.6026, 0.4408, 0.7878],\n",
            "        [0.0196, 0.0515, 0.7702, 0.4218]])\n",
            "tensor([0.6572, 0.8081, 0.6113, 0.2607, 0.2656, 0.0288, 0.9015, 0.7872, 0.4054,\n",
            "        0.6026, 0.4408, 0.7878, 0.0196, 0.0515, 0.7702, 0.4218])\n",
            "tensor([[0.6572, 0.8081, 0.6113, 0.2607, 0.2656, 0.0288, 0.9015, 0.7872],\n",
            "        [0.4054, 0.6026, 0.4408, 0.7878, 0.0196, 0.0515, 0.7702, 0.4218]])\n",
            "tensor([[0.6572, 0.8081, 0.6113, 0.2607],\n",
            "        [0.2656, 0.0288, 0.9015, 0.7872],\n",
            "        [0.4054, 0.6026, 0.4408, 0.7878],\n",
            "        [0.0196, 0.0515, 0.7702, 0.4218]]) torch.Size([4, 4])\n"
          ]
        }
      ]
    },
    {
      "cell_type": "code",
      "source": [
        "y9 = x12.view(-1, 8)\n",
        "print(y9, y9.size())\n",
        "y10 = x12.view(-1, 4)\n",
        "print(y10, y10.size())\n",
        "y11 = x12.view(-1, 2)\n",
        "print(y11, y11.size())\n",
        "y12 = x12.view(-1, 1)\n",
        "print(y12, y12.size())"
      ],
      "metadata": {
        "colab": {
          "base_uri": "https://localhost:8080/"
        },
        "id": "Ii-KWMb39OlI",
        "outputId": "3b600fd5-d949-4939-8e51-70627602b517"
      },
      "execution_count": null,
      "outputs": [
        {
          "output_type": "stream",
          "name": "stdout",
          "text": [
            "tensor([[0.6572, 0.8081, 0.6113, 0.2607, 0.2656, 0.0288, 0.9015, 0.7872],\n",
            "        [0.4054, 0.6026, 0.4408, 0.7878, 0.0196, 0.0515, 0.7702, 0.4218]]) torch.Size([2, 8])\n",
            "tensor([[0.6572, 0.8081, 0.6113, 0.2607],\n",
            "        [0.2656, 0.0288, 0.9015, 0.7872],\n",
            "        [0.4054, 0.6026, 0.4408, 0.7878],\n",
            "        [0.0196, 0.0515, 0.7702, 0.4218]]) torch.Size([4, 4])\n",
            "tensor([[0.6572, 0.8081],\n",
            "        [0.6113, 0.2607],\n",
            "        [0.2656, 0.0288],\n",
            "        [0.9015, 0.7872],\n",
            "        [0.4054, 0.6026],\n",
            "        [0.4408, 0.7878],\n",
            "        [0.0196, 0.0515],\n",
            "        [0.7702, 0.4218]]) torch.Size([8, 2])\n",
            "tensor([[0.6572],\n",
            "        [0.8081],\n",
            "        [0.6113],\n",
            "        [0.2607],\n",
            "        [0.2656],\n",
            "        [0.0288],\n",
            "        [0.9015],\n",
            "        [0.7872],\n",
            "        [0.4054],\n",
            "        [0.6026],\n",
            "        [0.4408],\n",
            "        [0.7878],\n",
            "        [0.0196],\n",
            "        [0.0515],\n",
            "        [0.7702],\n",
            "        [0.4218]]) torch.Size([16, 1])\n"
          ]
        }
      ]
    },
    {
      "cell_type": "code",
      "source": [
        "x13 = torch.ones(5)\n",
        "print(x13, type(x13))\n",
        "y13 = x13.numpy()\n",
        "print(y13, type(y13))"
      ],
      "metadata": {
        "colab": {
          "base_uri": "https://localhost:8080/"
        },
        "id": "dxq2trb69oRL",
        "outputId": "d42fa172-c68b-4184-8d00-8596aea1a8d2"
      },
      "execution_count": null,
      "outputs": [
        {
          "output_type": "stream",
          "name": "stdout",
          "text": [
            "tensor([1., 1., 1., 1., 1.]) <class 'torch.Tensor'>\n",
            "[1. 1. 1. 1. 1.] <class 'numpy.ndarray'>\n"
          ]
        }
      ]
    },
    {
      "cell_type": "code",
      "source": [
        "x13.add_(1)\n",
        "print(x13)\n",
        "print(y13)"
      ],
      "metadata": {
        "colab": {
          "base_uri": "https://localhost:8080/"
        },
        "id": "eun3LUE__C-y",
        "outputId": "050bac34-b936-4fe8-a557-30866ba75999"
      },
      "execution_count": null,
      "outputs": [
        {
          "output_type": "stream",
          "name": "stdout",
          "text": [
            "tensor([2., 2., 2., 2., 2.])\n",
            "[2. 2. 2. 2. 2.]\n"
          ]
        }
      ]
    },
    {
      "cell_type": "code",
      "source": [
        "x14 = np.ones(5)\n",
        "print(x14, type(x14))\n",
        "y14 = torch.from_numpy(x14)\n",
        "print(y14, type(y14))\n",
        "\n",
        "x14 += 1\n",
        "print(x14)\n",
        "print(y14)"
      ],
      "metadata": {
        "colab": {
          "base_uri": "https://localhost:8080/"
        },
        "id": "RjjMlYGUA26O",
        "outputId": "78178ee6-4eca-4895-b25b-54791f9b34bb"
      },
      "execution_count": null,
      "outputs": [
        {
          "output_type": "stream",
          "name": "stdout",
          "text": [
            "[1. 1. 1. 1. 1.] <class 'numpy.ndarray'>\n",
            "tensor([1., 1., 1., 1., 1.], dtype=torch.float64) <class 'torch.Tensor'>\n",
            "[2. 2. 2. 2. 2.]\n",
            "tensor([2., 2., 2., 2., 2.], dtype=torch.float64)\n"
          ]
        }
      ]
    },
    {
      "cell_type": "code",
      "source": [
        "x15 = np.ones(5)\n",
        "print(x14, type(x14))\n",
        "y15 = np.array(x15)\n",
        "print(y15, type(y15))\n",
        "\n",
        "x15 += 1\n",
        "print(x15)\n",
        "print(y15)"
      ],
      "metadata": {
        "colab": {
          "base_uri": "https://localhost:8080/"
        },
        "id": "elROmbOEBPQP",
        "outputId": "ced042e5-0638-406a-b7e3-a9619857b49d"
      },
      "execution_count": null,
      "outputs": [
        {
          "output_type": "stream",
          "name": "stdout",
          "text": [
            "[2. 2. 2. 2. 2.] <class 'numpy.ndarray'>\n",
            "[1. 1. 1. 1. 1.] <class 'numpy.ndarray'>\n",
            "[2. 2. 2. 2. 2.]\n",
            "[1. 1. 1. 1. 1.]\n"
          ]
        }
      ]
    },
    {
      "cell_type": "code",
      "source": [
        "#Gradient Calculation with Autograd"
      ],
      "metadata": {
        "id": "TPNjWXf3CXVI"
      },
      "execution_count": null,
      "outputs": []
    },
    {
      "cell_type": "code",
      "source": [
        "for name in list(globals().keys()):\n",
        "    if not name.startswith(\"_\"):\n",
        "        del globals()[name]"
      ],
      "metadata": {
        "id": "Q2EkzjvZE_jO"
      },
      "execution_count": null,
      "outputs": []
    },
    {
      "cell_type": "code",
      "source": [
        "import torch"
      ],
      "metadata": {
        "id": "zQmpcBH3F6FC"
      },
      "execution_count": null,
      "outputs": []
    },
    {
      "cell_type": "code",
      "source": [
        "x = torch.randn(3, requires_grad=True)\n",
        "print(x)"
      ],
      "metadata": {
        "colab": {
          "base_uri": "https://localhost:8080/"
        },
        "id": "l3AUjunsFqgC",
        "outputId": "592044b4-ea9a-4116-c641-cf66cacda616"
      },
      "execution_count": null,
      "outputs": [
        {
          "output_type": "stream",
          "name": "stdout",
          "text": [
            "tensor([-1.2255, -0.6651,  0.8562], requires_grad=True)\n"
          ]
        }
      ]
    },
    {
      "cell_type": "code",
      "source": [
        "y = x+2\n",
        "print(y)\n",
        "\n",
        "z = y*y*2\n",
        "print(z)\n",
        "\n",
        "z = z.mean()\n",
        "print(z)\n",
        "\n",
        "z.backward()\n",
        "print(x.grad)"
      ],
      "metadata": {
        "colab": {
          "base_uri": "https://localhost:8080/"
        },
        "id": "lbD5LZ0yFs1K",
        "outputId": "c0c88281-f1ce-4f57-e862-fd8d3d2c4f1d"
      },
      "execution_count": null,
      "outputs": [
        {
          "output_type": "stream",
          "name": "stdout",
          "text": [
            "tensor([0.7745, 1.3349, 2.8562], grad_fn=<AddBackward0>)\n",
            "tensor([ 1.1997,  3.5639, 16.3154], grad_fn=<MulBackward0>)\n",
            "tensor(7.0263, grad_fn=<MeanBackward0>)\n",
            "tensor([ 3.0979,  5.3396, 11.4247])\n"
          ]
        }
      ]
    },
    {
      "cell_type": "code",
      "source": [
        "x1 = torch.randn(3, requires_grad=True)\n",
        "print(x1)"
      ],
      "metadata": {
        "id": "RGVsR-AvQkRH",
        "colab": {
          "base_uri": "https://localhost:8080/"
        },
        "outputId": "6cfed1ed-d7d8-4cd2-c70b-bd893479dd9d"
      },
      "execution_count": null,
      "outputs": [
        {
          "output_type": "stream",
          "name": "stdout",
          "text": [
            "tensor([-0.3984,  2.6293, -0.1409], requires_grad=True)\n"
          ]
        }
      ]
    },
    {
      "cell_type": "code",
      "source": [
        "y1 = x1+2\n",
        "print(y1)\n",
        "\n",
        "z1 = y1*y1*2\n",
        "print(z1)\n",
        "\n",
        "v = torch. tensor ([0.1, 1.0, 0.0011], dtype=torch.float32)\n",
        "\n",
        "z1.backward(v) #\\sum_{i=1}^{j=3}{z1_{i}v_{i}}\n",
        "print(x1.grad)"
      ],
      "metadata": {
        "colab": {
          "base_uri": "https://localhost:8080/"
        },
        "id": "QdyN2vFvA2g_",
        "outputId": "8c7ee7ec-72e7-4fff-e982-aaca5f8978a5"
      },
      "execution_count": null,
      "outputs": [
        {
          "output_type": "stream",
          "name": "stdout",
          "text": [
            "tensor([1.6016, 4.6293, 1.8591], grad_fn=<AddBackward0>)\n",
            "tensor([ 5.1302, 42.8616,  6.9122], grad_fn=<MulBackward0>)\n",
            "tensor([ 3.4167, 43.2072,  2.4951])\n"
          ]
        }
      ]
    },
    {
      "cell_type": "code",
      "source": [
        "weights = torch.ones(4, requires_grad=True)\n",
        "print(weights)\n",
        "\n",
        "for epoch in range (3):\n",
        "  model_output = (weights*3).sum()\n",
        "  model_output.backward()\n",
        "  print(weights.grad)\n",
        "  #weights.grad.zero_()"
      ],
      "metadata": {
        "colab": {
          "base_uri": "https://localhost:8080/"
        },
        "id": "XCmitO3kA_bu",
        "outputId": "191878d3-7bce-48b5-f581-2b70d6cd61dc"
      },
      "execution_count": null,
      "outputs": [
        {
          "output_type": "stream",
          "name": "stdout",
          "text": [
            "tensor([1., 1., 1., 1.], requires_grad=True)\n",
            "tensor([3., 3., 3., 3.])\n",
            "tensor([3., 3., 3., 3.])\n",
            "tensor([3., 3., 3., 3.])\n"
          ]
        }
      ]
    },
    {
      "cell_type": "code",
      "source": [
        "#Gradient of a Loss Function"
      ],
      "metadata": {
        "id": "DdE8DBuqNUaH"
      },
      "execution_count": null,
      "outputs": []
    },
    {
      "cell_type": "code",
      "source": [
        "for name in list(globals().keys()):\n",
        "    if not name.startswith(\"_\"):\n",
        "        del globals()[name]"
      ],
      "metadata": {
        "id": "L5thrZfgV0Lt"
      },
      "execution_count": null,
      "outputs": []
    },
    {
      "cell_type": "code",
      "source": [
        "import torch"
      ],
      "metadata": {
        "id": "ALV4VE6AV339"
      },
      "execution_count": null,
      "outputs": []
    },
    {
      "cell_type": "code",
      "source": [
        "w = torch.tensor(1.0, requires_grad=True)\n",
        "print(w)\n",
        "x = torch.tensor(1.0, dtype=torch.float32)\n",
        "print(x)\n",
        "y = torch.tensor(2.0, dtype=torch.float32)\n",
        "print(y)\n",
        "\n",
        "y_hat = w*x\n",
        "print(y_hat)\n",
        "\n",
        "s = y_hat - y\n",
        "print(s)\n",
        "\n",
        "loss = (s)**2\n",
        "print(loss)\n",
        "\n",
        "loss.backward()\n",
        "print(w.grad)"
      ],
      "metadata": {
        "colab": {
          "base_uri": "https://localhost:8080/"
        },
        "id": "slNHuLS-T44_",
        "outputId": "19d0ae16-eb39-4a8d-87da-417923efab39"
      },
      "execution_count": null,
      "outputs": [
        {
          "output_type": "stream",
          "name": "stdout",
          "text": [
            "tensor(1., requires_grad=True)\n",
            "tensor(1.)\n",
            "tensor(2.)\n",
            "tensor(1., grad_fn=<MulBackward0>)\n",
            "tensor(-1., grad_fn=<SubBackward0>)\n",
            "tensor(1., grad_fn=<PowBackward0>)\n",
            "tensor(-2.)\n"
          ]
        }
      ]
    },
    {
      "cell_type": "code",
      "source": [
        "#Manually Impletment Gradient Decent"
      ],
      "metadata": {
        "id": "tZO2VtjdUh5O"
      },
      "execution_count": null,
      "outputs": []
    },
    {
      "cell_type": "code",
      "source": [
        "for name in list(globals().keys()):\n",
        "    if not name.startswith(\"_\"):\n",
        "        del globals()[name]"
      ],
      "metadata": {
        "id": "1WJ1xJXznEa-"
      },
      "execution_count": null,
      "outputs": []
    },
    {
      "cell_type": "code",
      "source": [
        "import numpy as np"
      ],
      "metadata": {
        "id": "6PUYWy_UnJba"
      },
      "execution_count": null,
      "outputs": []
    },
    {
      "cell_type": "code",
      "source": [
        "#y = w*X\n",
        "#y = 2*X\n",
        "\n",
        "X = np.array([1, 2, 3, 4], dtype=np.float32) #Input values\n",
        "Y = np.array([2, 4, 6, 8], dtype=np.float32) #Known values\n",
        "\n",
        "w = 0.0\n",
        "\n",
        "#Model prediciton\n",
        "\n",
        "def forward(x):\n",
        "  return w * x\n",
        "\n",
        "#loss = MSE, MSE = 1/N * (w*x - y)**2\n",
        "\n",
        "def loss(y, y_predicted):\n",
        "  return ((y_predicted-y)**2).mean()\n",
        "\n",
        "#Gradient = the differential of MSE w.r.t. w == 1/N *2x * (w*x - y)\n",
        "\n",
        "def gradient(x, y, y_predicted):\n",
        "  return np.dot(2*x, y_predicted-y).mean()\n",
        "\n",
        "print(f'Prediction before training: y(5) = {forward(5):.10f}')\n",
        "\n",
        "# Training\n",
        "learning_rate = 0.01\n",
        "n_iters = 20\n",
        "\n",
        "for epoch in range(n_iters):\n",
        "  # prediction = forward pass\n",
        "  y_pred = forward(X)\n",
        "\n",
        "  # loss\n",
        "  l = loss(Y, y_pred)\n",
        "\n",
        "  # gradients\n",
        "  dw = gradient(X, Y, y_pred)\n",
        "\n",
        "  # update weights\n",
        "  w = w - learning_rate * dw #c -= a is equivalent to c = c - a\n",
        "\n",
        "  if epoch %2  == 0: # %1 would print every step, %2 would print every other step\n",
        "    print(f'epoch {epoch+1}: w = {w:.10f}, loss = {l:.8f}')\n",
        "\n",
        "print(f'Prediction after training: y(5) = {forward(5):.10f}')"
      ],
      "metadata": {
        "colab": {
          "base_uri": "https://localhost:8080/"
        },
        "id": "Og8lgsounLF2",
        "outputId": "d42fd1a8-128a-4a14-bc5a-d49cd1503248"
      },
      "execution_count": null,
      "outputs": [
        {
          "output_type": "stream",
          "name": "stdout",
          "text": [
            "Prediction before training: y(5) = 0.0000000000\n",
            "epoch 1: w = 1.2000000000, loss = 30.00000000\n",
            "epoch 3: w = 1.8719999886, loss = 0.76800019\n",
            "epoch 5: w = 1.9795200133, loss = 0.01966083\n",
            "epoch 7: w = 1.9967231870, loss = 0.00050331\n",
            "epoch 9: w = 1.9994756985, loss = 0.00001288\n",
            "epoch 11: w = 1.9999160600, loss = 0.00000033\n",
            "epoch 13: w = 1.9999865985, loss = 0.00000001\n",
            "epoch 15: w = 1.9999978352, loss = 0.00000000\n",
            "epoch 17: w = 1.9999996305, loss = 0.00000000\n",
            "epoch 19: w = 1.9999999166, loss = 0.00000000\n",
            "Prediction after training: y(5) = 9.9999999762\n"
          ]
        }
      ]
    },
    {
      "cell_type": "code",
      "source": [
        "#Pytorch backprop training pipeline"
      ],
      "metadata": {
        "id": "Vx67J17kMrqo"
      },
      "execution_count": null,
      "outputs": []
    },
    {
      "cell_type": "code",
      "source": [
        "for name in list(globals().keys()):\n",
        "    if not name.startswith(\"_\"):\n",
        "        del globals()[name]"
      ],
      "metadata": {
        "id": "2-Kdv9OFEiF9"
      },
      "execution_count": null,
      "outputs": []
    },
    {
      "cell_type": "code",
      "source": [
        "import torch"
      ],
      "metadata": {
        "id": "gKU4xsw2Bh7W"
      },
      "execution_count": null,
      "outputs": []
    },
    {
      "cell_type": "code",
      "source": [
        "X = torch.tensor([1, 2, 3, 4], dtype=torch.float32) #Input values\n",
        "Y = torch.tensor([2, 4, 6, 8], dtype=torch.float32) #Known values\n",
        "\n",
        "w = torch.tensor(0.0, dtype=torch.float32, requires_grad=True)\n",
        "\n",
        "#Model prediciton\n",
        "\n",
        "def forward(x):\n",
        "  return w * x\n",
        "\n",
        "#loss = MSE, MSE = 1/N * (w*x - y)**2\n",
        "\n",
        "def loss(y, y_predicted):\n",
        "  return ((y_predicted-y)**2).mean()\n",
        "\n",
        "print(f'Prediction before training: y(5) = {forward(5):.10f}')\n",
        "\n",
        "# Training\n",
        "learning_rate = 0.01\n",
        "n_iters = 20\n",
        "\n",
        "for epoch in range(n_iters):\n",
        "  # prediction = forward pass\n",
        "  y_pred = forward(X)\n",
        "\n",
        "  # loss\n",
        "  l = loss(Y, y_pred)\n",
        "\n",
        "  # gradients\n",
        "  l.backward()\n",
        "  w_grad = w.grad\n",
        "\n",
        "  # update weights\n",
        "  with torch.no_grad(): # When we do l.backward(), it assigns a dl/dw = a,, where a is some constant, and a = w.grad. if we do w -= learning_rate * w.grad, we are interfering with the initial value of w used to calculate w.grad\n",
        "  # Assume that with torch.no_grad(): \"pauses\" the computational graph created from the l.backward()\n",
        "    w -= learning_rate * w_grad\n",
        "\n",
        "  # zero gradients\n",
        "  w.grad.zero_()\n",
        "\n",
        "  if epoch %2  == 0: # %1 would print every step, %2 would print every other step\n",
        "    print(f'epoch {epoch+1}: w = {w:.10f}, loss = {l:.8f}')\n",
        "\n",
        "print(f'Prediction after training: y(5) = {forward(5):.10f}') #Backpropagation is not as exact as the numerical impletmentation"
      ],
      "metadata": {
        "colab": {
          "base_uri": "https://localhost:8080/"
        },
        "id": "b_IximptDl0U",
        "outputId": "0305b2e4-ebde-454a-ed52-3c07be6ad5ef"
      },
      "execution_count": null,
      "outputs": [
        {
          "output_type": "stream",
          "name": "stdout",
          "text": [
            "Prediction before training: y(5) = 0.0000000000\n",
            "epoch 1: w = 0.2999999821, loss = 30.00000000\n",
            "epoch 3: w = 0.7717499137, loss = 15.66018772\n",
            "epoch 5: w = 1.1125893593, loss = 8.17471695\n",
            "epoch 7: w = 1.3588458300, loss = 4.26725292\n",
            "epoch 9: w = 1.5367661715, loss = 2.22753215\n",
            "epoch 11: w = 1.6653136015, loss = 1.16278565\n",
            "epoch 13: w = 1.7581890821, loss = 0.60698116\n",
            "epoch 15: w = 1.8252916336, loss = 0.31684780\n",
            "epoch 17: w = 1.8737732172, loss = 0.16539653\n",
            "epoch 19: w = 1.9088011980, loss = 0.08633806\n",
            "Prediction after training: y(5) = 9.6124057770\n"
          ]
        }
      ]
    },
    {
      "cell_type": "code",
      "source": [
        "#Pytorch Loss, and Optimizer training pipeline"
      ],
      "metadata": {
        "id": "2G-rMyf5Mkrg"
      },
      "execution_count": null,
      "outputs": []
    },
    {
      "cell_type": "code",
      "source": [
        "for name in list(globals().keys()):\n",
        "    if not name.startswith(\"_\"):\n",
        "        del globals()[name]"
      ],
      "metadata": {
        "id": "2lBAoUMNM9qG"
      },
      "execution_count": null,
      "outputs": []
    },
    {
      "cell_type": "code",
      "source": [
        "import torch\n",
        "import torch.nn as nn"
      ],
      "metadata": {
        "id": "ewPww3saM_C3"
      },
      "execution_count": null,
      "outputs": []
    },
    {
      "cell_type": "code",
      "source": [
        "X = torch.tensor([1, 2, 3, 4], dtype=torch.float32) #Input values\n",
        "Y = torch.tensor([2, 4, 6, 8], dtype=torch.float32) #Known values\n",
        "\n",
        "w = torch.tensor(0.0, dtype=torch.float32, requires_grad=True)\n",
        "\n",
        "#Model prediciton\n",
        "\n",
        "def forward(x):\n",
        "  return w * x\n",
        "\n",
        "\n",
        "print(f'Prediction before training: y(5) = {forward(5):.10f}')\n",
        "\n",
        "# Training\n",
        "learning_rate = 0.01\n",
        "n_iters = 100\n",
        "\n",
        "loss = nn.MSELoss() #nn.MSELoss is a class, and to use it, you should first create an instance of the class and then call the instance with the input and target tensors (https://github.com/pytorch/pytorch/blob/v2.6.0/torch/nn/modules/loss.py#L548, line 548)\n",
        "optimiser = torch.optim.SGD([w], lr=learning_rate)\n",
        "\n",
        "for epoch in range(n_iters):\n",
        "  # prediction = forward pass\n",
        "  y_pred = forward(X)\n",
        "\n",
        "  # loss\n",
        "  l = loss(Y, y_pred)\n",
        "\n",
        "  # gradients\n",
        "  l.backward()\n",
        "  w_grad = w.grad\n",
        "\n",
        "  # update weights\n",
        "  optimiser.step()\n",
        "\n",
        "  # zero gradients\n",
        "  optimiser.zero_grad()\n",
        "\n",
        "  if epoch %2  == 0: # %1 would print every step, %2 would print every other step\n",
        "    print(f'epoch {epoch+1}: w = {w:.10f}, loss = {l:.8f}')\n",
        "\n",
        "print(f'Prediction after training: y(5) = {forward(5):.10f}') #Backpropagation is not as exact as the numerical impletmentation"
      ],
      "metadata": {
        "colab": {
          "base_uri": "https://localhost:8080/"
        },
        "id": "zBp6SAQ7M_q3",
        "outputId": "2ea39a47-8a90-4703-85c7-2e85747331a3"
      },
      "execution_count": null,
      "outputs": [
        {
          "output_type": "stream",
          "name": "stdout",
          "text": [
            "Prediction before training: y(5) = 0.0000000000\n",
            "epoch 1: w = 0.2999999821, loss = 30.00000000\n",
            "epoch 3: w = 0.7717499137, loss = 15.66018772\n",
            "epoch 5: w = 1.1125893593, loss = 8.17471695\n",
            "epoch 7: w = 1.3588458300, loss = 4.26725292\n",
            "epoch 9: w = 1.5367661715, loss = 2.22753215\n",
            "epoch 11: w = 1.6653136015, loss = 1.16278565\n",
            "epoch 13: w = 1.7581890821, loss = 0.60698116\n",
            "epoch 15: w = 1.8252916336, loss = 0.31684780\n",
            "epoch 17: w = 1.8737732172, loss = 0.16539653\n",
            "epoch 19: w = 1.9088011980, loss = 0.08633806\n",
            "epoch 21: w = 1.9341088533, loss = 0.04506890\n",
            "epoch 23: w = 1.9523936510, loss = 0.02352631\n",
            "epoch 25: w = 1.9656044245, loss = 0.01228084\n",
            "epoch 27: w = 1.9751492739, loss = 0.00641066\n",
            "epoch 29: w = 1.9820452929, loss = 0.00334642\n",
            "epoch 31: w = 1.9870276451, loss = 0.00174685\n",
            "epoch 33: w = 1.9906275272, loss = 0.00091188\n",
            "epoch 35: w = 1.9932283163, loss = 0.00047601\n",
            "epoch 37: w = 1.9951075315, loss = 0.00024848\n",
            "epoch 39: w = 1.9964652061, loss = 0.00012971\n",
            "epoch 41: w = 1.9974461794, loss = 0.00006770\n",
            "epoch 43: w = 1.9981548786, loss = 0.00003534\n",
            "epoch 45: w = 1.9986668825, loss = 0.00001845\n",
            "epoch 47: w = 1.9990367889, loss = 0.00000963\n",
            "epoch 49: w = 1.9993040562, loss = 0.00000503\n",
            "epoch 51: w = 1.9994971752, loss = 0.00000262\n",
            "epoch 53: w = 1.9996367693, loss = 0.00000137\n",
            "epoch 55: w = 1.9997375011, loss = 0.00000071\n",
            "epoch 57: w = 1.9998103380, loss = 0.00000037\n",
            "epoch 59: w = 1.9998630285, loss = 0.00000019\n",
            "epoch 61: w = 1.9999010563, loss = 0.00000010\n",
            "epoch 63: w = 1.9999284744, loss = 0.00000005\n",
            "epoch 65: w = 1.9999482632, loss = 0.00000003\n",
            "epoch 67: w = 1.9999625683, loss = 0.00000001\n",
            "epoch 69: w = 1.9999729395, loss = 0.00000001\n",
            "epoch 71: w = 1.9999804497, loss = 0.00000000\n",
            "epoch 73: w = 1.9999859333, loss = 0.00000000\n",
            "epoch 75: w = 1.9999898672, loss = 0.00000000\n",
            "epoch 77: w = 1.9999927282, loss = 0.00000000\n",
            "epoch 79: w = 1.9999947548, loss = 0.00000000\n",
            "epoch 81: w = 1.9999963045, loss = 0.00000000\n",
            "epoch 83: w = 1.9999973774, loss = 0.00000000\n",
            "epoch 85: w = 1.9999980927, loss = 0.00000000\n",
            "epoch 87: w = 1.9999985695, loss = 0.00000000\n",
            "epoch 89: w = 1.9999990463, loss = 0.00000000\n",
            "epoch 91: w = 1.9999992847, loss = 0.00000000\n",
            "epoch 93: w = 1.9999995232, loss = 0.00000000\n",
            "epoch 95: w = 1.9999996424, loss = 0.00000000\n",
            "epoch 97: w = 1.9999996424, loss = 0.00000000\n",
            "epoch 99: w = 1.9999996424, loss = 0.00000000\n",
            "Prediction after training: y(5) = 9.9999980927\n"
          ]
        }
      ]
    },
    {
      "cell_type": "code",
      "source": [
        "#Pytorch Model training pipeline"
      ],
      "metadata": {
        "id": "tdRbCzaxP2cE"
      },
      "execution_count": null,
      "outputs": []
    },
    {
      "cell_type": "code",
      "source": [
        "for name in list(globals().keys()):\n",
        "    if not name.startswith(\"_\"):\n",
        "        del globals()[name]"
      ],
      "metadata": {
        "id": "ajyyxU4LQvJ-"
      },
      "execution_count": null,
      "outputs": []
    },
    {
      "cell_type": "code",
      "source": [
        "import torch\n",
        "import torch.nn as nn"
      ],
      "metadata": {
        "id": "CpQb3Sc3QxTk"
      },
      "execution_count": null,
      "outputs": []
    },
    {
      "cell_type": "code",
      "source": [
        "X = torch.tensor([1, 2, 3, 4], dtype=torch.float32)\n",
        "X1 = torch.tensor([[1], [2], [3], [4]], dtype=torch.float32)\n",
        "print(X, X1)"
      ],
      "metadata": {
        "colab": {
          "base_uri": "https://localhost:8080/"
        },
        "id": "N2UWeUDER19n",
        "outputId": "33a0d321-ee37-4b1b-c064-02aba4a24c03"
      },
      "execution_count": null,
      "outputs": [
        {
          "output_type": "stream",
          "name": "stdout",
          "text": [
            "tensor([1., 2., 3., 4.]) tensor([[1.],\n",
            "        [2.],\n",
            "        [3.],\n",
            "        [4.]])\n"
          ]
        }
      ]
    },
    {
      "cell_type": "code",
      "source": [
        "X = torch.tensor([[1], [2], [3], [4]], dtype=torch.float32) #Input values\n",
        "Y = torch.tensor([[2], [4], [6], [8]], dtype=torch.float32) #Known values\n",
        "\n",
        "X_test = torch.tensor([5], dtype=torch.float32)\n",
        "n_samples, n_features = X.shape\n",
        "print(n_samples,n_features)\n",
        "\n",
        "input_size = n_features\n",
        "output_size = n_features\n",
        "\n",
        "model = nn.Linear(input_size, output_size)\n",
        "\n",
        "\n",
        "print(f'Prediction before training: y(5) = {model(X_test).item():.10f}')\n",
        "\n",
        "# Training\n",
        "learning_rate = 0.01\n",
        "n_iters = 100\n",
        "\n",
        "loss = nn.MSELoss()\n",
        "optimiser = torch.optim.SGD(model.parameters(), lr=learning_rate)\n",
        "\n",
        "for epoch in range(n_iters):\n",
        "  # prediction = forward pass\n",
        "  y_pred = model(X)\n",
        "\n",
        "  # loss\n",
        "  l = loss(Y, y_pred)\n",
        "\n",
        "  # gradients\n",
        "  l.backward()\n",
        "\n",
        "  # update weights\n",
        "  optimiser.step()\n",
        "\n",
        "  # zero gradients\n",
        "  optimiser.zero_grad()\n",
        "\n",
        "  if epoch %10  == 0: # %1 would print every step, %2 would print every other step\n",
        "    [w, b] = model.parameters()\n",
        "    print(f'epoch {epoch+1}: w = {w}, loss = {l:.8f}')\n",
        "\n",
        "print(f'Prediction after training: y(5) = {model(X_test).item():.10f}') #Backpropagation is not as exact as the numerical impletmentation"
      ],
      "metadata": {
        "colab": {
          "base_uri": "https://localhost:8080/"
        },
        "id": "H-A6grmqQqHV",
        "outputId": "e0863bab-10db-46aa-bab6-fe3400e3b654"
      },
      "execution_count": null,
      "outputs": [
        {
          "output_type": "stream",
          "name": "stdout",
          "text": [
            "4 1\n",
            "Prediction before training: y(5) = 3.2287712097\n",
            "epoch 1: w = Parameter containing:\n",
            "tensor([[0.8126]], requires_grad=True), loss = 13.31583691\n",
            "epoch 11: w = Parameter containing:\n",
            "tensor([[1.6523]], requires_grad=True), loss = 0.39437073\n",
            "epoch 21: w = Parameter containing:\n",
            "tensor([[1.7920]], requires_grad=True), loss = 0.05715982\n",
            "epoch 31: w = Parameter containing:\n",
            "tensor([[1.8189]], requires_grad=True), loss = 0.04570219\n",
            "epoch 41: w = Parameter containing:\n",
            "tensor([[1.8276]], requires_grad=True), loss = 0.04283170\n",
            "epoch 51: w = Parameter containing:\n",
            "tensor([[1.8332]], requires_grad=True), loss = 0.04033324\n",
            "epoch 61: w = Parameter containing:\n",
            "tensor([[1.8383]], requires_grad=True), loss = 0.03798554\n",
            "epoch 71: w = Parameter containing:\n",
            "tensor([[1.8431]], requires_grad=True), loss = 0.03577454\n",
            "epoch 81: w = Parameter containing:\n",
            "tensor([[1.8477]], requires_grad=True), loss = 0.03369228\n",
            "epoch 91: w = Parameter containing:\n",
            "tensor([[1.8522]], requires_grad=True), loss = 0.03173124\n",
            "Prediction after training: y(5) = 9.7036371231\n"
          ]
        }
      ]
    },
    {
      "cell_type": "code",
      "source": [
        "#Linear Regression"
      ],
      "metadata": {
        "id": "nMMHomM9RkwQ"
      },
      "execution_count": null,
      "outputs": []
    },
    {
      "cell_type": "code",
      "source": [
        "for name in list(globals().keys()):\n",
        "    if not name.startswith(\"_\"):\n",
        "        del globals()[name]"
      ],
      "metadata": {
        "id": "aWSB_CFQdJ1c"
      },
      "execution_count": null,
      "outputs": []
    },
    {
      "cell_type": "code",
      "source": [
        "import torch\n",
        "import torch.nn as nn\n",
        "import numpy as np\n",
        "from sklearn import datasets\n",
        "import matplotlib.pyplot as plt"
      ],
      "metadata": {
        "id": "JEIiOgEFdKeJ"
      },
      "execution_count": null,
      "outputs": []
    },
    {
      "cell_type": "code",
      "source": [
        "# 0) Prepare data\n",
        "#create a synthetic dataset, with gaussian distribution for a regression problem, 100 data points for X and Y\n",
        "X_numpy, y_numpy = datasets.make_regression(n_samples=100, n_features=1, noise=20, random_state=4)\n",
        "\n",
        "print(X_numpy[:5], y_numpy[:5])\n",
        "\n",
        "# cast to float Tensor\n",
        "X = torch.from_numpy(X_numpy.astype(np.float32)) #torch.from_numpy: used to create a PyTorch tensor from a NumPy array\n",
        "y = torch.from_numpy(y_numpy.astype(np.float32))\n",
        "\n",
        "print(X[:5], y[:5])\n",
        "\n",
        "y = y.view(y.shape[0], 1) #view is a built in PyTorch to reshape the tensor\n",
        "\n",
        "n_samples, n_features = X.shape # X.shape = [100,1], therefore, n_samples = 100, n_features = 1\n",
        "\n",
        "# 1) Model\n",
        "# Linear model f = wx + b\n",
        "input_size = n_features\n",
        "output_size = 1\n",
        "#By providing input_size and output_size, you are specifying the dimensions of this linear transformation.\n",
        "#It will create a layer with input_size input neurons and output_size output neurons.\n",
        "model = nn.Linear(input_size, output_size)\n",
        "\n",
        "# 2) Loss and optimizer\n",
        "learning_rate = 0.01\n",
        "\n",
        "criterion = nn.MSELoss()\n",
        "optimizer = torch.optim.SGD(model.parameters(), lr=learning_rate)\n",
        "\n",
        "# 3) Training loop\n",
        "num_epochs = 100\n",
        "for epoch in range(num_epochs):\n",
        "    # Forward pass and loss\n",
        "    y_predicted = model(X)\n",
        "    loss = criterion(y_predicted, y)\n",
        "\n",
        "    # Backward pass and update\n",
        "    loss.backward()\n",
        "    optimizer.step()\n",
        "\n",
        "    # zero grad before new step\n",
        "    optimizer.zero_grad()\n",
        "\n",
        "    if (epoch+1) % 10 == 0:\n",
        "        print(f'epoch: {epoch+1}, loss = {loss.item():.4f}')\n",
        "\n",
        "# Plot\n",
        "predicted = model(X).detach().numpy() #model(X).detach() generate a neew tensor such that it won't affect the computational graph\n",
        "print(predicted[:5]) #The predicted is the y values from the optimised w\n",
        "\n",
        "plt.plot(X_numpy, y_numpy, 'ro')\n",
        "plt.plot(X_numpy, predicted, 'b')\n",
        "plt.show()"
      ],
      "metadata": {
        "colab": {
          "base_uri": "https://localhost:8080/",
          "height": 855
        },
        "id": "oCmc0BVvJXE9",
        "outputId": "1bbb3c34-1ebe-43d8-b30a-d35aa70602ec"
      },
      "execution_count": null,
      "outputs": [
        {
          "output_type": "stream",
          "name": "stdout",
          "text": [
            "[[-1.3474603 ]\n",
            " [ 0.3523434 ]\n",
            " [ 0.9546986 ]\n",
            " [ 0.03592805]\n",
            " [ 0.04800625]] [-126.24922409   50.92876904   63.15463302    6.05472009   -5.72954025]\n",
            "tensor([[-1.3475],\n",
            "        [ 0.3523],\n",
            "        [ 0.9547],\n",
            "        [ 0.0359],\n",
            "        [ 0.0480]]) tensor([-126.2492,   50.9288,   63.1546,    6.0547,   -5.7295])\n",
            "epoch: 10, loss = 3962.5957\n",
            "epoch: 20, loss = 2794.5884\n",
            "epoch: 30, loss = 1998.4133\n",
            "epoch: 40, loss = 1455.5820\n",
            "epoch: 50, loss = 1085.4025\n",
            "epoch: 60, loss = 832.9096\n",
            "epoch: 70, loss = 660.6537\n",
            "epoch: 80, loss = 543.1144\n",
            "epoch: 90, loss = 462.8955\n",
            "epoch: 100, loss = 408.1369\n",
            "[[-85.84004  ]\n",
            " [ 22.928724 ]\n",
            " [ 61.47284  ]\n",
            " [  2.6816165]\n",
            " [  3.4544885]]\n"
          ]
        },
        {
          "output_type": "display_data",
          "data": {
            "text/plain": [
              "<Figure size 640x480 with 1 Axes>"
            ],
            "image/png": "[encoded data removed]"
          },
          "metadata": {}
        }
      ]
    },
    {
      "cell_type": "code",
      "source": [
        "#Logistic Regression"
      ],
      "metadata": {
        "id": "Ovay73W01BIa"
      },
      "execution_count": null,
      "outputs": []
    },
    {
      "cell_type": "code",
      "source": [
        "for name in list(globals().keys()):\n",
        "    if not name.startswith(\"_\"):\n",
        "        del globals()[name]"
      ],
      "metadata": {
        "id": "mEAWc99U1JyZ"
      },
      "execution_count": null,
      "outputs": []
    },
    {
      "cell_type": "code",
      "source": [
        "import torch\n",
        "import torch.nn as nn\n",
        "import numpy as np\n",
        "from sklearn import datasets\n",
        "from sklearn.preprocessing import StandardScaler\n",
        "from sklearn.model_selection import train_test_split"
      ],
      "metadata": {
        "id": "O9rwhyet1JYb"
      },
      "execution_count": null,
      "outputs": []
    },
    {
      "cell_type": "code",
      "source": [
        "print(X.shape)"
      ],
      "metadata": {
        "colab": {
          "base_uri": "https://localhost:8080/"
        },
        "id": "CW1boQAm-tEv",
        "outputId": "a8459ff6-11b2-4eba-f323-eedde59954ce"
      },
      "execution_count": null,
      "outputs": [
        {
          "output_type": "stream",
          "name": "stdout",
          "text": [
            "(569, 30)\n"
          ]
        }
      ]
    },
    {
      "cell_type": "code",
      "source": [
        "# 0) Prepare data\n",
        "bc = datasets.load_breast_cancer() #PyTorch testing dataset\n",
        "X, y = bc.data, bc.target\n",
        "print(X[:5],y[:50]) #See from X that it has multiple factors, depending on what value each factor is, it would result it either 0\n",
        "                    # for negative, or 1 for positive\n",
        "\n",
        "n_samples, n_features = X.shape\n",
        "\n",
        "X_train, X_test, y_train, y_test = train_test_split(X, y, test_size=0.2, random_state=1234)#Function that allows you to split data into test or train\n",
        "\n",
        "# scale\n",
        "sc = StandardScaler() #z = (x - u) / s; z is the scaled value, x is the original value, u is the mean of the feature, s is the standard deviation of the feature\n",
        "X_train = sc.fit_transform(X_train)\n",
        "X_test = sc.transform(X_test)\n",
        "\n",
        "X_train = torch.from_numpy(X_train.astype(np.float32))\n",
        "X_test = torch.from_numpy(X_test.astype(np.float32))\n",
        "y_train = torch.from_numpy(y_train.astype(np.float32))\n",
        "y_test = torch.from_numpy(y_test.astype(np.float32))\n",
        "\n",
        "y_train = y_train.view(y_train.shape[0], 1)\n",
        "y_test = y_test.view(y_test.shape[0], 1)\n",
        "\n",
        "# 1) Model\n",
        "# Linear model f = wx + b , sigmoid at the end\n",
        "class Model(nn.Module):\n",
        "    def __init__(self, n_input_features):\n",
        "        super(Model, self).__init__()\n",
        "        self.linear = nn.Linear(n_input_features, 1)\n",
        "\n",
        "    def forward(self, x):\n",
        "        y_pred = torch.sigmoid(self.linear(x)) #The sigmoid function specifically \"squashes\" the logits into a range between 0 and 1\n",
        "        # 1/(1 + e^{-x})\n",
        "        return y_pred\n",
        "\n",
        "model = Model(n_features)\n",
        "\n",
        "# 2) Loss and optimizer\n",
        "num_epochs = 100\n",
        "learning_rate = 0.01\n",
        "criterion = nn.BCELoss() #Binary cross-entropy loss\n",
        "optimizer = torch.optim.SGD(model.parameters(), lr=learning_rate)\n",
        "\n",
        "# 3) Training loop\n",
        "for epoch in range(num_epochs):\n",
        "    # Forward pass and loss\n",
        "    y_pred = model(X_train)\n",
        "    loss = criterion(y_pred, y_train)\n",
        "\n",
        "    # Backward pass and update\n",
        "    loss.backward()\n",
        "    optimizer.step()\n",
        "\n",
        "    # zero grad before new step\n",
        "    optimizer.zero_grad()\n",
        "\n",
        "    if (epoch+1) % 10 == 0:\n",
        "        print(f'epoch: {epoch+1}, loss = {loss.item():.4f}')\n",
        "\n",
        "\n",
        "with torch.no_grad():\n",
        "    y_predicted = model(X_test)\n",
        "    y_predicted_cls = y_predicted.round()\n",
        "    acc = y_predicted_cls.eq(y_test).sum() / float(y_test.shape[0])\n",
        "    print(f'accuracy: {acc.item():.4f}')"
      ],
      "metadata": {
        "colab": {
          "base_uri": "https://localhost:8080/"
        },
        "id": "hViTiIcGLbsU",
        "outputId": "ad14aaa2-e168-484a-8257-36a70718de8a"
      },
      "execution_count": null,
      "outputs": [
        {
          "output_type": "stream",
          "name": "stdout",
          "text": [
            "[[1.799e+01 1.038e+01 1.228e+02 1.001e+03 1.184e-01 2.776e-01 3.001e-01\n",
            "  1.471e-01 2.419e-01 7.871e-02 1.095e+00 9.053e-01 8.589e+00 1.534e+02\n",
            "  6.399e-03 4.904e-02 5.373e-02 1.587e-02 3.003e-02 6.193e-03 2.538e+01\n",
            "  1.733e+01 1.846e+02 2.019e+03 1.622e-01 6.656e-01 7.119e-01 2.654e-01\n",
            "  4.601e-01 1.189e-01]\n",
            " [2.057e+01 1.777e+01 1.329e+02 1.326e+03 8.474e-02 7.864e-02 8.690e-02\n",
            "  7.017e-02 1.812e-01 5.667e-02 5.435e-01 7.339e-01 3.398e+00 7.408e+01\n",
            "  5.225e-03 1.308e-02 1.860e-02 1.340e-02 1.389e-02 3.532e-03 2.499e+01\n",
            "  2.341e+01 1.588e+02 1.956e+03 1.238e-01 1.866e-01 2.416e-01 1.860e-01\n",
            "  2.750e-01 8.902e-02]\n",
            " [1.969e+01 2.125e+01 1.300e+02 1.203e+03 1.096e-01 1.599e-01 1.974e-01\n",
            "  1.279e-01 2.069e-01 5.999e-02 7.456e-01 7.869e-01 4.585e+00 9.403e+01\n",
            "  6.150e-03 4.006e-02 3.832e-02 2.058e-02 2.250e-02 4.571e-03 2.357e+01\n",
            "  2.553e+01 1.525e+02 1.709e+03 1.444e-01 4.245e-01 4.504e-01 2.430e-01\n",
            "  3.613e-01 8.758e-02]\n",
            " [1.142e+01 2.038e+01 7.758e+01 3.861e+02 1.425e-01 2.839e-01 2.414e-01\n",
            "  1.052e-01 2.597e-01 9.744e-02 4.956e-01 1.156e+00 3.445e+00 2.723e+01\n",
            "  9.110e-03 7.458e-02 5.661e-02 1.867e-02 5.963e-02 9.208e-03 1.491e+01\n",
            "  2.650e+01 9.887e+01 5.677e+02 2.098e-01 8.663e-01 6.869e-01 2.575e-01\n",
            "  6.638e-01 1.730e-01]\n",
            " [2.029e+01 1.434e+01 1.351e+02 1.297e+03 1.003e-01 1.328e-01 1.980e-01\n",
            "  1.043e-01 1.809e-01 5.883e-02 7.572e-01 7.813e-01 5.438e+00 9.444e+01\n",
            "  1.149e-02 2.461e-02 5.688e-02 1.885e-02 1.756e-02 5.115e-03 2.254e+01\n",
            "  1.667e+01 1.522e+02 1.575e+03 1.374e-01 2.050e-01 4.000e-01 1.625e-01\n",
            "  2.364e-01 7.678e-02]] [0 0 0 0 0 0 0 0 0 0 0 0 0 0 0 0 0 0 0 1 1 1 0 0 0 0 0 0 0 0 0 0 0 0 0 0 0\n",
            " 1 0 0 0 0 0 0 0 0 1 0 1 1]\n",
            "epoch: 10, loss = 0.5903\n",
            "epoch: 20, loss = 0.4808\n",
            "epoch: 30, loss = 0.4124\n",
            "epoch: 40, loss = 0.3657\n",
            "epoch: 50, loss = 0.3315\n",
            "epoch: 60, loss = 0.3053\n",
            "epoch: 70, loss = 0.2844\n",
            "epoch: 80, loss = 0.2674\n",
            "epoch: 90, loss = 0.2531\n",
            "epoch: 100, loss = 0.2409\n",
            "accuracy: 0.8684\n"
          ]
        }
      ]
    },
    {
      "cell_type": "code",
      "source": [
        "#Softmax and Cross-Entropy"
      ],
      "metadata": {
        "id": "iX7dCF379pwl"
      },
      "execution_count": null,
      "outputs": []
    },
    {
      "cell_type": "code",
      "source": [
        "for name in list(globals().keys()):\n",
        "    if not name.startswith(\"_\"):\n",
        "        del globals()[name]"
      ],
      "metadata": {
        "id": "H6tyPUkyGTkO"
      },
      "execution_count": null,
      "outputs": []
    },
    {
      "cell_type": "code",
      "source": [
        "import torch\n",
        "import torch.nn as nn\n",
        "import numpy as np"
      ],
      "metadata": {
        "id": "QN7qpxOmGW4v"
      },
      "execution_count": null,
      "outputs": []
    },
    {
      "cell_type": "code",
      "source": [
        "# Softmax applies the exponential function to each element, and normalizes\n",
        "# by dividing by the sum of all these exponentials\n",
        "# -> squashes the output to be between 0 and 1 = probability\n",
        "# sum of all probabilities is 1\n",
        "def softmax(x):\n",
        "    return np.exp(x) / np.sum(np.exp(x), axis=0)\n",
        "\n",
        "x = np.array([2.0, 1.0, 0.1])\n",
        "outputs = softmax(x)\n",
        "print('softmax numpy:', outputs)\n",
        "\n",
        "x = torch.tensor([2.0, 1.0, 0.1])\n",
        "outputs = torch.softmax(x, dim=0) # along values along first axis\n",
        "print('softmax torch:', outputs)\n",
        "\n",
        "# Cross entropy\n",
        "# Cross-entropy loss, or log loss, measures the performance of a classification model\n",
        "# whose output is a probability value between 0 and 1.\n",
        "# -> loss increases as the predicted probability diverges from the actual label\n",
        "def cross_entropy(actual, predicted):\n",
        "    EPS = 1e-15\n",
        "    predicted = np.clip(predicted, EPS, 1 - EPS)\n",
        "    loss = -np.sum(actual * np.log(predicted))\n",
        "    return loss # / float(predicted.shape[0])\n",
        "\n",
        "# y must be one hot encoded\n",
        "# if class 0: [1 0 0]\n",
        "# if class 1: [0 1 0]\n",
        "# if class 2: [0 0 1]\n",
        "Y = np.array([1, 0, 0])\n",
        "Y_pred_good = np.array([0.7, 0.2, 0.1])\n",
        "Y_pred_bad = np.array([0.1, 0.3, 0.6])\n",
        "l1 = cross_entropy(Y, Y_pred_good)\n",
        "l2 = cross_entropy(Y, Y_pred_bad)\n",
        "print(f'Loss1 numpy: {l1:.4f}')\n",
        "print(f'Loss2 numpy: {l2:.4f}')\n",
        "\n",
        "# CrossEntropyLoss in PyTorch (applies Softmax)\n",
        "# nn.LogSoftmax + nn.NLLLoss\n",
        "# NLLLoss = negative log likelihood loss\n",
        "loss = nn.CrossEntropyLoss()\n",
        "# loss(input, target)\n",
        "\n",
        "# target is of size nSamples = 1\n",
        "# each element has class label: 0, 1, or 2\n",
        "# Y (=target) contains class labels, not one-hot\n",
        "Y = torch.tensor([0]) #[0] means we look at the first value of Y_pred, [1] means we look at the second, [2] we look at the third\n",
        "\n",
        "# input is of size nSamples x nClasses = 1 x 3\n",
        "# y_pred (=input) must be raw, unnormalizes scores (logits) for each class, not softmax\n",
        "Y_pred_good = torch.tensor([[2.0, 1.0, 0.1]])\n",
        "Y_pred_bad = torch.tensor([[0.5, 2.0, 0.3]])\n",
        "l1 = loss(Y_pred_good, Y)\n",
        "l2 = loss(Y_pred_bad, Y)\n",
        "\n",
        "print(f'PyTorch Loss1: {l1.item():.4f}')\n",
        "print(f'PyTorch Loss2: {l2.item():.4f}')\n",
        "\n",
        "# get predictions\n",
        "_, predictions1 = torch.max(Y_pred_good, 1)\n",
        "_, predictions2 = torch.max(Y_pred_bad, 1)\n",
        "print(f'Actual class: {Y.item()}, Y_pred1: {predictions1.item()}, Y_pred2: {predictions2.item()}')\n",
        "\n",
        "# allows batch loss for multiple samples\n",
        "\n",
        "# target is of size nBatch = 3\n",
        "# each element has class label: 0, 1, or 2\n",
        "Y = torch.tensor([2, 0, 1])\n",
        "\n",
        "# input is of size nBatch x nClasses = 3 x 3\n",
        "# Y_pred are logits (not softmax)\n",
        "Y_pred_good = torch.tensor(\n",
        "    [[0.1, 0.2, 3.9], # predict class 2\n",
        "    [1.2, 0.1, 0.3], # predict class 0\n",
        "    [0.3, 2.2, 0.2]]) # predict class 1\n",
        "\n",
        "Y_pred_bad = torch.tensor(\n",
        "    [[0.9, 0.2, 0.1],\n",
        "    [0.1, 0.3, 1.5],\n",
        "    [1.2, 0.2, 0.5]])\n",
        "\n",
        "l1 = loss(Y_pred_good, Y)\n",
        "l2 = loss(Y_pred_bad, Y)\n",
        "print(f'Batch Loss1:  {l1.item():.4f}')\n",
        "print(f'Batch Loss2: {l2.item():.4f}')\n",
        "\n",
        "# get predictions\n",
        "_, predictions1 = torch.max(Y_pred_good, 1)\n",
        "_, predictions2 = torch.max(Y_pred_bad, 1)\n",
        "print(f'Actual class: {Y}, Y_pred1: {predictions1}, Y_pred2: {predictions2}')"
      ],
      "metadata": {
        "colab": {
          "base_uri": "https://localhost:8080/"
        },
        "id": "ZL_R_LNhGQ_G",
        "outputId": "f520a431-e49c-482d-899b-b2b74622b5f8"
      },
      "execution_count": null,
      "outputs": [
        {
          "output_type": "stream",
          "name": "stdout",
          "text": [
            "softmax numpy: [0.65900114 0.24243297 0.09856589]\n",
            "softmax torch: tensor([0.6590, 0.2424, 0.0986])\n",
            "Loss1 numpy: 0.3567\n",
            "Loss2 numpy: 2.3026\n",
            "PyTorch Loss1: 0.4170\n",
            "PyTorch Loss2: 1.8406\n",
            "Actual class: 0, Y_pred1: 0, Y_pred2: 1\n",
            "Batch Loss1:  0.2834\n",
            "Batch Loss2: 1.6418\n",
            "Actual class: tensor([2, 0, 1]), Y_pred1: tensor([2, 0, 1]), Y_pred2: tensor([0, 2, 0])\n"
          ]
        }
      ]
    },
    {
      "cell_type": "code",
      "source": [
        "#Activation Functions"
      ],
      "metadata": {
        "id": "jrWzKqgzJfjI"
      },
      "execution_count": null,
      "outputs": []
    },
    {
      "cell_type": "code",
      "source": [
        "for name in list(globals().keys()):\n",
        "    if not name.startswith(\"_\"):\n",
        "        del globals()[name]"
      ],
      "metadata": {
        "id": "mLIBH91uOZZi"
      },
      "execution_count": null,
      "outputs": []
    },
    {
      "cell_type": "code",
      "source": [
        "f = torch.relu(x)\n",
        "print(f)"
      ],
      "metadata": {
        "colab": {
          "base_uri": "https://localhost:8080/"
        },
        "id": "srN9aV49PYe0",
        "outputId": "2bed1c34-ce3c-4f04-be03-bb47312ee8c6"
      },
      "execution_count": null,
      "outputs": [
        {
          "output_type": "stream",
          "name": "stdout",
          "text": [
            "tensor([0., 1., 2., 3.])\n"
          ]
        }
      ]
    },
    {
      "cell_type": "code",
      "source": [
        "# output = w*x + b\n",
        "# output = activation_function(output)\n",
        "import torch\n",
        "import torch.nn as nn\n",
        "import torch.nn.functional as F\n",
        "\n",
        "x = torch.tensor([-1.0, 1.0, 2.0, 3.0])\n",
        "\n",
        "# sofmax\n",
        "output = torch.softmax(x, dim=0)\n",
        "print(output)\n",
        "sm = nn.Softmax(dim=0)\n",
        "output = sm(x)\n",
        "print(output)\n",
        "\n",
        "# sigmoid\n",
        "output = torch.sigmoid(x)\n",
        "print(output)\n",
        "s = nn.Sigmoid()\n",
        "output = s(x)\n",
        "print(output)\n",
        "\n",
        "#tanh\n",
        "output = torch.tanh(x)\n",
        "print(output)\n",
        "t = nn.Tanh()\n",
        "output = t(x)\n",
        "print(output)\n",
        "\n",
        "# relu\n",
        "output = torch.relu(x)\n",
        "print(output)\n",
        "relu = nn.ReLU()\n",
        "output = relu(x)\n",
        "print(output)\n",
        "\n",
        "# leaky relu\n",
        "output = F.leaky_relu(x)\n",
        "print(output)\n",
        "lrelu = nn.LeakyReLU()\n",
        "output = lrelu(x)\n",
        "print(output)\n",
        "\n",
        "#nn.ReLU() creates an nn.Module which you can add e.g. to an nn.Sequential model.\n",
        "#torch.relu on the other side is just the functional API call to the relu function,\n",
        "#so that you can add it e.g. in your forward method yourself.\n",
        "\n",
        "# option 1 (create nn modules)\n",
        "class NeuralNet(nn.Module):\n",
        "    def __init__(self, input_size, hidden_size):\n",
        "        super(NeuralNet, self).__init__()\n",
        "        self.linear1 = nn.Linear(input_size, hidden_size) #Input size and hidden size\n",
        "        self.relu = nn.ReLU()\n",
        "        self.linear2 = nn.Linear(hidden_size, 1) #Hidden size and output size\n",
        "        self.sigmoid = nn.Sigmoid()\n",
        "\n",
        "    def forward(self, x):\n",
        "        out = self.linear1(x) #valuess go in, transform into w.transpose * x_vector\n",
        "        out = self.relu(out)\n",
        "        out = self.linear2(out)\n",
        "        out = self.sigmoid(out)\n",
        "        return out\n",
        "\n",
        "# option 2 (use activation functions directly in forward pass)\n",
        "class NeuralNet(nn.Module):\n",
        "    def __init__(self, input_size, hidden_size):\n",
        "        super(NeuralNet, self).__init__()\n",
        "        self.linear1 = nn.Linear(input_size, hidden_size)\n",
        "        self.linear2 = nn.Linear(hidden_size, 1)\n",
        "\n",
        "    def forward(self, x):\n",
        "        out = torch.relu(self.linear1(x))\n",
        "        out = torch.sigmoid(self.linear2(out))\n",
        "        return out"
      ],
      "metadata": {
        "colab": {
          "base_uri": "https://localhost:8080/"
        },
        "id": "CjXQegZ6OdL3",
        "outputId": "f9baea8c-b795-458b-ac89-f02e261e169a"
      },
      "execution_count": null,
      "outputs": [
        {
          "output_type": "stream",
          "name": "stdout",
          "text": [
            "tensor([0.0120, 0.0889, 0.2418, 0.6572])\n",
            "tensor([0.0120, 0.0889, 0.2418, 0.6572])\n",
            "tensor([0.2689, 0.7311, 0.8808, 0.9526])\n",
            "tensor([0.2689, 0.7311, 0.8808, 0.9526])\n",
            "tensor([-0.7616,  0.7616,  0.9640,  0.9951])\n",
            "tensor([-0.7616,  0.7616,  0.9640,  0.9951])\n",
            "tensor([0., 1., 2., 3.])\n",
            "tensor([0., 1., 2., 3.])\n",
            "tensor([-0.0100,  1.0000,  2.0000,  3.0000])\n",
            "tensor([-0.0100,  1.0000,  2.0000,  3.0000])\n"
          ]
        }
      ]
    },
    {
      "cell_type": "code",
      "source": [
        "#Feed Forward Neural Network"
      ],
      "metadata": {
        "id": "c4RU3ODDRTzQ"
      },
      "execution_count": null,
      "outputs": []
    },
    {
      "cell_type": "code",
      "source": [
        "for name in list(globals().keys()):\n",
        "    if not name.startswith(\"_\"):\n",
        "        del globals()[name]"
      ],
      "metadata": {
        "id": "z-2Oo8quRXs2"
      },
      "execution_count": null,
      "outputs": []
    },
    {
      "cell_type": "code",
      "source": [
        "import torch\n",
        "import torch.nn as nn\n",
        "import torchvision\n",
        "import torchvision.transforms as transforms\n",
        "import matplotlib.pyplot as plt"
      ],
      "metadata": {
        "id": "Gpqe0bt7RXYk"
      },
      "execution_count": null,
      "outputs": []
    },
    {
      "cell_type": "code",
      "source": [
        "# Device configuration\n",
        "device = torch.device('cuda' if torch.cuda.is_available() else 'cpu')\n",
        "\n",
        "# Hyper-parameters\n",
        "input_size = 784 # 28x28\n",
        "hidden_size = 500\n",
        "num_classes = 10\n",
        "num_epochs = 2\n",
        "batch_size = 100\n",
        "learning_rate = 0.001\n",
        "\n",
        "# MNIST dataset\n",
        "train_dataset = torchvision.datasets.MNIST(root='./data',\n",
        "                                           train=True,\n",
        "                                           transform=transforms.ToTensor(),\n",
        "                                           download=True)\n",
        "\n",
        "test_dataset = torchvision.datasets.MNIST(root='./data',\n",
        "                                          train=False,\n",
        "                                          transform=transforms.ToTensor())\n",
        "\n",
        "# Data loader\n",
        "train_loader = torch.utils.data.DataLoader(dataset=train_dataset,\n",
        "                                           batch_size=batch_size,\n",
        "                                           shuffle=True)\n",
        "\n",
        "test_loader = torch.utils.data.DataLoader(dataset=test_dataset,\n",
        "                                          batch_size=batch_size,\n",
        "                                          shuffle=False)\n",
        "\n",
        "examples = iter(test_loader)\n",
        "example_data, example_targets = next(examples)\n",
        "\n",
        "for i in range(6):\n",
        "    plt.subplot(2,3,i+1)\n",
        "    plt.imshow(example_data[i][0], cmap='gray')\n",
        "plt.show()\n",
        "\n",
        "# Fully connected neural network with one hidden layer\n",
        "class NeuralNet(nn.Module):\n",
        "    def __init__(self, input_size, hidden_size, num_classes):\n",
        "        super(NeuralNet, self).__init__()\n",
        "        self.input_size = input_size\n",
        "        self.l1 = nn.Linear(input_size, hidden_size)\n",
        "        self.relu = nn.ReLU()\n",
        "        self.l2 = nn.Linear(hidden_size, num_classes)\n",
        "\n",
        "    def forward(self, x):\n",
        "        out = self.l1(x)\n",
        "        out = self.relu(out)\n",
        "        out = self.l2(out)\n",
        "        # no activation and no softmax at the end\n",
        "        return out\n",
        "\n",
        "model = NeuralNet(input_size, hidden_size, num_classes).to(device)\n",
        "\n",
        "# Loss and optimizer\n",
        "criterion = nn.CrossEntropyLoss()\n",
        "optimizer = torch.optim.Adam(model.parameters(), lr=learning_rate)\n",
        "\n",
        "# Train the model\n",
        "n_total_steps = len(train_loader)\n",
        "for epoch in range(num_epochs):\n",
        "    for i, (images, labels) in enumerate(train_loader):\n",
        "        # origin shape: [100, 1, 28, 28]\n",
        "        # resized: [100, 784]\n",
        "        images = images.reshape(-1, 28*28).to(device)\n",
        "        labels = labels.to(device)\n",
        "\n",
        "        # Forward pass\n",
        "        outputs = model(images)\n",
        "        loss = criterion(outputs, labels)\n",
        "\n",
        "        # Backward and optimize\n",
        "        optimizer.zero_grad()\n",
        "        loss.backward()\n",
        "        optimizer.step()\n",
        "\n",
        "        if (i+1) % 100 == 0:\n",
        "            print (f'Epoch [{epoch+1}/{num_epochs}], Step [{i+1}/{n_total_steps}], Loss: {loss.item():.4f}')\n",
        "\n",
        "# Test the model\n",
        "# In test phase, we don't need to compute gradients (for memory efficiency)\n",
        "with torch.no_grad():\n",
        "    n_correct = 0\n",
        "    n_samples = 0\n",
        "    for images, labels in test_loader:\n",
        "        images = images.reshape(-1, 28*28).to(device)\n",
        "        labels = labels.to(device)\n",
        "        outputs = model(images)\n",
        "        # max returns (value ,index)\n",
        "        _, predicted = torch.max(outputs.data, 1)\n",
        "        n_samples += labels.size(0)\n",
        "        n_correct += (predicted == labels).sum().item()\n",
        "\n",
        "    acc = 100.0 * n_correct / n_samples\n",
        "    print(f'Accuracy of the network on the 10000 test images: {acc} %')"
      ],
      "metadata": {
        "colab": {
          "base_uri": "https://localhost:8080/",
          "height": 1000
        },
        "id": "_EHbS81_RSDs",
        "outputId": "c20cc32a-793e-4950-e3ad-2309ea3b7911"
      },
      "execution_count": null,
      "outputs": [
        {
          "output_type": "stream",
          "name": "stdout",
          "text": [
            "Downloading http://yann.lecun.com/exdb/mnist/train-images-idx3-ubyte.gz\n",
            "Failed to download (trying next):\n",
            "HTTP Error 404: Not Found\n",
            "\n",
            "Downloading https://ossci-datasets.s3.amazonaws.com/mnist/train-images-idx3-ubyte.gz\n",
            "Downloading https://ossci-datasets.s3.amazonaws.com/mnist/train-images-idx3-ubyte.gz to ./data/MNIST/raw/train-images-idx3-ubyte.gz\n"
          ]
        },
        {
          "output_type": "stream",
          "name": "stderr",
          "text": [
            "100%|██████████| 9.91M/9.91M [00:00<00:00, 41.4MB/s]\n"
          ]
        },
        {
          "output_type": "stream",
          "name": "stdout",
          "text": [
            "Extracting ./data/MNIST/raw/train-images-idx3-ubyte.gz to ./data/MNIST/raw\n",
            "\n",
            "Downloading http://yann.lecun.com/exdb/mnist/train-labels-idx1-ubyte.gz\n",
            "Failed to download (trying next):\n",
            "HTTP Error 404: Not Found\n",
            "\n",
            "Downloading https://ossci-datasets.s3.amazonaws.com/mnist/train-labels-idx1-ubyte.gz\n",
            "Downloading https://ossci-datasets.s3.amazonaws.com/mnist/train-labels-idx1-ubyte.gz to ./data/MNIST/raw/train-labels-idx1-ubyte.gz\n"
          ]
        },
        {
          "output_type": "stream",
          "name": "stderr",
          "text": [
            "100%|██████████| 28.9k/28.9k [00:00<00:00, 1.22MB/s]\n"
          ]
        },
        {
          "output_type": "stream",
          "name": "stdout",
          "text": [
            "Extracting ./data/MNIST/raw/train-labels-idx1-ubyte.gz to ./data/MNIST/raw\n",
            "\n",
            "Downloading http://yann.lecun.com/exdb/mnist/t10k-images-idx3-ubyte.gz\n",
            "Failed to download (trying next):\n",
            "HTTP Error 404: Not Found\n",
            "\n",
            "Downloading https://ossci-datasets.s3.amazonaws.com/mnist/t10k-images-idx3-ubyte.gz\n",
            "Downloading https://ossci-datasets.s3.amazonaws.com/mnist/t10k-images-idx3-ubyte.gz to ./data/MNIST/raw/t10k-images-idx3-ubyte.gz\n"
          ]
        },
        {
          "output_type": "stream",
          "name": "stderr",
          "text": [
            "100%|██████████| 1.65M/1.65M [00:00<00:00, 10.7MB/s]\n"
          ]
        },
        {
          "output_type": "stream",
          "name": "stdout",
          "text": [
            "Extracting ./data/MNIST/raw/t10k-images-idx3-ubyte.gz to ./data/MNIST/raw\n",
            "\n",
            "Downloading http://yann.lecun.com/exdb/mnist/t10k-labels-idx1-ubyte.gz\n",
            "Failed to download (trying next):\n",
            "HTTP Error 404: Not Found\n",
            "\n",
            "Downloading https://ossci-datasets.s3.amazonaws.com/mnist/t10k-labels-idx1-ubyte.gz\n",
            "Downloading https://ossci-datasets.s3.amazonaws.com/mnist/t10k-labels-idx1-ubyte.gz to ./data/MNIST/raw/t10k-labels-idx1-ubyte.gz\n"
          ]
        },
        {
          "output_type": "stream",
          "name": "stderr",
          "text": [
            "100%|██████████| 4.54k/4.54k [00:00<00:00, 4.84MB/s]\n"
          ]
        },
        {
          "output_type": "stream",
          "name": "stdout",
          "text": [
            "Extracting ./data/MNIST/raw/t10k-labels-idx1-ubyte.gz to ./data/MNIST/raw\n",
            "\n"
          ]
        },
        {
          "output_type": "display_data",
          "data": {
            "text/plain": [
              "<Figure size 640x480 with 6 Axes>"
            ],
            "image/png": "[encoded data removed]"
          },
          "metadata": {}
        },
        {
          "output_type": "stream",
          "name": "stdout",
          "text": [
            "Epoch [1/2], Step [100/600], Loss: 0.3010\n",
            "Epoch [1/2], Step [200/600], Loss: 0.1928\n",
            "Epoch [1/2], Step [300/600], Loss: 0.1194\n",
            "Epoch [1/2], Step [400/600], Loss: 0.1799\n",
            "Epoch [1/2], Step [500/600], Loss: 0.1252\n",
            "Epoch [1/2], Step [600/600], Loss: 0.2116\n",
            "Epoch [2/2], Step [100/600], Loss: 0.1069\n",
            "Epoch [2/2], Step [200/600], Loss: 0.0706\n",
            "Epoch [2/2], Step [300/600], Loss: 0.1417\n",
            "Epoch [2/2], Step [400/600], Loss: 0.1363\n",
            "Epoch [2/2], Step [500/600], Loss: 0.1689\n",
            "Epoch [2/2], Step [600/600], Loss: 0.0800\n",
            "Accuracy of the network on the 10000 test images: 97.36 %\n"
          ]
        }
      ]
    }
  ]
}