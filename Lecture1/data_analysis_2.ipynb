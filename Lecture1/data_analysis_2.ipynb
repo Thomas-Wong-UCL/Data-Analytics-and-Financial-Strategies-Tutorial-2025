{
 "cells": [
  {
   "cell_type": "code",
   "execution_count": null,
   "metadata": {},
   "outputs": [],
   "source": [
    "import pandas as pd\n",
    "import numpy as np\n",
    "import matplotlib.pyplot as plt\n",
    "from scipy.stats import jarque_bera, probplot, skew, kurtosis\n",
    "\n",
    "# Load CSV files\n",
    "file_paths = [\"Asset_1_prices.csv\", \"Asset_2_prices.csv\", \"Asset_3_prices.csv\"]\n",
    "assets = {}\n",
    "\n",
    "for i, file_path in enumerate(file_paths, start=1):\n",
    "    assets[f\"Asset_{i}\"] = pd.read_csv(file_path)\n",
    "\n",
    "# Calculate log returns and perform analysis\n",
    "for asset_name, data in assets.items():\n",
    "    print(f\"\\n--- Analysis for {asset_name} ---\")\n",
    "    \n",
    "    # Calculate log returns\n",
    "    data['Log_Returns'] = np.log(data['Price'] / data['Price'].shift(1))\n",
    "    log_returns = data['Log_Returns'].dropna()\n",
    "\n",
    "    # Calculate skewness and kurtosis\n",
    "    sample_skewness = skew(log_returns)\n",
    "    sample_kurtosis = kurtosis(log_returns, fisher=True)  # Fisher=True for excess kurtosis\n",
    "    print(f\"Skewness: {sample_skewness:.4f}\")\n",
    "    print(f\"Kurtosis (Excess): {sample_kurtosis:.4f}\")\n",
    "\n",
    "    # Jarque-Bera Normality Test\n",
    "    jb_stat, jb_p_value = jarque_bera(log_returns)\n",
    "    print(f\"Jarque-Bera Test Statistic: {jb_stat:.4f}, p-value: {jb_p_value:.4f}\")\n",
    "    \n",
    "    # QQ Plot vs Gaussian\n",
    "    plt.figure(figsize=(8, 6))\n",
    "    probplot(log_returns, dist=\"norm\", plot=plt)\n",
    "    plt.title(f\"QQ Plot for {asset_name}\")\n",
    "    plt.grid()\n",
    "    plt.show()\n"
   ]
  },
  {
   "cell_type": "code",
   "execution_count": null,
   "metadata": {},
   "outputs": [],
   "source": [
    "#random edit"
   ]
  }
 ],
 "metadata": {
  "kernelspec": {
   "display_name": "base",
   "language": "python",
   "name": "python3"
  },
  "language_info": {
   "codemirror_mode": {
    "name": "ipython",
    "version": 3
   },
   "file_extension": ".py",
   "mimetype": "text/x-python",
   "name": "python",
   "nbconvert_exporter": "python",
   "pygments_lexer": "ipython3",
   "version": "3.12.2"
  }
 },
 "nbformat": 4,
 "nbformat_minor": 2
}
