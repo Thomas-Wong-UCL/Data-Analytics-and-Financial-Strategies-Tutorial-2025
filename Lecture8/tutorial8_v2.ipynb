{
  "cells": [
    {
      "cell_type": "code",
      "execution_count": 1,
      "metadata": {
        "colab": {
          "base_uri": "https://localhost:8080/"
        },
        "id": "J1AKKFDP9IOO",
        "outputId": "57032231-2cf1-48d5-9b99-1a44209ba5a1"
      },
      "outputs": [
        {
          "name": "stdout",
          "output_type": "stream",
          "text": [
            "Requirement already satisfied: yfinance==0.2.54 in /usr/local/lib/python3.11/dist-packages (0.2.54)\n",
            "Requirement already satisfied: pandas>=1.3.0 in /usr/local/lib/python3.11/dist-packages (from yfinance==0.2.54) (2.2.2)\n",
            "Requirement already satisfied: numpy>=1.16.5 in /usr/local/lib/python3.11/dist-packages (from yfinance==0.2.54) (1.26.4)\n",
            "Requirement already satisfied: requests>=2.31 in /usr/local/lib/python3.11/dist-packages (from yfinance==0.2.54) (2.32.3)\n",
            "Requirement already satisfied: multitasking>=0.0.7 in /usr/local/lib/python3.11/dist-packages (from yfinance==0.2.54) (0.0.11)\n",
            "Requirement already satisfied: platformdirs>=2.0.0 in /usr/local/lib/python3.11/dist-packages (from yfinance==0.2.54) (4.3.6)\n",
            "Requirement already satisfied: pytz>=2022.5 in /usr/local/lib/python3.11/dist-packages (from yfinance==0.2.54) (2025.1)\n",
            "Requirement already satisfied: frozendict>=2.3.4 in /usr/local/lib/python3.11/dist-packages (from yfinance==0.2.54) (2.4.6)\n",
            "Requirement already satisfied: peewee>=3.16.2 in /usr/local/lib/python3.11/dist-packages (from yfinance==0.2.54) (3.17.9)\n",
            "Requirement already satisfied: beautifulsoup4>=4.11.1 in /usr/local/lib/python3.11/dist-packages (from yfinance==0.2.54) (4.13.3)\n",
            "Requirement already satisfied: soupsieve>1.2 in /usr/local/lib/python3.11/dist-packages (from beautifulsoup4>=4.11.1->yfinance==0.2.54) (2.6)\n",
            "Requirement already satisfied: typing-extensions>=4.0.0 in /usr/local/lib/python3.11/dist-packages (from beautifulsoup4>=4.11.1->yfinance==0.2.54) (4.12.2)\n",
            "Requirement already satisfied: python-dateutil>=2.8.2 in /usr/local/lib/python3.11/dist-packages (from pandas>=1.3.0->yfinance==0.2.54) (2.8.2)\n",
            "Requirement already satisfied: tzdata>=2022.7 in /usr/local/lib/python3.11/dist-packages (from pandas>=1.3.0->yfinance==0.2.54) (2025.1)\n",
            "Requirement already satisfied: charset-normalizer<4,>=2 in /usr/local/lib/python3.11/dist-packages (from requests>=2.31->yfinance==0.2.54) (3.4.1)\n",
            "Requirement already satisfied: idna<4,>=2.5 in /usr/local/lib/python3.11/dist-packages (from requests>=2.31->yfinance==0.2.54) (3.10)\n",
            "Requirement already satisfied: urllib3<3,>=1.21.1 in /usr/local/lib/python3.11/dist-packages (from requests>=2.31->yfinance==0.2.54) (2.3.0)\n",
            "Requirement already satisfied: certifi>=2017.4.17 in /usr/local/lib/python3.11/dist-packages (from requests>=2.31->yfinance==0.2.54) (2025.1.31)\n",
            "Requirement already satisfied: six>=1.5 in /usr/local/lib/python3.11/dist-packages (from python-dateutil>=2.8.2->pandas>=1.3.0->yfinance==0.2.54) (1.17.0)\n"
          ]
        }
      ],
      "source": [
        "pip install --upgrade yfinance==0.2.54"
      ]
    },
    {
      "cell_type": "code",
      "execution_count": 2,
      "metadata": {
        "colab": {
          "base_uri": "https://localhost:8080/"
        },
        "id": "znrjDgpz9IOQ",
        "outputId": "50ae64a4-f106-4acd-a7eb-ec1fbb36138f"
      },
      "outputs": [
        {
          "name": "stdout",
          "output_type": "stream",
          "text": [
            "Collecting arch\n",
            "  Downloading arch-7.2.0-cp311-cp311-manylinux_2_17_x86_64.manylinux2014_x86_64.whl.metadata (13 kB)\n",
            "Requirement already satisfied: numpy>=1.22.3 in /usr/local/lib/python3.11/dist-packages (from arch) (1.26.4)\n",
            "Requirement already satisfied: scipy>=1.8 in /usr/local/lib/python3.11/dist-packages (from arch) (1.13.1)\n",
            "Requirement already satisfied: pandas>=1.4 in /usr/local/lib/python3.11/dist-packages (from arch) (2.2.2)\n",
            "Requirement already satisfied: statsmodels>=0.12 in /usr/local/lib/python3.11/dist-packages (from arch) (0.14.4)\n",
            "Requirement already satisfied: python-dateutil>=2.8.2 in /usr/local/lib/python3.11/dist-packages (from pandas>=1.4->arch) (2.8.2)\n",
            "Requirement already satisfied: pytz>=2020.1 in /usr/local/lib/python3.11/dist-packages (from pandas>=1.4->arch) (2025.1)\n",
            "Requirement already satisfied: tzdata>=2022.7 in /usr/local/lib/python3.11/dist-packages (from pandas>=1.4->arch) (2025.1)\n",
            "Requirement already satisfied: patsy>=0.5.6 in /usr/local/lib/python3.11/dist-packages (from statsmodels>=0.12->arch) (1.0.1)\n",
            "Requirement already satisfied: packaging>=21.3 in /usr/local/lib/python3.11/dist-packages (from statsmodels>=0.12->arch) (24.2)\n",
            "Requirement already satisfied: six>=1.5 in /usr/local/lib/python3.11/dist-packages (from python-dateutil>=2.8.2->pandas>=1.4->arch) (1.17.0)\n",
            "Downloading arch-7.2.0-cp311-cp311-manylinux_2_17_x86_64.manylinux2014_x86_64.whl (985 kB)\n",
            "\u001b[2K   \u001b[90m━━━━━━━━━━━━━━━━━━━━━━━━━━━━━━━━━━━━━━━━\u001b[0m \u001b[32m985.3/985.3 kB\u001b[0m \u001b[31m10.4 MB/s\u001b[0m eta \u001b[36m0:00:00\u001b[0m\n",
            "\u001b[?25hInstalling collected packages: arch\n",
            "Successfully installed arch-7.2.0\n"
          ]
        }
      ],
      "source": [
        "pip install arch"
      ]
    },
    {
      "cell_type": "code",
      "execution_count": 3,
      "metadata": {
        "colab": {
          "base_uri": "https://localhost:8080/"
        },
        "id": "2NH0lEEp9IOQ",
        "outputId": "e41b7c0d-a705-4509-d71e-5e2e6c600e61"
      },
      "outputs": [
        {
          "name": "stdout",
          "output_type": "stream",
          "text": [
            "Requirement already satisfied: scikit-learn in /usr/local/lib/python3.11/dist-packages (1.6.1)\n",
            "Requirement already satisfied: numpy>=1.19.5 in /usr/local/lib/python3.11/dist-packages (from scikit-learn) (1.26.4)\n",
            "Requirement already satisfied: scipy>=1.6.0 in /usr/local/lib/python3.11/dist-packages (from scikit-learn) (1.13.1)\n",
            "Requirement already satisfied: joblib>=1.2.0 in /usr/local/lib/python3.11/dist-packages (from scikit-learn) (1.4.2)\n",
            "Requirement already satisfied: threadpoolctl>=3.1.0 in /usr/local/lib/python3.11/dist-packages (from scikit-learn) (3.5.0)\n"
          ]
        }
      ],
      "source": [
        "pip install scikit-learn"
      ]
    },
    {
      "cell_type": "code",
      "execution_count": 4,
      "metadata": {
        "colab": {
          "base_uri": "https://localhost:8080/"
        },
        "id": "ENivf4aa9IOQ",
        "outputId": "4f6f9034-19f7-4c91-e788-fef9a71dea46"
      },
      "outputs": [
        {
          "name": "stdout",
          "output_type": "stream",
          "text": [
            "Requirement already satisfied: pandas_datareader in /usr/local/lib/python3.11/dist-packages (0.10.0)\n",
            "Requirement already satisfied: lxml in /usr/local/lib/python3.11/dist-packages (from pandas_datareader) (5.3.1)\n",
            "Requirement already satisfied: pandas>=0.23 in /usr/local/lib/python3.11/dist-packages (from pandas_datareader) (2.2.2)\n",
            "Requirement already satisfied: requests>=2.19.0 in /usr/local/lib/python3.11/dist-packages (from pandas_datareader) (2.32.3)\n",
            "Requirement already satisfied: numpy>=1.23.2 in /usr/local/lib/python3.11/dist-packages (from pandas>=0.23->pandas_datareader) (1.26.4)\n",
            "Requirement already satisfied: python-dateutil>=2.8.2 in /usr/local/lib/python3.11/dist-packages (from pandas>=0.23->pandas_datareader) (2.8.2)\n",
            "Requirement already satisfied: pytz>=2020.1 in /usr/local/lib/python3.11/dist-packages (from pandas>=0.23->pandas_datareader) (2025.1)\n",
            "Requirement already satisfied: tzdata>=2022.7 in /usr/local/lib/python3.11/dist-packages (from pandas>=0.23->pandas_datareader) (2025.1)\n",
            "Requirement already satisfied: charset-normalizer<4,>=2 in /usr/local/lib/python3.11/dist-packages (from requests>=2.19.0->pandas_datareader) (3.4.1)\n",
            "Requirement already satisfied: idna<4,>=2.5 in /usr/local/lib/python3.11/dist-packages (from requests>=2.19.0->pandas_datareader) (3.10)\n",
            "Requirement already satisfied: urllib3<3,>=1.21.1 in /usr/local/lib/python3.11/dist-packages (from requests>=2.19.0->pandas_datareader) (2.3.0)\n",
            "Requirement already satisfied: certifi>=2017.4.17 in /usr/local/lib/python3.11/dist-packages (from requests>=2.19.0->pandas_datareader) (2025.1.31)\n",
            "Requirement already satisfied: six>=1.5 in /usr/local/lib/python3.11/dist-packages (from python-dateutil>=2.8.2->pandas>=0.23->pandas_datareader) (1.17.0)\n"
          ]
        }
      ],
      "source": [
        "pip install pandas_datareader"
      ]
    },
    {
      "cell_type": "code",
      "execution_count": 18,
      "metadata": {
        "colab": {
          "base_uri": "https://localhost:8080/"
        },
        "id": "-CbER66jBzl4",
        "outputId": "be42eddb-61a8-45ee-f587-884cbee8c276"
      },
      "outputs": [
        {
          "name": "stdout",
          "output_type": "stream",
          "text": [
            "Collecting PyPortfolioOpt\n",
            "  Downloading pyportfolioopt-1.5.6-py3-none-any.whl.metadata (22 kB)\n",
            "Requirement already satisfied: cvxpy>=1.1.19 in /usr/local/lib/python3.11/dist-packages (from PyPortfolioOpt) (1.6.2)\n",
            "Collecting ecos<3.0.0,>=2.0.14 (from PyPortfolioOpt)\n",
            "  Downloading ecos-2.0.14-cp311-cp311-manylinux_2_17_x86_64.manylinux2014_x86_64.whl.metadata (8.0 kB)\n",
            "Requirement already satisfied: numpy>=1.26.0 in /usr/local/lib/python3.11/dist-packages (from PyPortfolioOpt) (1.26.4)\n",
            "Requirement already satisfied: pandas>=0.19 in /usr/local/lib/python3.11/dist-packages (from PyPortfolioOpt) (2.2.2)\n",
            "Requirement already satisfied: plotly<6.0.0,>=5.0.0 in /usr/local/lib/python3.11/dist-packages (from PyPortfolioOpt) (5.24.1)\n",
            "Requirement already satisfied: scipy>=1.3 in /usr/local/lib/python3.11/dist-packages (from PyPortfolioOpt) (1.13.1)\n",
            "Requirement already satisfied: osqp>=0.6.2 in /usr/local/lib/python3.11/dist-packages (from cvxpy>=1.1.19->PyPortfolioOpt) (0.6.7.post3)\n",
            "Requirement already satisfied: clarabel>=0.5.0 in /usr/local/lib/python3.11/dist-packages (from cvxpy>=1.1.19->PyPortfolioOpt) (0.10.0)\n",
            "Requirement already satisfied: scs>=3.2.4.post1 in /usr/local/lib/python3.11/dist-packages (from cvxpy>=1.1.19->PyPortfolioOpt) (3.2.7.post2)\n",
            "Requirement already satisfied: python-dateutil>=2.8.2 in /usr/local/lib/python3.11/dist-packages (from pandas>=0.19->PyPortfolioOpt) (2.8.2)\n",
            "Requirement already satisfied: pytz>=2020.1 in /usr/local/lib/python3.11/dist-packages (from pandas>=0.19->PyPortfolioOpt) (2025.1)\n",
            "Requirement already satisfied: tzdata>=2022.7 in /usr/local/lib/python3.11/dist-packages (from pandas>=0.19->PyPortfolioOpt) (2025.1)\n",
            "Requirement already satisfied: tenacity>=6.2.0 in /usr/local/lib/python3.11/dist-packages (from plotly<6.0.0,>=5.0.0->PyPortfolioOpt) (9.0.0)\n",
            "Requirement already satisfied: packaging in /usr/local/lib/python3.11/dist-packages (from plotly<6.0.0,>=5.0.0->PyPortfolioOpt) (24.2)\n",
            "Requirement already satisfied: qdldl in /usr/local/lib/python3.11/dist-packages (from osqp>=0.6.2->cvxpy>=1.1.19->PyPortfolioOpt) (0.1.7.post5)\n",
            "Requirement already satisfied: six>=1.5 in /usr/local/lib/python3.11/dist-packages (from python-dateutil>=2.8.2->pandas>=0.19->PyPortfolioOpt) (1.17.0)\n",
            "Downloading pyportfolioopt-1.5.6-py3-none-any.whl (62 kB)\n",
            "\u001b[2K   \u001b[90m━━━━━━━━━━━━━━━━━━━━━━━━━━━━━━━━━━━━━━━━\u001b[0m \u001b[32m62.7/62.7 kB\u001b[0m \u001b[31m2.5 MB/s\u001b[0m eta \u001b[36m0:00:00\u001b[0m\n",
            "\u001b[?25hDownloading ecos-2.0.14-cp311-cp311-manylinux_2_17_x86_64.manylinux2014_x86_64.whl (220 kB)\n",
            "\u001b[2K   \u001b[90m━━━━━━━━━━━━━━━━━━━━━━━━━━━━━━━━━━━━━━━━\u001b[0m \u001b[32m220.1/220.1 kB\u001b[0m \u001b[31m7.6 MB/s\u001b[0m eta \u001b[36m0:00:00\u001b[0m\n",
            "\u001b[?25hInstalling collected packages: ecos, PyPortfolioOpt\n",
            "Successfully installed PyPortfolioOpt-1.5.6 ecos-2.0.14\n"
          ]
        }
      ],
      "source": [
        "pip install PyPortfolioOpt"
      ]
    },
    {
      "cell_type": "code",
      "execution_count": 1,
      "metadata": {
        "id": "WRCiWW789IOQ"
      },
      "outputs": [],
      "source": [
        "import yfinance as yf\n",
        "import pandas as pd\n",
        "from sklearn.decomposition import PCA\n",
        "from sklearn.linear_model import LinearRegression\n",
        "import numpy as np\n",
        "import statsmodels.api as sm  # for CAPM and Fama-French regressions\n",
        "import pandas_datareader\n",
        "import matplotlib.pyplot as plt\n",
        "from arch import arch_model\n",
        "import itertools\n",
        "from pypfopt import EfficientFrontier, risk_models, expected_returns, EfficientCVaR, black_litterman\n",
        "from pypfopt.black_litterman import BlackLittermanModel\n",
        "import cvxpy as cp"
      ]
    },
    {
      "cell_type": "code",
      "execution_count": 2,
      "metadata": {
        "id": "bX385UKN9IOQ"
      },
      "outputs": [],
      "source": [
        "def garch_aic_sel(returns):\n",
        "    # Define grids for model parameters\n",
        "    mean_models = ['Constant', 'AR']\n",
        "    vol_models = ['GARCH', 'EGARCH']\n",
        "    dists = ['normal', 't']\n",
        "\n",
        "    results = []\n",
        "\n",
        "    for mean in mean_models:\n",
        "        for vol in vol_models:\n",
        "            for dist in dists:\n",
        "                lags = 1 if mean == 'AR' else 0\n",
        "\n",
        "                # -----------------------------\n",
        "                # Fit the full model on the dataset\n",
        "                model = arch_model(returns, mean=mean, lags=lags, vol=vol, p=1, q=1, dist=dist)\n",
        "                res = model.fit(disp='off')\n",
        "\n",
        "                # -----------------------------\n",
        "                # Get the AIC from the model\n",
        "                aic = res.aic\n",
        "                results.append({'mean': mean, 'vol': vol, 'dist': dist, 'aic': aic})\n",
        "\n",
        "    # Find the best model based on AIC\n",
        "    results_df = pd.DataFrame(results)\n",
        "    best_model = results_df.loc[results_df['aic'].idxmin()]\n",
        "    return best_model['mean'], best_model['vol'], best_model['dist']"
      ]
    },
    {
      "cell_type": "code",
      "execution_count": 4,
      "metadata": {
        "colab": {
          "base_uri": "https://localhost:8080/"
        },
        "id": "ZIiDFpoG9IOR",
        "outputId": "a40cd608-12de-4dbb-a84e-497bfb2bc65e"
      },
      "outputs": [
        {
          "name": "stdout",
          "output_type": "stream",
          "text": [
            "Forecast for Mkt-RF (next period): Mean = 0.009348032713710985, Variance = 0.0016174797596937296\n",
            "Forecast for SMB (next period): Mean = 0.000100729865492033, Variance = 0.0011715711160602549\n",
            "Forecast for HML (next period): Mean = 0.0019801727210044806, Variance = 0.0008307418832074198\n"
          ]
        },
        {
          "name": "stderr",
          "output_type": "stream",
          "text": [
            "[*********************100%***********************]  8 of 8 completed\n"
          ]
        },
        {
          "name": "stdout",
          "output_type": "stream",
          "text": [
            "\n",
            "Regression results for AAPL:\n",
            "                             OLS Regression Results                            \n",
            "==============================================================================\n",
            "Dep. Variable:                 excess   R-squared:                       0.434\n",
            "Model:                            OLS   Adj. R-squared:                  0.424\n",
            "Method:                 Least Squares   F-statistic:                     44.68\n",
            "Date:                Wed, 05 Mar 2025   Prob (F-statistic):           1.73e-21\n",
            "Time:                        14:54:00   Log-Likelihood:                 256.44\n",
            "No. Observations:                 179   AIC:                            -504.9\n",
            "Df Residuals:                     175   BIC:                            -492.1\n",
            "Df Model:                           3                                         \n",
            "Covariance Type:            nonrobust                                         \n",
            "==============================================================================\n",
            "                 coef    std err          t      P>|t|      [0.025      0.975]\n",
            "------------------------------------------------------------------------------\n",
            "const          0.0095      0.005      2.105      0.037       0.001       0.019\n",
            "Mkt-RF         1.1569      0.107     10.836      0.000       0.946       1.368\n",
            "SMB           -0.2550      0.180     -1.416      0.158      -0.610       0.100\n",
            "HML           -0.5436      0.134     -4.051      0.000      -0.808      -0.279\n",
            "==============================================================================\n",
            "Omnibus:                       11.182   Durbin-Watson:                   1.791\n",
            "Prob(Omnibus):                  0.004   Jarque-Bera (JB):               16.653\n",
            "Skew:                          -0.361   Prob(JB):                     0.000242\n",
            "Kurtosis:                       4.308   Cond. No.                         42.5\n",
            "==============================================================================\n",
            "\n",
            "Notes:\n",
            "[1] Standard Errors assume that the covariance matrix of the errors is correctly specified.\n",
            "\n",
            "Regression results for MSFT:\n",
            "                             OLS Regression Results                            \n",
            "==============================================================================\n",
            "Dep. Variable:                 excess   R-squared:                       0.522\n",
            "Model:                            OLS   Adj. R-squared:                  0.514\n",
            "Method:                 Least Squares   F-statistic:                     63.71\n",
            "Date:                Wed, 05 Mar 2025   Prob (F-statistic):           6.80e-28\n",
            "Time:                        14:54:00   Log-Likelihood:                 310.65\n",
            "No. Observations:                 179   AIC:                            -613.3\n",
            "Df Residuals:                     175   BIC:                            -600.6\n",
            "Df Model:                           3                                         \n",
            "Covariance Type:            nonrobust                                         \n",
            "==============================================================================\n",
            "                 coef    std err          t      P>|t|      [0.025      0.975]\n",
            "------------------------------------------------------------------------------\n",
            "const          0.0052      0.003      1.543      0.125      -0.001       0.012\n",
            "Mkt-RF         1.0658      0.079     13.514      0.000       0.910       1.221\n",
            "SMB           -0.6800      0.133     -5.113      0.000      -0.942      -0.418\n",
            "HML           -0.3379      0.099     -3.409      0.001      -0.534      -0.142\n",
            "==============================================================================\n",
            "Omnibus:                        9.468   Durbin-Watson:                   2.242\n",
            "Prob(Omnibus):                  0.009   Jarque-Bera (JB):               16.374\n",
            "Skew:                           0.222   Prob(JB):                     0.000278\n",
            "Kurtosis:                       4.414   Cond. No.                         42.5\n",
            "==============================================================================\n",
            "\n",
            "Notes:\n",
            "[1] Standard Errors assume that the covariance matrix of the errors is correctly specified.\n",
            "\n",
            "Regression results for GOOG:\n",
            "                             OLS Regression Results                            \n",
            "==============================================================================\n",
            "Dep. Variable:                 excess   R-squared:                       0.411\n",
            "Model:                            OLS   Adj. R-squared:                  0.401\n",
            "Method:                 Least Squares   F-statistic:                     40.64\n",
            "Date:                Wed, 05 Mar 2025   Prob (F-statistic):           5.55e-20\n",
            "Time:                        14:54:00   Log-Likelihood:                 269.30\n",
            "No. Observations:                 179   AIC:                            -530.6\n",
            "Df Residuals:                     175   BIC:                            -517.9\n",
            "Df Model:                           3                                         \n",
            "Covariance Type:            nonrobust                                         \n",
            "==============================================================================\n",
            "                 coef    std err          t      P>|t|      [0.025      0.975]\n",
            "------------------------------------------------------------------------------\n",
            "const          0.0039      0.004      0.919      0.359      -0.004       0.012\n",
            "Mkt-RF         1.0794      0.099     10.864      0.000       0.883       1.276\n",
            "SMB           -0.5154      0.168     -3.076      0.002      -0.846      -0.185\n",
            "HML           -0.3046      0.125     -2.439      0.016      -0.551      -0.058\n",
            "==============================================================================\n",
            "Omnibus:                       15.045   Durbin-Watson:                   2.211\n",
            "Prob(Omnibus):                  0.001   Jarque-Bera (JB):               18.887\n",
            "Skew:                           0.566   Prob(JB):                     7.92e-05\n",
            "Kurtosis:                       4.119   Cond. No.                         42.5\n",
            "==============================================================================\n",
            "\n",
            "Notes:\n",
            "[1] Standard Errors assume that the covariance matrix of the errors is correctly specified.\n",
            "\n",
            "Regression results for BRK-B:\n",
            "                             OLS Regression Results                            \n",
            "==============================================================================\n",
            "Dep. Variable:                 excess   R-squared:                       0.541\n",
            "Model:                            OLS   Adj. R-squared:                  0.533\n",
            "Method:                 Least Squares   F-statistic:                     68.84\n",
            "Date:                Wed, 05 Mar 2025   Prob (F-statistic):           1.90e-29\n",
            "Time:                        14:54:00   Log-Likelihood:                 359.95\n",
            "No. Observations:                 179   AIC:                            -711.9\n",
            "Df Residuals:                     175   BIC:                            -699.2\n",
            "Df Model:                           3                                         \n",
            "Covariance Type:            nonrobust                                         \n",
            "==============================================================================\n",
            "                 coef    std err          t      P>|t|      [0.025      0.975]\n",
            "------------------------------------------------------------------------------\n",
            "const          0.0014      0.003      0.564      0.574      -0.004       0.006\n",
            "Mkt-RF         0.8090      0.060     13.512      0.000       0.691       0.927\n",
            "SMB           -0.5027      0.101     -4.979      0.000      -0.702      -0.303\n",
            "HML            0.3201      0.075      4.253      0.000       0.172       0.469\n",
            "==============================================================================\n",
            "Omnibus:                       42.949   Durbin-Watson:                   2.209\n",
            "Prob(Omnibus):                  0.000   Jarque-Bera (JB):              146.147\n",
            "Skew:                           0.896   Prob(JB):                     1.84e-32\n",
            "Kurtosis:                       7.048   Cond. No.                         42.5\n",
            "==============================================================================\n",
            "\n",
            "Notes:\n",
            "[1] Standard Errors assume that the covariance matrix of the errors is correctly specified.\n",
            "\n",
            "Regression results for JPM:\n",
            "                             OLS Regression Results                            \n",
            "==============================================================================\n",
            "Dep. Variable:                 excess   R-squared:                       0.694\n",
            "Model:                            OLS   Adj. R-squared:                  0.689\n",
            "Method:                 Least Squares   F-statistic:                     132.3\n",
            "Date:                Wed, 05 Mar 2025   Prob (F-statistic):           8.88e-45\n",
            "Time:                        14:54:00   Log-Likelihood:                 321.27\n",
            "No. Observations:                 179   AIC:                            -634.5\n",
            "Df Residuals:                     175   BIC:                            -621.8\n",
            "Df Model:                           3                                         \n",
            "Covariance Type:            nonrobust                                         \n",
            "==============================================================================\n",
            "                 coef    std err          t      P>|t|      [0.025      0.975]\n",
            "------------------------------------------------------------------------------\n",
            "const          0.0026      0.003      0.813      0.417      -0.004       0.009\n",
            "Mkt-RF         1.1578      0.074     15.578      0.000       1.011       1.304\n",
            "SMB            0.0482      0.125      0.385      0.701      -0.199       0.296\n",
            "HML            0.8799      0.093      9.419      0.000       0.696       1.064\n",
            "==============================================================================\n",
            "Omnibus:                        8.733   Durbin-Watson:                   2.061\n",
            "Prob(Omnibus):                  0.013   Jarque-Bera (JB):                9.478\n",
            "Skew:                          -0.409   Prob(JB):                      0.00875\n",
            "Kurtosis:                       3.775   Cond. No.                         42.5\n",
            "==============================================================================\n",
            "\n",
            "Notes:\n",
            "[1] Standard Errors assume that the covariance matrix of the errors is correctly specified.\n",
            "\n",
            "Regression results for JNJ:\n",
            "                             OLS Regression Results                            \n",
            "==============================================================================\n",
            "Dep. Variable:                 excess   R-squared:                       0.296\n",
            "Model:                            OLS   Adj. R-squared:                  0.284\n",
            "Method:                 Least Squares   F-statistic:                     24.56\n",
            "Date:                Wed, 05 Mar 2025   Prob (F-statistic):           2.59e-13\n",
            "Time:                        14:54:00   Log-Likelihood:                 335.01\n",
            "No. Observations:                 179   AIC:                            -662.0\n",
            "Df Residuals:                     175   BIC:                            -649.3\n",
            "Df Model:                           3                                         \n",
            "Covariance Type:            nonrobust                                         \n",
            "==============================================================================\n",
            "                 coef    std err          t      P>|t|      [0.025      0.975]\n",
            "------------------------------------------------------------------------------\n",
            "const          0.0007      0.003      0.255      0.799      -0.005       0.007\n",
            "Mkt-RF         0.5785      0.069      8.404      0.000       0.443       0.714\n",
            "SMB           -0.3666      0.116     -3.159      0.002      -0.596      -0.138\n",
            "HML            0.1162      0.087      1.343      0.181      -0.055       0.287\n",
            "==============================================================================\n",
            "Omnibus:                        1.874   Durbin-Watson:                   1.953\n",
            "Prob(Omnibus):                  0.392   Jarque-Bera (JB):                1.856\n",
            "Skew:                           0.181   Prob(JB):                        0.395\n",
            "Kurtosis:                       2.658   Cond. No.                         42.5\n",
            "==============================================================================\n",
            "\n",
            "Notes:\n",
            "[1] Standard Errors assume that the covariance matrix of the errors is correctly specified.\n",
            "\n",
            "Regression results for V:\n",
            "                             OLS Regression Results                            \n",
            "==============================================================================\n",
            "Dep. Variable:                 excess   R-squared:                       0.471\n",
            "Model:                            OLS   Adj. R-squared:                  0.461\n",
            "Method:                 Least Squares   F-statistic:                     51.84\n",
            "Date:                Wed, 05 Mar 2025   Prob (F-statistic):           5.03e-24\n",
            "Time:                        14:54:00   Log-Likelihood:                 317.30\n",
            "No. Observations:                 179   AIC:                            -626.6\n",
            "Df Residuals:                     175   BIC:                            -613.8\n",
            "Df Model:                           3                                         \n",
            "Covariance Type:            nonrobust                                         \n",
            "==============================================================================\n",
            "                 coef    std err          t      P>|t|      [0.025      0.975]\n",
            "------------------------------------------------------------------------------\n",
            "const          0.0059      0.003      1.816      0.071      -0.001       0.012\n",
            "Mkt-RF         0.9444      0.076     12.428      0.000       0.794       1.094\n",
            "SMB           -0.4197      0.128     -3.275      0.001      -0.673      -0.167\n",
            "HML           -0.0975      0.096     -1.021      0.309      -0.286       0.091\n",
            "==============================================================================\n",
            "Omnibus:                        9.176   Durbin-Watson:                   2.062\n",
            "Prob(Omnibus):                  0.010   Jarque-Bera (JB):               11.291\n",
            "Skew:                          -0.367   Prob(JB):                      0.00353\n",
            "Kurtosis:                       3.987   Cond. No.                         42.5\n",
            "==============================================================================\n",
            "\n",
            "Notes:\n",
            "[1] Standard Errors assume that the covariance matrix of the errors is correctly specified.\n",
            "\n",
            "Regression results for PG:\n",
            "                             OLS Regression Results                            \n",
            "==============================================================================\n",
            "Dep. Variable:                 excess   R-squared:                       0.262\n",
            "Model:                            OLS   Adj. R-squared:                  0.249\n",
            "Method:                 Least Squares   F-statistic:                     20.72\n",
            "Date:                Wed, 05 Mar 2025   Prob (F-statistic):           1.56e-11\n",
            "Time:                        14:54:00   Log-Likelihood:                 335.67\n",
            "No. Observations:                 179   AIC:                            -663.3\n",
            "Df Residuals:                     175   BIC:                            -650.6\n",
            "Df Model:                           3                                         \n",
            "Covariance Type:            nonrobust                                         \n",
            "==============================================================================\n",
            "                 coef    std err          t      P>|t|      [0.025      0.975]\n",
            "------------------------------------------------------------------------------\n",
            "const          0.0024      0.003      0.836      0.404      -0.003       0.008\n",
            "Mkt-RF         0.4871      0.069      7.103      0.000       0.352       0.622\n",
            "SMB           -0.6420      0.116     -5.551      0.000      -0.870      -0.414\n",
            "HML            0.0609      0.086      0.707      0.481      -0.109       0.231\n",
            "==============================================================================\n",
            "Omnibus:                        1.232   Durbin-Watson:                   2.278\n",
            "Prob(Omnibus):                  0.540   Jarque-Bera (JB):                1.079\n",
            "Skew:                          -0.190   Prob(JB):                        0.583\n",
            "Kurtosis:                       3.016   Cond. No.                         42.5\n",
            "==============================================================================\n",
            "\n",
            "Notes:\n",
            "[1] Standard Errors assume that the covariance matrix of the errors is correctly specified.\n",
            "\n",
            "Forecasted r_AAPL, t+1: 0.009646218246522021\n",
            "\n",
            "Forecasted r_MSFT, t+1: 0.00526456484371734\n",
            "\n",
            "Forecasted r_GOOG, t+1: 0.0039738115339071275\n",
            "\n",
            "Forecasted r_BRK-B, t+1: 0.0015158079053499594\n",
            "\n",
            "Forecasted r_JPM, t+1: 0.0026935067288678216\n",
            "\n",
            "Forecasted r_JNJ, t+1: 0.0008014854157920754\n",
            "\n",
            "Forecasted r_V, t+1: 0.005950953370694817\n",
            "\n",
            "Forecasted r_PG, t+1: 0.002482339769802205\n",
            "Total forecast error variance for AAPL: 0.0034119525366086982\n",
            "Total forecast error variance for MSFT: 0.0018619602256020387\n",
            "Total forecast error variance for GOOG: 0.0029552568433235463\n",
            "Total forecast error variance for BRK-B: 0.001073372595082799\n",
            "Total forecast error variance for JPM: 0.0016538037043846937\n",
            "Total forecast error variance for JNJ: 0.001418205483086445\n",
            "Total forecast error variance for V: 0.001728690588837613\n",
            "Total forecast error variance for PG: 0.0014078619278375141\n"
          ]
        }
      ],
      "source": [
        "#Combined Code\n",
        "\n",
        "# ----------------------------\n",
        "# 1. Load Fama–French Factor Data\n",
        "# ----------------------------\n",
        "ff = pd.read_csv('F-F_Research_Data_Factors.CSV', skiprows=4, header=0, names=['Date','Mkt-RF','SMB','HML','RF']) # Added names and header, skiprows to 4\n",
        "# Date is in yyyymmdd format, convert it:\n",
        "ff['Date'] = pd.to_datetime(ff['Date'], format='%Y%m')\n",
        "ff = ff.set_index('Date')\n",
        "# Convert factor returns from percentages to decimals\n",
        "ff = ff.astype(float) / 100\n",
        "\n",
        "# ----------------------------\n",
        "# 2. Forecast Factors using optimal GARCH(1,1) on 100x Scaled Data\n",
        "# ----------------------------\n",
        "forecast_results = {}\n",
        "factors = ['Mkt-RF', 'SMB', 'HML']\n",
        "\n",
        "for factor in factors:\n",
        "    series_ = ff[factor].dropna()\n",
        "    # convert to log-returns\n",
        "    series = np.log(1 + series_)\n",
        "    # Scale the series by 100 to stabilize the GARCH estimation\n",
        "    mean, vol, dist = garch_aic_sel(100 * series)\n",
        "    am = arch_model(100 * series, mean=mean, vol=vol, p=1, q=1, dist=dist)\n",
        "    res = am.fit(disp='off')\n",
        "\n",
        "    # Forecast one period ahead (next month)\n",
        "    forecast = res.forecast(horizon=1, reindex=False)\n",
        "\n",
        "    # The forecasted mean is on a 100x scale and variance on a 100^2 scale.\n",
        "    next_day_mean_ = forecast.mean.iloc[-1, 0]\n",
        "    next_day_variance_ = forecast.variance.iloc[-1, 0]\n",
        "\n",
        "    # convert back to simple returns\n",
        "    next_day_mean = (np.exp(next_day_mean_ / 100) - 1)\n",
        "    next_day_variance = (np.exp(next_day_variance_ / 100**2) - 1)\n",
        "\n",
        "    forecast_results[factor] = {'next_day_mean': next_day_mean,\n",
        "                                'next_day_variance': next_day_variance}\n",
        "    print(f\"Forecast for {factor} (next period): Mean = {next_day_mean}, Variance = {next_day_variance}\")\n",
        "\n",
        "# ----------------------------\n",
        "# 3. Download Stock Data and Run Regressions\n",
        "# ----------------------------\n",
        "tickers = [\"AAPL\", \"MSFT\", \"GOOG\", \"BRK-B\", \"JPM\", \"JNJ\", \"V\", \"PG\"]\n",
        "prices = yf.download(tickers, start='2009-12-31', end='2024-12-31', interval='1mo', auto_adjust=True)['Close']\n",
        "\n",
        "returns = prices.pct_change().dropna()\n",
        "\n",
        "# Align dates of stock returns and factor data\n",
        "common_dates = returns.index.intersection(ff.index)\n",
        "\n",
        "# Check if common_dates is empty and handle accordingly\n",
        "if len(common_dates) == 0:\n",
        "    print(\"Error: No common dates found between stock returns and Fama-French data.\")\n",
        "    # Further investigation and data adjustment are needed\n",
        "else:\n",
        "    returns = returns.loc[common_dates]\n",
        "    ff = ff.loc[common_dates]\n",
        "\n",
        "\n",
        "# Run OLS regressions to estimate factor loadings and obtain residual variances.\n",
        "results = {}   # to store regression outputs\n",
        "coeffs = {}    # to store estimated coefficients for each ticker\n",
        "\n",
        "for ticker in tickers:\n",
        "    df = pd.DataFrame({'r': returns[ticker]})\n",
        "    df = df.join(ff[['Mkt-RF', 'SMB', 'HML', 'RF']])\n",
        "    # Compute excess returns: r - RF\n",
        "    df['excess'] = df['r'] - df['RF']\n",
        "\n",
        "    # Independent variables are the three factors (with constant)\n",
        "    X = df[['Mkt-RF', 'SMB', 'HML']]\n",
        "    X = sm.add_constant(X)\n",
        "    y = df['excess']\n",
        "\n",
        "    model = sm.OLS(y, X).fit()\n",
        "    results[ticker] = model\n",
        "    coeffs[ticker] = {\n",
        "         'alpha': model.params['const'],\n",
        "         'Mkt-RF': model.params['Mkt-RF'],\n",
        "         'SMB': model.params['SMB'],\n",
        "         'HML': model.params['HML']\n",
        "    }\n",
        "\n",
        "    print(f\"\\nRegression results for {ticker}:\\n\", model.summary())\n",
        "\n",
        "# ----------------------------\n",
        "# 4. Forecast Next Day Expected Returns (r_{i,t+1})\n",
        "# ----------------------------\n",
        "forecast_r = {}\n",
        "for ticker in tickers:\n",
        "    # r_{i,t+1} = alpha_i + beta_i,Mkt * (forecast_Mkt/100) + beta_i,SMB * (forecast_SMB/100) + beta_i,HML * (forecast_HML/100)\n",
        "    alpha = coeffs[ticker]['alpha']\n",
        "    r_forecast = alpha\n",
        "    for factor in factors:\n",
        "        beta = coeffs[ticker][factor]\n",
        "        # Convert forecasted factor mean from 100x scale back to original scale by dividing by 100.\n",
        "        factor_mean = forecast_results[factor]['next_day_mean'] / 100\n",
        "        r_forecast += beta * factor_mean\n",
        "    forecast_r[ticker] = r_forecast\n",
        "    print(f\"\\nForecasted r_{ticker}, t+1: {r_forecast}\")\n",
        "\n",
        "# ----------------------------\n",
        "# 5. Calculate Total Forecast Error Variance for r_{i,t+1}\n",
        "# ----------------------------\n",
        "# Total variance = sum_j (beta_{ij}^2 * (sigma_{j, forecast}^2 / 100^2)) + sigma^2_reg,\n",
        "# where sigma^2_reg is the mean squared error (residual variance) from the regression.\n",
        "forecast_error = {}\n",
        "for ticker in tickers:\n",
        "    beta_squared_sum = 0\n",
        "    for factor in factors:\n",
        "        beta = coeffs[ticker][factor]\n",
        "        # Convert forecasted variance from 100x scale back to original scale: divide by 100^2.\n",
        "        factor_variance = forecast_results[factor]['next_day_variance'] / (100**2)\n",
        "        beta_squared_sum += (beta**2) * factor_variance\n",
        "\n",
        "    sigma2_reg = results[ticker].mse_resid  # regression residual variance\n",
        "    total_variance = beta_squared_sum + sigma2_reg\n",
        "    forecast_error[ticker] = total_variance\n",
        "    print(f\"Total forecast error variance for {ticker}: {total_variance}\")\n"
      ]
    },
    {
      "cell_type": "code",
      "execution_count": 5,
      "metadata": {
        "colab": {
          "base_uri": "https://localhost:8080/",
          "height": 452
        },
        "id": "A4B-uM0q9IOR",
        "outputId": "173bedbf-e5f3-42d9-9dd7-fce43e1037d4"
      },
      "outputs": [
        {
          "data": {
            "image/png": "[encoded data removed]",
            "text/plain": [
              "<Figure size 640x480 with 1 Axes>"
            ]
          },
          "metadata": {},
          "output_type": "display_data"
        }
      ],
      "source": [
        "annualizer = 12\n",
        "\n",
        "annualized_return = {ticker: forecast_r[ticker] * annualizer for ticker in tickers}\n",
        "annualized_volatility = {ticker: np.sqrt(forecast_error[ticker]) * np.sqrt(annualizer) for ticker in tickers}\n",
        "\n",
        "plt.scatter(annualized_volatility.values(), annualized_return.values())\n",
        "# use ticker to label scatter plots\n",
        "for ticker in tickers:\n",
        "    plt.text(annualized_volatility[ticker], annualized_return[ticker], ticker)\n",
        "plt.xlabel('Total Forecast Error Variance')\n",
        "plt.ylabel('Forecasted Returns')\n",
        "plt.show()"
      ]
    },
    {
      "cell_type": "code",
      "execution_count": 6,
      "metadata": {
        "colab": {
          "base_uri": "https://localhost:8080/"
        },
        "id": "7jUuSld79IOR",
        "outputId": "346e0bca-9144-40a1-e1c2-6f33406684fc"
      },
      "outputs": [
        {
          "name": "stdout",
          "output_type": "stream",
          "text": [
            "Expected annual return: 8.1%\n",
            "Annual volatility: 13.7%\n",
            "Sharpe Ratio: 0.59\n"
          ]
        },
        {
          "data": {
            "text/plain": [
              "(np.float64(0.08105767587242596),\n",
              " np.float64(0.13696031119350693),\n",
              " np.float64(0.5918333213912029))"
            ]
          },
          "execution_count": 6,
          "metadata": {},
          "output_type": "execute_result"
        }
      ],
      "source": [
        "from pypfopt import EfficientFrontier, risk_models\n",
        "\n",
        "# calculate the optimal max sharpe portfolio using the forecasted mean return as expected returns and the empirical covariance for risk\n",
        "mu = pd.Series(annualized_return)\n",
        "S = risk_models.sample_cov(prices, frequency=12)\n",
        "ef = EfficientFrontier(mu, S)\n",
        "weights = ef.max_sharpe()\n",
        "ef.portfolio_performance(verbose=True)"
      ]
    },
    {
      "cell_type": "code",
      "execution_count": 7,
      "metadata": {
        "colab": {
          "base_uri": "https://localhost:8080/",
          "height": 476
        },
        "id": "GqcxLurD9IOR",
        "outputId": "6727fa0e-fdca-47f8-a280-5f94596cc884"
      },
      "outputs": [
        {
          "data": {
            "text/plain": [
              "<Axes: >"
            ]
          },
          "execution_count": 7,
          "metadata": {},
          "output_type": "execute_result"
        },
        {
          "data": {
            "image/png": "[encoded data removed]",
            "text/plain": [
              "<Figure size 640x480 with 1 Axes>"
            ]
          },
          "metadata": {},
          "output_type": "display_data"
        }
      ],
      "source": [
        "# plot the weights of the optimal portfolio\n",
        "weights = pd.Series(weights)\n",
        "weights.plot(kind='bar')\n"
      ]
    },
    {
      "cell_type": "code",
      "execution_count": 8,
      "metadata": {
        "colab": {
          "base_uri": "https://localhost:8080/",
          "height": 331
        },
        "id": "fpl025dM9IOR",
        "outputId": "05def922-9450-4583-8934-d2e87b9b4691"
      },
      "outputs": [
        {
          "data": {
            "text/plain": [
              "AAPL     25.798296\n",
              "MSFT     21.775190\n",
              "GOOG      0.000000\n",
              "BRK-B     0.000000\n",
              "JPM       0.000000\n",
              "JNJ       0.000000\n",
              "V        52.426515\n",
              "PG        0.000000\n",
              "dtype: float64"
            ]
          },
          "execution_count": 8,
          "metadata": {},
          "output_type": "execute_result"
        }
      ],
      "source": [
        "weights*100"
      ]
    },
    {
      "cell_type": "code",
      "execution_count": null,
      "metadata": {},
      "outputs": [
        {
          "data": {
            "text/plain": [
              "{'AAPL': np.float64(0.11575461895826425),\n",
              " 'MSFT': np.float64(0.06317477812460809),\n",
              " 'GOOG': np.float64(0.04768573840688553),\n",
              " 'BRK-B': np.float64(0.018189694864199513),\n",
              " 'JPM': np.float64(0.03232208074641386),\n",
              " 'JNJ': np.float64(0.009617824989504904),\n",
              " 'V': np.float64(0.0714114404483378),\n",
              " 'PG': np.float64(0.029788077237626463)}"
            ]
          },
          "execution_count": 10,
          "metadata": {},
          "output_type": "execute_result"
        }
      ],
      "source": [
        "viewdict = {t:mu[t] for t in tickers}\n",
        "viewdict"
      ]
    },
    {
      "cell_type": "code",
      "execution_count": 12,
      "metadata": {},
      "outputs": [
        {
          "data": {
            "text/plain": [
              "array([[0.20234483, 0.        , 0.        , 0.        , 0.        ,\n",
              "        0.        , 0.        , 0.        ],\n",
              "       [0.        , 0.1494775 , 0.        , 0.        , 0.        ,\n",
              "        0.        , 0.        , 0.        ],\n",
              "       [0.        , 0.        , 0.18831644, 0.        , 0.        ,\n",
              "        0.        , 0.        , 0.        ],\n",
              "       [0.        , 0.        , 0.        , 0.11349216, 0.        ,\n",
              "        0.        , 0.        , 0.        ],\n",
              "       [0.        , 0.        , 0.        , 0.        , 0.14087457,\n",
              "        0.        , 0.        , 0.        ],\n",
              "       [0.        , 0.        , 0.        , 0.        , 0.        ,\n",
              "        0.13045484, 0.        , 0.        ],\n",
              "       [0.        , 0.        , 0.        , 0.        , 0.        ,\n",
              "        0.        , 0.14402877, 0.        ],\n",
              "       [0.        , 0.        , 0.        , 0.        , 0.        ,\n",
              "        0.        , 0.        , 0.12997824]])"
            ]
          },
          "execution_count": 12,
          "metadata": {},
          "output_type": "execute_result"
        }
      ],
      "source": [
        "view_omega = np.diag([annualized_volatility[t] for t in tickers])\n",
        "view_omega"
      ]
    },
    {
      "cell_type": "code",
      "execution_count": 13,
      "metadata": {
        "colab": {
          "base_uri": "https://localhost:8080/"
        },
        "id": "RRa2IDzqNHgp",
        "outputId": "a1396840-d5bc-4c77-cb8c-b9d9c5c119ab"
      },
      "outputs": [
        {
          "name": "stdout",
          "output_type": "stream",
          "text": [
            "Ticker\n",
            "AAPL     0.044424\n",
            "BRK-B    0.016671\n",
            "GOOG     0.030707\n",
            "JNJ      0.012553\n",
            "JPM      0.025428\n",
            "MSFT     0.031705\n",
            "PG       0.012615\n",
            "V        0.028690\n",
            "dtype: float64\n"
          ]
        },
        {
          "name": "stderr",
          "output_type": "stream",
          "text": [
            "/home/carlo/miniconda3/lib/python3.12/site-packages/pypfopt/black_litterman.py:258: UserWarning: Running Black-Litterman with no prior.\n",
            "  warnings.warn(\"Running Black-Litterman with no prior.\")\n"
          ]
        }
      ],
      "source": [
        "S_train = risk_models.sample_cov(prices)  # or however your train_data is defined\n",
        "\n",
        "#print(S_train)\n",
        "\n",
        "bl = BlackLittermanModel(S_train, absolute_views=viewdict, omega=view_omega)\n",
        "mu_train = bl.bl_returns()\n",
        "print(mu_train)"
      ]
    },
    {
      "cell_type": "code",
      "execution_count": 62,
      "metadata": {
        "colab": {
          "base_uri": "https://localhost:8080/",
          "height": 611
        },
        "id": "YWJ1W8a9WhUY",
        "outputId": "16a31d18-5471-43cb-c4b2-17421343bade"
      },
      "outputs": [
        {
          "name": "stdout",
          "output_type": "stream",
          "text": [
            "Optimized Weights:\n",
            "OrderedDict([('AAPL', 0.33664), ('BRK-B', 0.0), ('GOOG', 0.04002), ('JNJ', 0.0), ('JPM', 0.0), ('MSFT', 0.16622), ('PG', 0.14666), ('V', 0.31047)])\n"
          ]
        },
        {
          "data": {
            "image/png": "[encoded data removed]",
            "text/plain": [
              "<Figure size 800x500 with 1 Axes>"
            ]
          },
          "metadata": {},
          "output_type": "display_data"
        },
        {
          "name": "stdout",
          "output_type": "stream",
          "text": [
            "Expected annual return: 0.4%\n",
            "Annual volatility: 75.8%\n",
            "Sharpe Ratio: 0.01\n"
          ]
        }
      ],
      "source": [
        "ef_bl = EfficientFrontier(mu_train, S_train)\n",
        "weights_bl = ef_bl.max_sharpe()\n",
        "cleaned_weights_bl = ef_bl.clean_weights()\n",
        "print(\"Optimized Weights:\")\n",
        "print(cleaned_weights_bl)\n",
        "\n",
        "# Plot the portfolio weights\n",
        "weights_series = pd.Series(cleaned_weights_bl)\n",
        "weights_series.plot(kind=\"bar\", figsize=(8, 5))\n",
        "plt.title(\"Portfolio Weights from Black-Litterman Model\")\n",
        "plt.xlabel(\"Ticker\")\n",
        "plt.ylabel(\"Weight\")\n",
        "plt.tight_layout()\n",
        "plt.show()\n",
        "\n",
        "# Optionally, display the portfolio performance metrics\n",
        "performance = ef_bl.portfolio_performance(verbose=True)"
      ]
    }
  ],
  "metadata": {
    "colab": {
      "provenance": []
    },
    "kernelspec": {
      "display_name": "base",
      "language": "python",
      "name": "python3"
    },
    "language_info": {
      "codemirror_mode": {
        "name": "ipython",
        "version": 3
      },
      "file_extension": ".py",
      "mimetype": "text/x-python",
      "name": "python",
      "nbconvert_exporter": "python",
      "pygments_lexer": "ipython3",
      "version": "3.12.2"
    }
  },
  "nbformat": 4,
  "nbformat_minor": 0
}
