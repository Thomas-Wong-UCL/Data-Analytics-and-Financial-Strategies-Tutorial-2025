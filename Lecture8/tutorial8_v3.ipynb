{
  "cells": [
    {
      "cell_type": "code",
      "execution_count": 1,
      "metadata": {
        "colab": {
          "base_uri": "https://localhost:8080/"
        },
        "id": "J1AKKFDP9IOO",
        "outputId": "4f9d1ac2-0302-4492-defe-7afa321750a7"
      },
      "outputs": [
        {
          "name": "stdout",
          "output_type": "stream",
          "text": [
            "Requirement already satisfied: yfinance==0.2.54 in /usr/local/lib/python3.11/dist-packages (0.2.54)\n",
            "Requirement already satisfied: pandas>=1.3.0 in /usr/local/lib/python3.11/dist-packages (from yfinance==0.2.54) (2.2.2)\n",
            "Requirement already satisfied: numpy>=1.16.5 in /usr/local/lib/python3.11/dist-packages (from yfinance==0.2.54) (1.26.4)\n",
            "Requirement already satisfied: requests>=2.31 in /usr/local/lib/python3.11/dist-packages (from yfinance==0.2.54) (2.32.3)\n",
            "Requirement already satisfied: multitasking>=0.0.7 in /usr/local/lib/python3.11/dist-packages (from yfinance==0.2.54) (0.0.11)\n",
            "Requirement already satisfied: platformdirs>=2.0.0 in /usr/local/lib/python3.11/dist-packages (from yfinance==0.2.54) (4.3.6)\n",
            "Requirement already satisfied: pytz>=2022.5 in /usr/local/lib/python3.11/dist-packages (from yfinance==0.2.54) (2025.1)\n",
            "Requirement already satisfied: frozendict>=2.3.4 in /usr/local/lib/python3.11/dist-packages (from yfinance==0.2.54) (2.4.6)\n",
            "Requirement already satisfied: peewee>=3.16.2 in /usr/local/lib/python3.11/dist-packages (from yfinance==0.2.54) (3.17.9)\n",
            "Requirement already satisfied: beautifulsoup4>=4.11.1 in /usr/local/lib/python3.11/dist-packages (from yfinance==0.2.54) (4.13.3)\n",
            "Requirement already satisfied: soupsieve>1.2 in /usr/local/lib/python3.11/dist-packages (from beautifulsoup4>=4.11.1->yfinance==0.2.54) (2.6)\n",
            "Requirement already satisfied: typing-extensions>=4.0.0 in /usr/local/lib/python3.11/dist-packages (from beautifulsoup4>=4.11.1->yfinance==0.2.54) (4.12.2)\n",
            "Requirement already satisfied: python-dateutil>=2.8.2 in /usr/local/lib/python3.11/dist-packages (from pandas>=1.3.0->yfinance==0.2.54) (2.8.2)\n",
            "Requirement already satisfied: tzdata>=2022.7 in /usr/local/lib/python3.11/dist-packages (from pandas>=1.3.0->yfinance==0.2.54) (2025.1)\n",
            "Requirement already satisfied: charset-normalizer<4,>=2 in /usr/local/lib/python3.11/dist-packages (from requests>=2.31->yfinance==0.2.54) (3.4.1)\n",
            "Requirement already satisfied: idna<4,>=2.5 in /usr/local/lib/python3.11/dist-packages (from requests>=2.31->yfinance==0.2.54) (3.10)\n",
            "Requirement already satisfied: urllib3<3,>=1.21.1 in /usr/local/lib/python3.11/dist-packages (from requests>=2.31->yfinance==0.2.54) (2.3.0)\n",
            "Requirement already satisfied: certifi>=2017.4.17 in /usr/local/lib/python3.11/dist-packages (from requests>=2.31->yfinance==0.2.54) (2025.1.31)\n",
            "Requirement already satisfied: six>=1.5 in /usr/local/lib/python3.11/dist-packages (from python-dateutil>=2.8.2->pandas>=1.3.0->yfinance==0.2.54) (1.17.0)\n"
          ]
        }
      ],
      "source": [
        "pip install --upgrade yfinance==0.2.54"
      ]
    },
    {
      "cell_type": "code",
      "execution_count": 2,
      "metadata": {
        "colab": {
          "base_uri": "https://localhost:8080/"
        },
        "id": "znrjDgpz9IOQ",
        "outputId": "64614fe9-26df-44d0-a2c2-1bf905e44b21"
      },
      "outputs": [
        {
          "name": "stdout",
          "output_type": "stream",
          "text": [
            "Collecting arch\n",
            "  Downloading arch-7.2.0-cp311-cp311-manylinux_2_17_x86_64.manylinux2014_x86_64.whl.metadata (13 kB)\n",
            "Requirement already satisfied: numpy>=1.22.3 in /usr/local/lib/python3.11/dist-packages (from arch) (1.26.4)\n",
            "Requirement already satisfied: scipy>=1.8 in /usr/local/lib/python3.11/dist-packages (from arch) (1.13.1)\n",
            "Requirement already satisfied: pandas>=1.4 in /usr/local/lib/python3.11/dist-packages (from arch) (2.2.2)\n",
            "Requirement already satisfied: statsmodels>=0.12 in /usr/local/lib/python3.11/dist-packages (from arch) (0.14.4)\n",
            "Requirement already satisfied: python-dateutil>=2.8.2 in /usr/local/lib/python3.11/dist-packages (from pandas>=1.4->arch) (2.8.2)\n",
            "Requirement already satisfied: pytz>=2020.1 in /usr/local/lib/python3.11/dist-packages (from pandas>=1.4->arch) (2025.1)\n",
            "Requirement already satisfied: tzdata>=2022.7 in /usr/local/lib/python3.11/dist-packages (from pandas>=1.4->arch) (2025.1)\n",
            "Requirement already satisfied: patsy>=0.5.6 in /usr/local/lib/python3.11/dist-packages (from statsmodels>=0.12->arch) (1.0.1)\n",
            "Requirement already satisfied: packaging>=21.3 in /usr/local/lib/python3.11/dist-packages (from statsmodels>=0.12->arch) (24.2)\n",
            "Requirement already satisfied: six>=1.5 in /usr/local/lib/python3.11/dist-packages (from python-dateutil>=2.8.2->pandas>=1.4->arch) (1.17.0)\n",
            "Downloading arch-7.2.0-cp311-cp311-manylinux_2_17_x86_64.manylinux2014_x86_64.whl (985 kB)\n",
            "\u001b[2K   \u001b[90m━━━━━━━━━━━━━━━━━━━━━━━━━━━━━━━━━━━━━━━━\u001b[0m \u001b[32m985.3/985.3 kB\u001b[0m \u001b[31m11.1 MB/s\u001b[0m eta \u001b[36m0:00:00\u001b[0m\n",
            "\u001b[?25hInstalling collected packages: arch\n",
            "Successfully installed arch-7.2.0\n"
          ]
        }
      ],
      "source": [
        "pip install arch"
      ]
    },
    {
      "cell_type": "code",
      "execution_count": 3,
      "metadata": {
        "colab": {
          "base_uri": "https://localhost:8080/"
        },
        "id": "2NH0lEEp9IOQ",
        "outputId": "76b32c55-3b1e-4e0e-f11e-9764fbd9f67f"
      },
      "outputs": [
        {
          "name": "stdout",
          "output_type": "stream",
          "text": [
            "Requirement already satisfied: scikit-learn in /usr/local/lib/python3.11/dist-packages (1.6.1)\n",
            "Requirement already satisfied: numpy>=1.19.5 in /usr/local/lib/python3.11/dist-packages (from scikit-learn) (1.26.4)\n",
            "Requirement already satisfied: scipy>=1.6.0 in /usr/local/lib/python3.11/dist-packages (from scikit-learn) (1.13.1)\n",
            "Requirement already satisfied: joblib>=1.2.0 in /usr/local/lib/python3.11/dist-packages (from scikit-learn) (1.4.2)\n",
            "Requirement already satisfied: threadpoolctl>=3.1.0 in /usr/local/lib/python3.11/dist-packages (from scikit-learn) (3.5.0)\n"
          ]
        }
      ],
      "source": [
        "pip install scikit-learn"
      ]
    },
    {
      "cell_type": "code",
      "execution_count": 4,
      "metadata": {
        "colab": {
          "base_uri": "https://localhost:8080/"
        },
        "id": "ENivf4aa9IOQ",
        "outputId": "5ebf80d2-5461-47bd-d3ac-e586bfe6e3c1"
      },
      "outputs": [
        {
          "name": "stdout",
          "output_type": "stream",
          "text": [
            "Requirement already satisfied: pandas_datareader in /usr/local/lib/python3.11/dist-packages (0.10.0)\n",
            "Requirement already satisfied: lxml in /usr/local/lib/python3.11/dist-packages (from pandas_datareader) (5.3.1)\n",
            "Requirement already satisfied: pandas>=0.23 in /usr/local/lib/python3.11/dist-packages (from pandas_datareader) (2.2.2)\n",
            "Requirement already satisfied: requests>=2.19.0 in /usr/local/lib/python3.11/dist-packages (from pandas_datareader) (2.32.3)\n",
            "Requirement already satisfied: numpy>=1.23.2 in /usr/local/lib/python3.11/dist-packages (from pandas>=0.23->pandas_datareader) (1.26.4)\n",
            "Requirement already satisfied: python-dateutil>=2.8.2 in /usr/local/lib/python3.11/dist-packages (from pandas>=0.23->pandas_datareader) (2.8.2)\n",
            "Requirement already satisfied: pytz>=2020.1 in /usr/local/lib/python3.11/dist-packages (from pandas>=0.23->pandas_datareader) (2025.1)\n",
            "Requirement already satisfied: tzdata>=2022.7 in /usr/local/lib/python3.11/dist-packages (from pandas>=0.23->pandas_datareader) (2025.1)\n",
            "Requirement already satisfied: charset-normalizer<4,>=2 in /usr/local/lib/python3.11/dist-packages (from requests>=2.19.0->pandas_datareader) (3.4.1)\n",
            "Requirement already satisfied: idna<4,>=2.5 in /usr/local/lib/python3.11/dist-packages (from requests>=2.19.0->pandas_datareader) (3.10)\n",
            "Requirement already satisfied: urllib3<3,>=1.21.1 in /usr/local/lib/python3.11/dist-packages (from requests>=2.19.0->pandas_datareader) (2.3.0)\n",
            "Requirement already satisfied: certifi>=2017.4.17 in /usr/local/lib/python3.11/dist-packages (from requests>=2.19.0->pandas_datareader) (2025.1.31)\n",
            "Requirement already satisfied: six>=1.5 in /usr/local/lib/python3.11/dist-packages (from python-dateutil>=2.8.2->pandas>=0.23->pandas_datareader) (1.17.0)\n"
          ]
        }
      ],
      "source": [
        "pip install pandas_datareader"
      ]
    },
    {
      "cell_type": "code",
      "execution_count": 5,
      "metadata": {
        "colab": {
          "base_uri": "https://localhost:8080/"
        },
        "id": "-CbER66jBzl4",
        "outputId": "1ad3129f-7222-4899-8b31-48d0a5a1218b"
      },
      "outputs": [
        {
          "name": "stdout",
          "output_type": "stream",
          "text": [
            "Collecting PyPortfolioOpt\n",
            "  Downloading pyportfolioopt-1.5.6-py3-none-any.whl.metadata (22 kB)\n",
            "Requirement already satisfied: cvxpy>=1.1.19 in /usr/local/lib/python3.11/dist-packages (from PyPortfolioOpt) (1.6.2)\n",
            "Collecting ecos<3.0.0,>=2.0.14 (from PyPortfolioOpt)\n",
            "  Downloading ecos-2.0.14-cp311-cp311-manylinux_2_17_x86_64.manylinux2014_x86_64.whl.metadata (8.0 kB)\n",
            "Requirement already satisfied: numpy>=1.26.0 in /usr/local/lib/python3.11/dist-packages (from PyPortfolioOpt) (1.26.4)\n",
            "Requirement already satisfied: pandas>=0.19 in /usr/local/lib/python3.11/dist-packages (from PyPortfolioOpt) (2.2.2)\n",
            "Requirement already satisfied: plotly<6.0.0,>=5.0.0 in /usr/local/lib/python3.11/dist-packages (from PyPortfolioOpt) (5.24.1)\n",
            "Requirement already satisfied: scipy>=1.3 in /usr/local/lib/python3.11/dist-packages (from PyPortfolioOpt) (1.13.1)\n",
            "Requirement already satisfied: osqp>=0.6.2 in /usr/local/lib/python3.11/dist-packages (from cvxpy>=1.1.19->PyPortfolioOpt) (0.6.7.post3)\n",
            "Requirement already satisfied: clarabel>=0.5.0 in /usr/local/lib/python3.11/dist-packages (from cvxpy>=1.1.19->PyPortfolioOpt) (0.10.0)\n",
            "Requirement already satisfied: scs>=3.2.4.post1 in /usr/local/lib/python3.11/dist-packages (from cvxpy>=1.1.19->PyPortfolioOpt) (3.2.7.post2)\n",
            "Requirement already satisfied: python-dateutil>=2.8.2 in /usr/local/lib/python3.11/dist-packages (from pandas>=0.19->PyPortfolioOpt) (2.8.2)\n",
            "Requirement already satisfied: pytz>=2020.1 in /usr/local/lib/python3.11/dist-packages (from pandas>=0.19->PyPortfolioOpt) (2025.1)\n",
            "Requirement already satisfied: tzdata>=2022.7 in /usr/local/lib/python3.11/dist-packages (from pandas>=0.19->PyPortfolioOpt) (2025.1)\n",
            "Requirement already satisfied: tenacity>=6.2.0 in /usr/local/lib/python3.11/dist-packages (from plotly<6.0.0,>=5.0.0->PyPortfolioOpt) (9.0.0)\n",
            "Requirement already satisfied: packaging in /usr/local/lib/python3.11/dist-packages (from plotly<6.0.0,>=5.0.0->PyPortfolioOpt) (24.2)\n",
            "Requirement already satisfied: qdldl in /usr/local/lib/python3.11/dist-packages (from osqp>=0.6.2->cvxpy>=1.1.19->PyPortfolioOpt) (0.1.7.post5)\n",
            "Requirement already satisfied: six>=1.5 in /usr/local/lib/python3.11/dist-packages (from python-dateutil>=2.8.2->pandas>=0.19->PyPortfolioOpt) (1.17.0)\n",
            "Downloading pyportfolioopt-1.5.6-py3-none-any.whl (62 kB)\n",
            "\u001b[2K   \u001b[90m━━━━━━━━━━━━━━━━━━━━━━━━━━━━━━━━━━━━━━━━\u001b[0m \u001b[32m62.7/62.7 kB\u001b[0m \u001b[31m3.7 MB/s\u001b[0m eta \u001b[36m0:00:00\u001b[0m\n",
            "\u001b[?25hDownloading ecos-2.0.14-cp311-cp311-manylinux_2_17_x86_64.manylinux2014_x86_64.whl (220 kB)\n",
            "\u001b[2K   \u001b[90m━━━━━━━━━━━━━━━━━━━━━━━━━━━━━━━━━━━━━━━━\u001b[0m \u001b[32m220.1/220.1 kB\u001b[0m \u001b[31m19.7 MB/s\u001b[0m eta \u001b[36m0:00:00\u001b[0m\n",
            "\u001b[?25hInstalling collected packages: ecos, PyPortfolioOpt\n",
            "Successfully installed PyPortfolioOpt-1.5.6 ecos-2.0.14\n"
          ]
        }
      ],
      "source": [
        "pip install PyPortfolioOpt"
      ]
    },
    {
      "cell_type": "code",
      "execution_count": 1,
      "metadata": {
        "id": "WRCiWW789IOQ"
      },
      "outputs": [],
      "source": [
        "import yfinance as yf\n",
        "import pandas as pd\n",
        "from sklearn.decomposition import PCA\n",
        "from sklearn.linear_model import LinearRegression\n",
        "import numpy as np\n",
        "import statsmodels.api as sm  # for CAPM and Fama-French regressions\n",
        "import pandas_datareader\n",
        "import matplotlib.pyplot as plt\n",
        "from arch import arch_model\n",
        "import itertools\n",
        "from pypfopt import EfficientFrontier, risk_models, expected_returns, EfficientCVaR, black_litterman\n",
        "from pypfopt.black_litterman import BlackLittermanModel\n",
        "import cvxpy as cp"
      ]
    },
    {
      "cell_type": "code",
      "execution_count": 2,
      "metadata": {
        "id": "bX385UKN9IOQ"
      },
      "outputs": [],
      "source": [
        "def garch_aic_sel(returns):\n",
        "    # Define grids for model parameters\n",
        "    mean_models = ['Constant', 'AR']\n",
        "    vol_models = ['GARCH', 'EGARCH']\n",
        "    dists = ['normal', 't']\n",
        "\n",
        "    results = []\n",
        "\n",
        "    for mean in mean_models:\n",
        "        for vol in vol_models:\n",
        "            for dist in dists:\n",
        "                lags = 1 if mean == 'AR' else 0\n",
        "\n",
        "                # -----------------------------\n",
        "                # Fit the full model on the dataset\n",
        "                model = arch_model(returns, mean=mean, lags=lags, vol=vol, p=1, q=1, dist=dist)\n",
        "                res = model.fit(disp='off')\n",
        "\n",
        "                # -----------------------------\n",
        "                # Get the AIC from the model\n",
        "                aic = res.aic\n",
        "                results.append({'mean': mean, 'vol': vol, 'dist': dist, 'aic': aic})\n",
        "\n",
        "    # Find the best model based on AIC\n",
        "    results_df = pd.DataFrame(results)\n",
        "    best_model = results_df.loc[results_df['aic'].idxmin()]\n",
        "    return best_model['mean'], best_model['vol'], best_model['dist']"
      ]
    },
    {
      "cell_type": "code",
      "execution_count": null,
      "metadata": {
        "colab": {
          "base_uri": "https://localhost:8080/"
        },
        "id": "ZIiDFpoG9IOR",
        "outputId": "51607f78-e772-41b1-ca92-625dbc46a1a1"
      },
      "outputs": [
        {
          "name": "stdout",
          "output_type": "stream",
          "text": [
            "Forecast for Mkt-RF (next period): Mean = 0.01016400289991215, Variance = 0.0016505269945385483\n",
            "Forecast for SMB (next period): Mean = 0.0006864029404214378, Variance = 0.0011731800077627638\n"
          ]
        },
        {
          "name": "stderr",
          "output_type": "stream",
          "text": [
            "[*********************100%***********************]  8 of 8 completed\n",
            "[**********************50%                       ]  4 of 8 completed"
          ]
        },
        {
          "name": "stdout",
          "output_type": "stream",
          "text": [
            "Forecast for HML (next period): Mean = 0.0023962797673686698, Variance = 0.0008347280333907814\n"
          ]
        },
        {
          "name": "stderr",
          "output_type": "stream",
          "text": [
            "[*********************100%***********************]  8 of 8 completed\n"
          ]
        },
        {
          "name": "stdout",
          "output_type": "stream",
          "text": [
            "\n",
            "Regression results for AAPL:\n",
            "                             OLS Regression Results                            \n",
            "==============================================================================\n",
            "Dep. Variable:                 excess   R-squared:                       0.458\n",
            "Model:                            OLS   Adj. R-squared:                  0.448\n",
            "Method:                 Least Squares   F-statistic:                     45.98\n",
            "Date:                Fri, 07 Mar 2025   Prob (F-statistic):           1.38e-21\n",
            "Time:                        15:19:58   Log-Likelihood:                 239.99\n",
            "No. Observations:                 167   AIC:                            -472.0\n",
            "Df Residuals:                     163   BIC:                            -459.5\n",
            "Df Model:                           3                                         \n",
            "Covariance Type:            nonrobust                                         \n",
            "==============================================================================\n",
            "                 coef    std err          t      P>|t|      [0.025      0.975]\n",
            "------------------------------------------------------------------------------\n",
            "const          0.0099      0.005      2.124      0.035       0.001       0.019\n",
            "Mkt-RF         1.2050      0.109     11.104      0.000       0.991       1.419\n",
            "SMB           -0.3679      0.190     -1.934      0.055      -0.743       0.008\n",
            "HML           -0.5649      0.137     -4.123      0.000      -0.835      -0.294\n",
            "==============================================================================\n",
            "Omnibus:                       13.134   Durbin-Watson:                   1.869\n",
            "Prob(Omnibus):                  0.001   Jarque-Bera (JB):               22.242\n",
            "Skew:                          -0.393   Prob(JB):                     1.48e-05\n",
            "Kurtosis:                       4.606   Cond. No.                         43.3\n",
            "==============================================================================\n",
            "\n",
            "Notes:\n",
            "[1] Standard Errors assume that the covariance matrix of the errors is correctly specified.\n",
            "\n",
            "Regression results for MSFT:\n",
            "                             OLS Regression Results                            \n",
            "==============================================================================\n",
            "Dep. Variable:                 excess   R-squared:                       0.518\n",
            "Model:                            OLS   Adj. R-squared:                  0.509\n",
            "Method:                 Least Squares   F-statistic:                     58.46\n",
            "Date:                Fri, 07 Mar 2025   Prob (F-statistic):           1.04e-25\n",
            "Time:                        15:19:58   Log-Likelihood:                 287.32\n",
            "No. Observations:                 167   AIC:                            -566.6\n",
            "Df Residuals:                     163   BIC:                            -554.2\n",
            "Df Model:                           3                                         \n",
            "Covariance Type:            nonrobust                                         \n",
            "==============================================================================\n",
            "                 coef    std err          t      P>|t|      [0.025      0.975]\n",
            "------------------------------------------------------------------------------\n",
            "const          0.0067      0.004      1.911      0.058      -0.000       0.014\n",
            "Mkt-RF         1.0634      0.082     13.010      0.000       0.902       1.225\n",
            "SMB           -0.7076      0.143     -4.940      0.000      -0.990      -0.425\n",
            "HML           -0.3314      0.103     -3.212      0.002      -0.535      -0.128\n",
            "==============================================================================\n",
            "Omnibus:                        7.912   Durbin-Watson:                   2.278\n",
            "Prob(Omnibus):                  0.019   Jarque-Bera (JB):               13.264\n",
            "Skew:                           0.167   Prob(JB):                      0.00132\n",
            "Kurtosis:                       4.340   Cond. No.                         43.3\n",
            "==============================================================================\n",
            "\n",
            "Notes:\n",
            "[1] Standard Errors assume that the covariance matrix of the errors is correctly specified.\n",
            "\n",
            "Regression results for GOOG:\n",
            "                             OLS Regression Results                            \n",
            "==============================================================================\n",
            "Dep. Variable:                 excess   R-squared:                       0.454\n",
            "Model:                            OLS   Adj. R-squared:                  0.444\n",
            "Method:                 Least Squares   F-statistic:                     45.10\n",
            "Date:                Fri, 07 Mar 2025   Prob (F-statistic):           2.82e-21\n",
            "Time:                        15:19:58   Log-Likelihood:                 255.00\n",
            "No. Observations:                 167   AIC:                            -502.0\n",
            "Df Residuals:                     163   BIC:                            -489.5\n",
            "Df Model:                           3                                         \n",
            "Covariance Type:            nonrobust                                         \n",
            "==============================================================================\n",
            "                 coef    std err          t      P>|t|      [0.025      0.975]\n",
            "------------------------------------------------------------------------------\n",
            "const          0.0035      0.004      0.817      0.415      -0.005       0.012\n",
            "Mkt-RF         1.1337      0.099     11.430      0.000       0.938       1.330\n",
            "SMB           -0.4876      0.174     -2.805      0.006      -0.831      -0.144\n",
            "HML           -0.3293      0.125     -2.630      0.009      -0.577      -0.082\n",
            "==============================================================================\n",
            "Omnibus:                       16.727   Durbin-Watson:                   2.249\n",
            "Prob(Omnibus):                  0.000   Jarque-Bera (JB):               24.427\n",
            "Skew:                           0.574   Prob(JB):                     4.96e-06\n",
            "Kurtosis:                       4.481   Cond. No.                         43.3\n",
            "==============================================================================\n",
            "\n",
            "Notes:\n",
            "[1] Standard Errors assume that the covariance matrix of the errors is correctly specified.\n",
            "\n",
            "Regression results for BRK-B:\n",
            "                             OLS Regression Results                            \n",
            "==============================================================================\n",
            "Dep. Variable:                 excess   R-squared:                       0.561\n",
            "Model:                            OLS   Adj. R-squared:                  0.553\n",
            "Method:                 Least Squares   F-statistic:                     69.34\n",
            "Date:                Fri, 07 Mar 2025   Prob (F-statistic):           5.96e-29\n",
            "Time:                        15:19:58   Log-Likelihood:                 341.10\n",
            "No. Observations:                 167   AIC:                            -674.2\n",
            "Df Residuals:                     163   BIC:                            -661.7\n",
            "Df Model:                           3                                         \n",
            "Covariance Type:            nonrobust                                         \n",
            "==============================================================================\n",
            "                 coef    std err          t      P>|t|      [0.025      0.975]\n",
            "------------------------------------------------------------------------------\n",
            "const          0.0013      0.003      0.520      0.604      -0.004       0.006\n",
            "Mkt-RF         0.8027      0.059     13.553      0.000       0.686       0.920\n",
            "SMB           -0.5673      0.104     -5.465      0.000      -0.772      -0.362\n",
            "HML            0.3002      0.075      4.014      0.000       0.153       0.448\n",
            "==============================================================================\n",
            "Omnibus:                       46.804   Durbin-Watson:                   2.191\n",
            "Prob(Omnibus):                  0.000   Jarque-Bera (JB):              188.058\n",
            "Skew:                           0.980   Prob(JB):                     1.46e-41\n",
            "Kurtosis:                       7.815   Cond. No.                         43.3\n",
            "==============================================================================\n",
            "\n",
            "Notes:\n",
            "[1] Standard Errors assume that the covariance matrix of the errors is correctly specified.\n",
            "\n",
            "Regression results for JPM:\n",
            "                             OLS Regression Results                            \n",
            "==============================================================================\n",
            "Dep. Variable:                 excess   R-squared:                       0.698\n",
            "Model:                            OLS   Adj. R-squared:                  0.693\n",
            "Method:                 Least Squares   F-statistic:                     125.7\n",
            "Date:                Fri, 07 Mar 2025   Prob (F-statistic):           3.41e-42\n",
            "Time:                        15:19:58   Log-Likelihood:                 298.67\n",
            "No. Observations:                 167   AIC:                            -589.3\n",
            "Df Residuals:                     163   BIC:                            -576.9\n",
            "Df Model:                           3                                         \n",
            "Covariance Type:            nonrobust                                         \n",
            "==============================================================================\n",
            "                 coef    std err          t      P>|t|      [0.025      0.975]\n",
            "------------------------------------------------------------------------------\n",
            "const          0.0017      0.003      0.528      0.598      -0.005       0.008\n",
            "Mkt-RF         1.1429      0.076     14.966      0.000       0.992       1.294\n",
            "SMB            0.0887      0.134      0.663      0.508      -0.176       0.353\n",
            "HML            0.8921      0.096      9.253      0.000       0.702       1.082\n",
            "==============================================================================\n",
            "Omnibus:                        7.961   Durbin-Watson:                   2.036\n",
            "Prob(Omnibus):                  0.019   Jarque-Bera (JB):                8.906\n",
            "Skew:                          -0.373   Prob(JB):                       0.0116\n",
            "Kurtosis:                       3.851   Cond. No.                         43.3\n",
            "==============================================================================\n",
            "\n",
            "Notes:\n",
            "[1] Standard Errors assume that the covariance matrix of the errors is correctly specified.\n",
            "\n",
            "Regression results for JNJ:\n",
            "                             OLS Regression Results                            \n",
            "==============================================================================\n",
            "Dep. Variable:                 excess   R-squared:                       0.319\n",
            "Model:                            OLS   Adj. R-squared:                  0.306\n",
            "Method:                 Least Squares   F-statistic:                     25.42\n",
            "Date:                Fri, 07 Mar 2025   Prob (F-statistic):           1.53e-13\n",
            "Time:                        15:19:58   Log-Likelihood:                 315.49\n",
            "No. Observations:                 167   AIC:                            -623.0\n",
            "Df Residuals:                     163   BIC:                            -610.5\n",
            "Df Model:                           3                                         \n",
            "Covariance Type:            nonrobust                                         \n",
            "==============================================================================\n",
            "                 coef    std err          t      P>|t|      [0.025      0.975]\n",
            "------------------------------------------------------------------------------\n",
            "const          0.0019      0.003      0.645      0.520      -0.004       0.008\n",
            "Mkt-RF         0.5918      0.069      8.571      0.000       0.455       0.728\n",
            "SMB           -0.4485      0.121     -3.706      0.000      -0.687      -0.210\n",
            "HML            0.0826      0.087      0.947      0.345      -0.090       0.255\n",
            "==============================================================================\n",
            "Omnibus:                        1.113   Durbin-Watson:                   2.042\n",
            "Prob(Omnibus):                  0.573   Jarque-Bera (JB):                1.185\n",
            "Skew:                           0.132   Prob(JB):                        0.553\n",
            "Kurtosis:                       2.682   Cond. No.                         43.3\n",
            "==============================================================================\n",
            "\n",
            "Notes:\n",
            "[1] Standard Errors assume that the covariance matrix of the errors is correctly specified.\n",
            "\n",
            "Regression results for V:\n",
            "                             OLS Regression Results                            \n",
            "==============================================================================\n",
            "Dep. Variable:                 excess   R-squared:                       0.490\n",
            "Model:                            OLS   Adj. R-squared:                  0.481\n",
            "Method:                 Least Squares   F-statistic:                     52.25\n",
            "Date:                Fri, 07 Mar 2025   Prob (F-statistic):           1.02e-23\n",
            "Time:                        15:19:58   Log-Likelihood:                 295.68\n",
            "No. Observations:                 167   AIC:                            -583.4\n",
            "Df Residuals:                     163   BIC:                            -570.9\n",
            "Df Model:                           3                                         \n",
            "Covariance Type:            nonrobust                                         \n",
            "==============================================================================\n",
            "                 coef    std err          t      P>|t|      [0.025      0.975]\n",
            "------------------------------------------------------------------------------\n",
            "const          0.0063      0.003      1.884      0.061      -0.000       0.013\n",
            "Mkt-RF         0.9714      0.078     12.495      0.000       0.818       1.125\n",
            "SMB           -0.4929      0.136     -3.617      0.000      -0.762      -0.224\n",
            "HML           -0.1199      0.098     -1.221      0.224      -0.314       0.074\n",
            "==============================================================================\n",
            "Omnibus:                        9.715   Durbin-Watson:                   2.082\n",
            "Prob(Omnibus):                  0.008   Jarque-Bera (JB):               12.720\n",
            "Skew:                          -0.375   Prob(JB):                      0.00173\n",
            "Kurtosis:                       4.125   Cond. No.                         43.3\n",
            "==============================================================================\n",
            "\n",
            "Notes:\n",
            "[1] Standard Errors assume that the covariance matrix of the errors is correctly specified.\n",
            "\n",
            "Regression results for PG:\n",
            "                             OLS Regression Results                            \n",
            "==============================================================================\n",
            "Dep. Variable:                 excess   R-squared:                       0.267\n",
            "Model:                            OLS   Adj. R-squared:                  0.253\n",
            "Method:                 Least Squares   F-statistic:                     19.75\n",
            "Date:                Fri, 07 Mar 2025   Prob (F-statistic):           5.71e-11\n",
            "Time:                        15:19:58   Log-Likelihood:                 314.24\n",
            "No. Observations:                 167   AIC:                            -620.5\n",
            "Df Residuals:                     163   BIC:                            -608.0\n",
            "Df Model:                           3                                         \n",
            "Covariance Type:            nonrobust                                         \n",
            "==============================================================================\n",
            "                 coef    std err          t      P>|t|      [0.025      0.975]\n",
            "------------------------------------------------------------------------------\n",
            "const          0.0028      0.003      0.950      0.344      -0.003       0.009\n",
            "Mkt-RF         0.4748      0.070      6.825      0.000       0.337       0.612\n",
            "SMB           -0.6809      0.122     -5.585      0.000      -0.922      -0.440\n",
            "HML            0.0563      0.088      0.641      0.522      -0.117       0.230\n",
            "==============================================================================\n",
            "Omnibus:                        2.041   Durbin-Watson:                   2.222\n",
            "Prob(Omnibus):                  0.360   Jarque-Bera (JB):                1.811\n",
            "Skew:                          -0.254   Prob(JB):                        0.404\n",
            "Kurtosis:                       3.046   Cond. No.                         43.3\n",
            "==============================================================================\n",
            "\n",
            "Notes:\n",
            "[1] Standard Errors assume that the covariance matrix of the errors is correctly specified.\n",
            "\n",
            "Forecasted r_AAPL, t+1: 0.020533496534697503\n",
            "\n",
            "Forecasted r_MSFT, t+1: 0.016231247555274334\n",
            "\n",
            "Forecasted r_GOOG, t+1: 0.013877240626237691\n",
            "\n",
            "Forecasted r_BRK-B, t+1: 0.009811208922755861\n",
            "\n",
            "Forecasted r_JPM, t+1: 0.01554624932825033\n",
            "\n",
            "Forecasted r_JNJ, t+1: 0.007815764476884734\n",
            "\n",
            "Forecasted r_V, t+1: 0.015536525500187325\n",
            "\n",
            "Forecasted r_PG, t+1: 0.007329553824396707\n",
            "Total forecast error variance for AAPL: 0.006208746508871706\n",
            "Total forecast error variance for MSFT: 0.004466867540924822\n",
            "Total forecast error variance for GOOG: 0.005320599884917116\n",
            "Total forecast error variance for BRK-B: 0.0025254177760613656\n",
            "Total forecast error variance for JPM: 0.00450657229451424\n",
            "Total forecast error variance for JNJ: 0.0021911328873259897\n",
            "Total forecast error variance for V: 0.0035930786345408994\n",
            "Total forecast error variance for PG: 0.002310692608700723\n"
          ]
        }
      ],
      "source": [
        "#Combined Code\n",
        "\n",
        "# ----------------------------\n",
        "# 1. Load Fama–French Factor Data\n",
        "# ----------------------------\n",
        "ff = pd.read_csv('F-F_Research_Data_Factors.CSV', skiprows=4, header=0, names=['Date','Mkt-RF','SMB','HML','RF']) # Added names and header, skiprows to 4\n",
        "# Date is in yyyymmdd format, convert it:\n",
        "ff['Date'] = pd.to_datetime(ff['Date'], format='%Y%m')\n",
        "ff = ff.set_index('Date')\n",
        "# Convert factor returns from percentages to decimals\n",
        "ff = ff.astype(float) / 100\n",
        "\n",
        "# ----------------------------\n",
        "# 2. Forecast Factors using optimal GARCH(1,1) on 100x Scaled Data\n",
        "# ----------------------------\n",
        "forecast_results = {}\n",
        "factors = ['Mkt-RF', 'SMB', 'HML']\n",
        "\n",
        "for factor in factors:\n",
        "    series_ = ff[factor].dropna()\n",
        "    # convert to log-returns\n",
        "    series = np.log(1 + series_)\n",
        "    # Scale the series by 100 to stabilize the GARCH estimation\n",
        "    mean, vol, dist = garch_aic_sel(100 * series)\n",
        "    am = arch_model(100 * series, mean=mean, vol=vol, p=1, q=1, dist=dist)\n",
        "    res = am.fit(disp='off')\n",
        "\n",
        "    # Forecast one period ahead (next month)\n",
        "    forecast = res.forecast(horizon=1, reindex=False)\n",
        "\n",
        "    # The forecasted mean is on a 100x scale and variance on a 100^2 scale.\n",
        "    next_step_mean_ = forecast.mean.iloc[-1, 0]/100\n",
        "    next_step_variance_ = forecast.variance.iloc[-1, 0]/100**2\n",
        "\n",
        "    # convert the forecasted mean and variance to the mean and variance of the simple returns, using the log-normal transformation\n",
        "    next_step_mean = np.exp(next_step_mean_ + next_step_variance_ / 2) - 1\n",
        "    next_step_variance = (np.exp(next_step_variance_ ) - 1) * (np.exp(2 * next_step_mean_  + next_step_variance_ ))\n",
        "\n",
        "    forecast_results[factor] = {'next_step_mean': next_step_mean,\n",
        "                                'next_step_variance': next_step_variance}\n",
        "    print(f\"Forecast for {factor} (next period): Mean = {next_step_mean}, Variance = {next_step_variance}\")\n",
        "\n",
        "# ----------------------------\n",
        "# 3. Download Stock Data and Run Regressions\n",
        "# ----------------------------\n",
        "start_date = '2009-12-31'\n",
        "end_date = '2023-12-31'\n",
        "tickers = [\"AAPL\", \"MSFT\", \"GOOG\", \"BRK-B\", \"JPM\", \"JNJ\", \"V\", \"PG\"]\n",
        "prices = yf.download(tickers, start=start_date, end=end_date, interval='1mo', auto_adjust=True)['Close']\n",
        "prices_test = yf.download(tickers, start=end_date, end='2024-12-31', interval='1mo', auto_adjust=True)['Close']\n",
        "\n",
        "returns = prices.pct_change().dropna()\n",
        "\n",
        "# Align dates of stock returns and factor data\n",
        "common_dates = returns.index.intersection(ff.index)\n",
        "\n",
        "# Check if common_dates is empty and handle accordingly\n",
        "if len(common_dates) == 0:\n",
        "    print(\"Error: No common dates found between stock returns and Fama-French data.\")\n",
        "    # Further investigation and data adjustment are needed\n",
        "else:\n",
        "    returns = returns.loc[common_dates]\n",
        "    ff = ff.loc[common_dates]\n",
        "\n",
        "\n",
        "# Run OLS regressions to estimate factor loadings and obtain residual variances.\n",
        "results = {}   # to store regression outputs\n",
        "coeffs = {}    # to store estimated coefficients for each ticker\n",
        "\n",
        "for ticker in tickers:\n",
        "    df = pd.DataFrame({'r': returns[ticker]})\n",
        "    df = df.join(ff[['Mkt-RF', 'SMB', 'HML', 'RF']])\n",
        "    # Compute excess returns: r - RF\n",
        "    df['excess'] = df['r'] - df['RF']\n",
        "\n",
        "    # Independent variables are the three factors (with constant)\n",
        "    X = df[['Mkt-RF', 'SMB', 'HML']]\n",
        "    X = sm.add_constant(X)\n",
        "    y = df['excess']\n",
        "\n",
        "    model = sm.OLS(y, X).fit()\n",
        "    results[ticker] = model\n",
        "    coeffs[ticker] = {\n",
        "         'alpha': model.params['const'],\n",
        "         'Mkt-RF': model.params['Mkt-RF'],\n",
        "         'SMB': model.params['SMB'],\n",
        "         'HML': model.params['HML']\n",
        "    }\n",
        "\n",
        "    print(f\"\\nRegression results for {ticker}:\\n\", model.summary())\n",
        "\n",
        "# ----------------------------\n",
        "# 4. Forecast Next Step Expected Returns (r_{i,t+1})\n",
        "# ----------------------------\n",
        "forecast_r = {}\n",
        "for ticker in tickers:\n",
        "    alpha = coeffs[ticker]['alpha']\n",
        "    r_forecast = alpha\n",
        "    for factor in factors:\n",
        "        beta = coeffs[ticker][factor]\n",
        "        factor_mean = forecast_results[factor]['next_step_mean']\n",
        "        r_forecast += beta * factor_mean\n",
        "    forecast_r[ticker] = r_forecast\n",
        "    print(f\"\\nForecasted r_{ticker}, t+1: {r_forecast}\")\n",
        "\n",
        "# ----------------------------\n",
        "# 5. Calculate Total Forecast Error Variance for r_{i,t+1}\n",
        "# ----------------------------\n",
        "# Total variance = sum_j (beta_{ij}^2 * (sigma_{j, forecast}^2 / 100^2)) + sigma^2_reg,\n",
        "# where sigma^2_reg is the mean squared error (residual variance) from the regression.\n",
        "forecast_error = {}\n",
        "for ticker in tickers:\n",
        "    beta_squared_sum = 0\n",
        "    for factor in factors:\n",
        "        beta = coeffs[ticker][factor]\n",
        "        factor_variance = forecast_results[factor]['next_step_variance']\n",
        "        beta_squared_sum += (beta**2) * factor_variance\n",
        "\n",
        "    sigma2_reg = results[ticker].mse_resid  # regression residual variance\n",
        "    total_variance = beta_squared_sum + sigma2_reg\n",
        "    forecast_error[ticker] = total_variance\n",
        "    print(f\"Total forecast error variance for {ticker}: {total_variance}\")\n"
      ]
    },
    {
      "cell_type": "code",
      "execution_count": 74,
      "metadata": {
        "colab": {
          "base_uri": "https://localhost:8080/",
          "height": 452
        },
        "id": "A4B-uM0q9IOR",
        "outputId": "6717a434-e4f1-4abe-cd68-937f1d7af853"
      },
      "outputs": [],
      "source": [
        "annualizer = 12\n",
        "\n",
        "annualized_return = {ticker: forecast_r[ticker] * annualizer for ticker in tickers}\n",
        "annualized_error = {ticker: np.sqrt(forecast_error[ticker]) * np.sqrt(annualizer) for ticker in tickers}\n"
      ]
    },
    {
      "cell_type": "code",
      "execution_count": null,
      "metadata": {
        "colab": {
          "base_uri": "https://localhost:8080/"
        },
        "id": "7jUuSld79IOR",
        "outputId": "b0af506e-d8a4-4c86-c08d-dc33c1332491"
      },
      "outputs": [
        {
          "name": "stdout",
          "output_type": "stream",
          "text": [
            "Expected annual return: 23.3%\n",
            "Annual volatility: 15.7%\n",
            "Sharpe Ratio: 1.48\n"
          ]
        },
        {
          "data": {
            "text/plain": [
              "(np.float64(0.23290714174936286),\n",
              " np.float64(0.15709977172401282),\n",
              " np.float64(1.4825428400909817))"
            ]
          },
          "execution_count": 87,
          "metadata": {},
          "output_type": "execute_result"
        }
      ],
      "source": [
        "from pypfopt import EfficientFrontier, risk_models\n",
        "\n",
        "def mvar_lognormal_transform(mu, sigma, horizon=1):\n",
        "    \"\"\"\n",
        "    Transform the mean mu and covariance sigma of single-period log-returns to the mean and covariance of multi-period simple returns.\n",
        "    horizon sets the number of periods over which the multi-period returns are calculated.\n",
        "    \"\"\"\n",
        "\n",
        "    # apply the square-root law to the moments of the log-returns\n",
        "    mu *= horizon\n",
        "    sigma *= horizon\n",
        "\n",
        "    # calculate the mean and covariance of the log-normal distributed simple returns at the horizon\n",
        "    mu_ln = np.exp(mu + np.diagonal(sigma) / 2)\n",
        "\n",
        "    outerprod = np.outer(mu_ln, mu_ln)\n",
        "\n",
        "    sigma_ln = outerprod * (np.exp(sigma) - 1)\n",
        "    return mu_ln - 1, sigma_ln\n",
        "\n",
        "\n",
        "\n",
        "# calculate the optimal max sharpe portfolio using the forecasted mean return as expected returns and the empirical covariance for risk\n",
        "# make sure you use log-returns to use their time additivity and then convert to simple returns for their cross-sectional additivity\n",
        "mu_ = np.log(1 + pd.Series(forecast_r))\n",
        "S_ = risk_models.sample_cov(prices, frequency=1, log_returns=True)\n",
        "\n",
        "mu, S_train = mvar_lognormal_transform(mu_, S_, horizon=12)\n",
        "\n",
        "ef = EfficientFrontier(mu, S)\n",
        "weights = ef.max_sharpe()\n",
        "ef.portfolio_performance(verbose=True)"
      ]
    },
    {
      "cell_type": "code",
      "execution_count": 76,
      "metadata": {
        "colab": {
          "base_uri": "https://localhost:8080/",
          "height": 476
        },
        "id": "GqcxLurD9IOR",
        "outputId": "93f91fc8-f6b2-478e-fb24-1e813a6b8865"
      },
      "outputs": [
        {
          "data": {
            "text/plain": [
              "<Axes: >"
            ]
          },
          "execution_count": 76,
          "metadata": {},
          "output_type": "execute_result"
        },
        {
          "data": {
            "image/png": "[encoded data removed]",
            "text/plain": [
              "<Figure size 640x480 with 1 Axes>"
            ]
          },
          "metadata": {},
          "output_type": "display_data"
        }
      ],
      "source": [
        "# plot the weights of the optimal portfolio\n",
        "weights = pd.Series(weights)\n",
        "weights.plot(kind='bar')\n"
      ]
    },
    {
      "cell_type": "code",
      "execution_count": 77,
      "metadata": {
        "colab": {
          "base_uri": "https://localhost:8080/",
          "height": 331
        },
        "id": "fpl025dM9IOR",
        "outputId": "b64cf841-de22-449a-dc30-5b367d52effd"
      },
      "outputs": [
        {
          "data": {
            "text/plain": [
              "AAPL     11.027180\n",
              "MSFT     33.551104\n",
              "GOOG      5.635993\n",
              "BRK-B     0.000000\n",
              "JPM       1.547060\n",
              "JNJ       0.000000\n",
              "V        48.238664\n",
              "PG        0.000000\n",
              "dtype: float64"
            ]
          },
          "execution_count": 77,
          "metadata": {},
          "output_type": "execute_result"
        }
      ],
      "source": [
        "weights*100"
      ]
    },
    {
      "cell_type": "code",
      "execution_count": 78,
      "metadata": {
        "colab": {
          "base_uri": "https://localhost:8080/"
        },
        "id": "QIvvRua-ihv3",
        "outputId": "3d275119-88e5-4f95-dc14-5b623f60247c"
      },
      "outputs": [
        {
          "data": {
            "text/plain": [
              "{'AAPL': np.float64(0.24640195841637003),\n",
              " 'MSFT': np.float64(0.19477497066329202),\n",
              " 'GOOG': np.float64(0.16652688751485228),\n",
              " 'BRK-B': np.float64(0.11773450707307034),\n",
              " 'JPM': np.float64(0.18655499193900396),\n",
              " 'JNJ': np.float64(0.0937891737226168),\n",
              " 'V': np.float64(0.1864383060022479),\n",
              " 'PG': np.float64(0.08795464589276049)}"
            ]
          },
          "execution_count": 78,
          "metadata": {},
          "output_type": "execute_result"
        }
      ],
      "source": [
        "viewdict = {t:annualized_return[t] for t in tickers}\n",
        "viewdict"
      ]
    },
    {
      "cell_type": "code",
      "execution_count": 81,
      "metadata": {
        "colab": {
          "base_uri": "https://localhost:8080/"
        },
        "id": "1dBlQTwfihv3",
        "outputId": "f833df2b-3dad-464e-b7d8-df09662cb043"
      },
      "outputs": [
        {
          "data": {
            "text/plain": [
              "array([[0.27295596, 0.        , 0.        , 0.        , 0.        ,\n",
              "        0.        , 0.        , 0.        ],\n",
              "       [0.        , 0.23152194, 0.        , 0.        , 0.        ,\n",
              "        0.        , 0.        , 0.        ],\n",
              "       [0.        , 0.        , 0.25268003, 0.        , 0.        ,\n",
              "        0.        , 0.        , 0.        ],\n",
              "       [0.        , 0.        , 0.        , 0.17408335, 0.        ,\n",
              "        0.        , 0.        , 0.        ],\n",
              "       [0.        , 0.        , 0.        , 0.        , 0.23254863,\n",
              "        0.        , 0.        , 0.        ],\n",
              "       [0.        , 0.        , 0.        , 0.        , 0.        ,\n",
              "        0.162153  , 0.        , 0.        ],\n",
              "       [0.        , 0.        , 0.        , 0.        , 0.        ,\n",
              "        0.        , 0.2076462 , 0.        ],\n",
              "       [0.        , 0.        , 0.        , 0.        , 0.        ,\n",
              "        0.        , 0.        , 0.1665182 ]])"
            ]
          },
          "execution_count": 81,
          "metadata": {},
          "output_type": "execute_result"
        }
      ],
      "source": [
        "view_omega = np.diag([annualized_error[t] for t in tickers])\n",
        "view_omega"
      ]
    },
    {
      "cell_type": "code",
      "execution_count": 83,
      "metadata": {
        "colab": {
          "base_uri": "https://localhost:8080/"
        },
        "id": "RRa2IDzqNHgp",
        "outputId": "dee71f78-bb72-40a3-d598-8818dad32a19"
      },
      "outputs": [
        {
          "name": "stderr",
          "output_type": "stream",
          "text": [
            "[*********************100%***********************]  1 of 1 completed"
          ]
        },
        {
          "name": "stderr",
          "output_type": "stream",
          "text": [
            "\n"
          ]
        },
        {
          "name": "stdout",
          "output_type": "stream",
          "text": [
            "Market-implied prior:\n",
            "Ticker\n",
            "AAPL     0.376104\n",
            "BRK-B    0.133755\n",
            "GOOG     0.267575\n",
            "JNJ      0.090165\n",
            "JPM      0.218381\n",
            "MSFT     0.234568\n",
            "PG       0.081098\n",
            "V        0.172284\n",
            "dtype: float64\n",
            "B-L expected returns:\n",
            "Ticker\n",
            "AAPL     0.371737\n",
            "BRK-B    0.132390\n",
            "GOOG     0.264272\n",
            "JNJ      0.089385\n",
            "JPM      0.215901\n",
            "MSFT     0.232127\n",
            "PG       0.080415\n",
            "V        0.170607\n",
            "dtype: float64\n"
          ]
        }
      ],
      "source": [
        "sp500 = yf.download(\"^GSPC\", start=\"2009-12-31\", end=\"2024-12-31\", interval='1mo', auto_adjust=True)['Close']\n",
        "sp500_returns = sp500.pct_change().dropna()\n",
        "\n",
        "delta = black_litterman.market_implied_risk_aversion(sp500, frequency=annualizer, risk_free_rate=0.05/annualizer)\n",
        "mcaps = {ticker:yf.Ticker(ticker).info['marketCap'] for ticker in tickers}\n",
        "\n",
        "prior = black_litterman.market_implied_prior_returns(mcaps, delta, S_train)\n",
        "print(\"Market-implied prior:\")\n",
        "print(prior)\n",
        "\n",
        "bl = BlackLittermanModel(S_train, pi = prior, absolute_views=viewdict, omega=view_omega)\n",
        "mu_train = bl.bl_returns()\n",
        "print(\"B-L expected returns:\")\n",
        "print(mu_train)"
      ]
    },
    {
      "cell_type": "code",
      "execution_count": 84,
      "metadata": {
        "colab": {
          "base_uri": "https://localhost:8080/",
          "height": 611
        },
        "id": "YWJ1W8a9WhUY",
        "outputId": "6c821e01-eebc-4c76-91d4-c7d686d930a7"
      },
      "outputs": [
        {
          "name": "stdout",
          "output_type": "stream",
          "text": [
            "Optimized Weights:\n",
            "OrderedDict({'AAPL': 0.30258, 'BRK-B': 0.09017, 'GOOG': 0.17644, 'JNJ': 0.03474, 'JPM': 0.05683, 'MSFT': 0.24624, 'PG': 0.03604, 'V': 0.05695})\n"
          ]
        },
        {
          "data": {
            "image/png": "[encoded data removed]",
            "text/plain": [
              "<Figure size 800x500 with 1 Axes>"
            ]
          },
          "metadata": {},
          "output_type": "display_data"
        },
        {
          "name": "stdout",
          "output_type": "stream",
          "text": [
            "Expected annual return: 25.6%\n",
            "Annual volatility: 21.3%\n",
            "Sharpe Ratio: 1.20\n"
          ]
        }
      ],
      "source": [
        "ef_bl = EfficientFrontier(mu_train, S_train)\n",
        "weights_bl = ef_bl.max_sharpe()\n",
        "cleaned_weights_bl = ef_bl.clean_weights()\n",
        "print(\"Optimized Weights:\")\n",
        "print(cleaned_weights_bl)\n",
        "\n",
        "# Plot the portfolio weights\n",
        "weights_series = pd.Series(cleaned_weights_bl)\n",
        "weights_series.plot(kind=\"bar\", figsize=(8, 5))\n",
        "plt.title(\"Portfolio Weights from Black-Litterman Model\")\n",
        "plt.xlabel(\"Ticker\")\n",
        "plt.ylabel(\"Weight\")\n",
        "plt.tight_layout()\n",
        "plt.show()\n",
        "\n",
        "# Optionally, display the portfolio performance metrics\n",
        "performance = ef_bl.portfolio_performance(verbose=True)"
      ]
    },
    {
      "cell_type": "code",
      "execution_count": 85,
      "metadata": {},
      "outputs": [
        {
          "name": "stdout",
          "output_type": "stream",
          "text": [
            "Optimized Weights:\n",
            "OrderedDict({'AAPL': 0.30377, 'BRK-B': 0.09006, 'GOOG': 0.17818, 'JNJ': 0.03418, 'JPM': 0.0574, 'MSFT': 0.24535, 'PG': 0.0353, 'V': 0.05575})\n"
          ]
        },
        {
          "data": {
            "image/png": "[encoded data removed]",
            "text/plain": [
              "<Figure size 800x500 with 1 Axes>"
            ]
          },
          "metadata": {},
          "output_type": "display_data"
        },
        {
          "name": "stdout",
          "output_type": "stream",
          "text": [
            "Expected annual return: 26.0%\n",
            "Annual volatility: 21.3%\n",
            "Sharpe Ratio: 1.22\n"
          ]
        }
      ],
      "source": [
        "ef_mkt =  EfficientFrontier(prior, S_train)\n",
        "weights_mkt = ef_mkt.max_sharpe()\n",
        "cleaned_weights_mkt = ef_mkt.clean_weights()\n",
        "print(\"Optimized Weights:\")\n",
        "print(cleaned_weights_mkt)\n",
        "\n",
        "# Plot the portfolio weights\n",
        "weights_series_mkt = pd.Series(cleaned_weights_mkt)\n",
        "weights_series_mkt.plot(kind=\"bar\", figsize=(8, 5))\n",
        "plt.title(\"Portfolio Weights from Market Prior\")\n",
        "plt.xlabel(\"Ticker\")\n",
        "plt.ylabel(\"Weight\")\n",
        "plt.tight_layout()\n",
        "plt.show()\n",
        "\n",
        "# Optionally, display the portfolio performance metrics\n",
        "performance_mkt = ef_mkt.portfolio_performance(verbose=True)"
      ]
    },
    {
      "cell_type": "code",
      "execution_count": null,
      "metadata": {},
      "outputs": [
        {
          "name": "stdout",
          "output_type": "stream",
          "text": [
            "Out-of-sample return for forecast-based portfolio: 0.19001423766196535\n",
            "Out-of-sample return for Black-Litterman portfolio: 0.2679996404167684\n",
            "Out-of-sample return for Market portfolio: 0.2691143094366628\n"
          ]
        }
      ],
      "source": [
        "# test all portfolios out of sample\n",
        "def compute_out_of_sample_return(weights, test_data, annualizer=252):\n",
        "    \"\"\"\n",
        "    Given a weights dictionary and test period price data, compute the realized\n",
        "    annualized portfolio return.\n",
        "    \"\"\"\n",
        "    # Convert weights dictionary to a Series (for proper alignment)\n",
        "    weights_series = pd.Series(weights)\n",
        "    # Compute daily returns for the test period.\n",
        "    test_returns = test_data.pct_change().dropna()\n",
        "    # Calculate the portfolio's daily return (aligned by tickers)\n",
        "    portfolio_daily_returns = (test_returns * weights_series).sum(axis=1)\n",
        "    # Annualize the return (assume 252 trading days)\n",
        "    realized_return = (1 + portfolio_daily_returns).prod() ** (annualizer / len(portfolio_daily_returns)) - 1\n",
        "    return realized_return\n",
        "\n",
        "\n",
        "# Compute the out-of-sample return for the forecast-based portfolio\n",
        "oos_return = compute_out_of_sample_return(weights, prices_test, annualizer)\n",
        "print(f\"Out-of-sample return for forecast-based portfolio: {oos_return}\")\n",
        "\n",
        "# Compute the out-of-sample return for the Black-Litterman portfolio\n",
        "oos_return_bl = compute_out_of_sample_return(cleaned_weights_bl, prices_test, annualizer)\n",
        "print(f\"Out-of-sample return for Black-Litterman portfolio: {oos_return_bl}\")\n",
        "\n",
        "# Compute the out-of-sample return for the Market Prior portfolio\n",
        "oos_return_mkt = compute_out_of_sample_return(cleaned_weights_mkt, prices_test, annualizer)\n",
        "print(f\"Out-of-sample return for Market portfolio: {oos_return_mkt}\")\n"
      ]
    }
  ],
  "metadata": {
    "colab": {
      "provenance": []
    },
    "kernelspec": {
      "display_name": "base",
      "language": "python",
      "name": "python3"
    },
    "language_info": {
      "codemirror_mode": {
        "name": "ipython",
        "version": 3
      },
      "file_extension": ".py",
      "mimetype": "text/x-python",
      "name": "python",
      "nbconvert_exporter": "python",
      "pygments_lexer": "ipython3",
      "version": "3.12.2"
    }
  },
  "nbformat": 4,
  "nbformat_minor": 0
}
