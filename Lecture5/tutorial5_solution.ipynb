{
 "cells": [
  {
   "cell_type": "code",
   "execution_count": 29,
   "metadata": {},
   "outputs": [],
   "source": [
    "import yfinance as yf\n",
    "import numpy as np\n",
    "import pandas as pd\n",
    "from statsmodels.tsa.arima.model import ARIMA\n",
    "from arch import arch_model\n",
    "import matplotlib.pyplot as plt\n",
    "from scipy.stats import t"
   ]
  },
  {
   "cell_type": "code",
   "execution_count": 30,
   "metadata": {},
   "outputs": [],
   "source": [
    "stocklist = ['JNJ', 'BTC-USD', 'AAPL']\n",
    "mean_models = ['Constant', 'AR']\n",
    "vols = [\"GARCH\", \"EGARCH\"]\n",
    "dists = ['normal', 't']\n",
    "\n",
    "results = []\n"
   ]
  },
  {
   "cell_type": "code",
   "execution_count": 31,
   "metadata": {},
   "outputs": [],
   "source": [
    "def quantile_VaR(returns, confidence_level=0.95):\n",
    "    \"\"\"\n",
    "    Calculate Value at Risk (VaR) using the quantile method.\n",
    "\n",
    "    Parameters:\n",
    "        returns (array-like): Historical returns (losses should be negative).\n",
    "        confidence_level (float): Confidence level (e.g., 0.95 for 95% confidence).\n",
    "\n",
    "    Returns:\n",
    "        float: VaR (expressed as a positive number representing the potential loss).\n",
    "    \"\"\"\n",
    "    # Compute the quantile corresponding to the tail probability.\n",
    "    # For a 95% confidence level, we take the 5th percentile.\n",
    "    quantile_value = np.quantile(returns, 1 - confidence_level)\n",
    "\n",
    "    # Since losses are negative, the VaR is the absolute value of this quantile.\n",
    "    VaR = -quantile_value\n",
    "    return VaR"
   ]
  },
  {
   "cell_type": "code",
   "execution_count": null,
   "metadata": {},
   "outputs": [
    {
     "name": "stderr",
     "output_type": "stream",
     "text": [
      "[*********************100%***********************]  1 of 1 completed"
     ]
    },
    {
     "name": "stderr",
     "output_type": "stream",
     "text": [
      "\n",
      "[*********************100%***********************]  1 of 1 completed\n",
      "[*********************100%***********************]  1 of 1 completed\n"
     ]
    }
   ],
   "source": [
    "confidence_level = 0.95\n",
    "\n",
    "for stock in stocklist:\n",
    "    dprice = yf.download(stock, start=\"2015-01-01\", end=\"2025-01-01\", auto_adjust=True, interval='1wk')\n",
    "    dprice['log_return'] = 100 * np.log(dprice['Close'] / dprice['Close'].shift(1))\n",
    "    logrets = dprice['log_return'].dropna()\n",
    "    for mean in mean_models:\n",
    "        for dist in dists:\n",
    "            for vol in vols:\n",
    "                garch_model = arch_model(logrets, mean=mean, vol=vol, lags=1 if mean==\"AR\" else 0, p=1, q=1, dist=dist)\n",
    "                garch_result = garch_model.fit(disp='off')\n",
    "                garch_forecast = garch_result.forecast(horizon=1)\n",
    "\n",
    "                mean_forecast = logrets.mean()\n",
    "                sigma_forecast = np.sqrt(garch_forecast.variance.iloc[-1].values[0])\n",
    "\n",
    "                if dist == 'normal':\n",
    "                    GARCH_VaR = -mean_forecast + 1.65 * sigma_forecast\n",
    "                elif dist == 't':\n",
    "                    scale_param = (sigma_forecast * np.sqrt((garch_result.params['nu'] - 2) / garch_result.params['nu']))\n",
    "                    GARCH_VaR = -t.ppf(1 - confidence_level, garch_result.params['nu'], mean_forecast, scale_param)\n",
    "\n",
    "                quant_VaR = quantile_VaR(logrets, confidence_level=confidence_level)\n",
    "\n",
    "                results.append({'stock':stock, 'mean': mean, 'dist': dist, 'vol': vol, 'meanret': mean_forecast, 'aic': garch_result.aic, 'GARCH_VaR': GARCH_VaR, 'quant_VaR': quant_VaR})"
   ]
  },
  {
   "cell_type": "code",
   "execution_count": 33,
   "metadata": {},
   "outputs": [],
   "source": [
    "best_model = []\n",
    "\n",
    "for stock in stocklist:\n",
    "    best_mod = min([x for x in results if x['stock'] == stock], key=lambda x: x['aic']) # for each stock, select the best model based on AIC\n",
    "    best_model.append(best_mod)"
   ]
  },
  {
   "cell_type": "code",
   "execution_count": 35,
   "metadata": {},
   "outputs": [
    {
     "data": {
      "text/plain": [
       "[{'stock': 'JNJ',\n",
       "  'mean': 'AR',\n",
       "  'dist': 't',\n",
       "  'vol': 'GARCH',\n",
       "  'meanret': np.float64(0.11340282069253148),\n",
       "  'aic': 2271.0002728242193,\n",
       "  'GARCH_VaR': np.float64(3.146115256432267),\n",
       "  'quant_VaR': np.float64(3.2665112952789057)},\n",
       " {'stock': 'BTC-USD',\n",
       "  'mean': 'AR',\n",
       "  'dist': 't',\n",
       "  'vol': 'EGARCH',\n",
       "  'meanret': np.float64(1.107635362884434),\n",
       "  'aic': 3758.3470395873665,\n",
       "  'GARCH_VaR': np.float64(10.405634385255166),\n",
       "  'quant_VaR': np.float64(14.892623315471734)},\n",
       " {'stock': 'AAPL',\n",
       "  'mean': 'AR',\n",
       "  'dist': 't',\n",
       "  'vol': 'GARCH',\n",
       "  'meanret': np.float64(0.45014988003368234),\n",
       "  'aic': 2754.5547592172647,\n",
       "  'GARCH_VaR': np.float64(4.457196626896148),\n",
       "  'quant_VaR': np.float64(5.471559957029952)}]"
      ]
     },
     "execution_count": 35,
     "metadata": {},
     "output_type": "execute_result"
    }
   ],
   "source": [
    "best_model"
   ]
  },
  {
   "cell_type": "code",
   "execution_count": 50,
   "metadata": {},
   "outputs": [
    {
     "name": "stdout",
     "output_type": "stream",
     "text": [
      "[np.float64(3.2665112952789057), np.float64(14.892623315471734), np.float64(5.471559957029952)]\n",
      "The maximum allocation that satisfies the VaR constraint for each asset is {'JNJ': np.float64(1.0), 'BTC-USD': np.float64(0.33573668614887825), 'AAPL': np.float64(0.913816176605342)}\n",
      "The returns that one would obtain from the maximum allocation are {'JNJ': np.float64(0.11340282069253148), 'BTC-USD': np.float64(0.3718738261961301), 'AAPL': np.float64(0.41135424227173295)}\n"
     ]
    }
   ],
   "source": [
    "meanrets = [x['meanret'] for x in best_model]\n",
    "VaRs = [max(x['GARCH_VaR'], x['quant_VaR']) for x in best_model] # selecting the most conservative VaR estimate for each asset\n",
    "\n",
    "print(VaRs)\n",
    "\n",
    "VaR_constraint = 5 # since returns are expressed in %, the VaR constraint is also expressed in %\n",
    "max_weight = np.array([min(1, VaR_constraint / var) for var in VaRs]) # because assets are assumed to be uncorrelated, we can simply consider portfolios that contain a single asset maximising its VaR allocation and the rest in cash\n",
    "max_return = max_weight * meanrets\n",
    "weightdict = {stocklist[i]:max_weight[i] for i in range(len(stocklist))}\n",
    "retdict = {stocklist[i]:max_return[i] for i in range(len(stocklist))}\n",
    "print(f\"The maximum allocation that satisfies the VaR constraint for each asset is {weightdict}\")\n",
    "print(f\"The returns that one would obtain from the maximum allocation are {retdict}\")"
   ]
  },
  {
   "cell_type": "markdown",
   "metadata": {},
   "source": [
    "#### Hence, the optimal allocation is 91.38% funds to AAPL and 9% kept in cash, for a 1-week VaR of 4.99% and an expected 1-week return of 0.41%"
   ]
  }
 ],
 "metadata": {
  "kernelspec": {
   "display_name": "base",
   "language": "python",
   "name": "python3"
  },
  "language_info": {
   "codemirror_mode": {
    "name": "ipython",
    "version": 3
   },
   "file_extension": ".py",
   "mimetype": "text/x-python",
   "name": "python",
   "nbconvert_exporter": "python",
   "pygments_lexer": "ipython3",
   "version": "3.12.2"
  }
 },
 "nbformat": 4,
 "nbformat_minor": 2
}
